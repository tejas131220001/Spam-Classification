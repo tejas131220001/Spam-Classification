{
  "nbformat": 4,
  "nbformat_minor": 0,
  "metadata": {
    "colab": {
      "provenance": []
    },
    "kernelspec": {
      "name": "python3",
      "display_name": "Python 3"
    },
    "language_info": {
      "name": "python"
    }
  },
  "cells": [
    {
      "cell_type": "code",
      "execution_count": null,
      "metadata": {
        "id": "veN6cc3LuuHl"
      },
      "outputs": [],
      "source": [
        "import pandas as pd\n",
        "import seaborn as sns\n",
        "from matplotlib import pyplot as plt\n",
        "import numpy as np"
      ]
    },
    {
      "cell_type": "code",
      "source": [
        "df=pd.read_csv('spam_clean.csv',encoding='latin-1')"
      ],
      "metadata": {
        "id": "NYnrllaSW_Z4"
      },
      "execution_count": null,
      "outputs": []
    },
    {
      "cell_type": "code",
      "source": [
        "df.head()"
      ],
      "metadata": {
        "colab": {
          "base_uri": "https://localhost:8080/",
          "height": 206
        },
        "id": "S0Upse3yXKca",
        "outputId": "ca3b15ab-9dbe-4878-97f1-90d801bfa0d4"
      },
      "execution_count": null,
      "outputs": [
        {
          "output_type": "execute_result",
          "data": {
            "text/plain": [
              "   type                                            message\n",
              "0   ham  Go until jurong point, crazy.. Available only ...\n",
              "1   ham                      Ok lar... Joking wif u oni...\n",
              "2  spam  Free entry in 2 a wkly comp to win FA Cup fina...\n",
              "3   ham  U dun say so early hor... U c already then say...\n",
              "4   ham  Nah I don't think he goes to usf, he lives aro..."
            ],
            "text/html": [
              "\n",
              "\n",
              "  <div id=\"df-c0c5a52d-af72-46e0-928f-1e27446e5a99\">\n",
              "    <div class=\"colab-df-container\">\n",
              "      <div>\n",
              "<style scoped>\n",
              "    .dataframe tbody tr th:only-of-type {\n",
              "        vertical-align: middle;\n",
              "    }\n",
              "\n",
              "    .dataframe tbody tr th {\n",
              "        vertical-align: top;\n",
              "    }\n",
              "\n",
              "    .dataframe thead th {\n",
              "        text-align: right;\n",
              "    }\n",
              "</style>\n",
              "<table border=\"1\" class=\"dataframe\">\n",
              "  <thead>\n",
              "    <tr style=\"text-align: right;\">\n",
              "      <th></th>\n",
              "      <th>type</th>\n",
              "      <th>message</th>\n",
              "    </tr>\n",
              "  </thead>\n",
              "  <tbody>\n",
              "    <tr>\n",
              "      <th>0</th>\n",
              "      <td>ham</td>\n",
              "      <td>Go until jurong point, crazy.. Available only ...</td>\n",
              "    </tr>\n",
              "    <tr>\n",
              "      <th>1</th>\n",
              "      <td>ham</td>\n",
              "      <td>Ok lar... Joking wif u oni...</td>\n",
              "    </tr>\n",
              "    <tr>\n",
              "      <th>2</th>\n",
              "      <td>spam</td>\n",
              "      <td>Free entry in 2 a wkly comp to win FA Cup fina...</td>\n",
              "    </tr>\n",
              "    <tr>\n",
              "      <th>3</th>\n",
              "      <td>ham</td>\n",
              "      <td>U dun say so early hor... U c already then say...</td>\n",
              "    </tr>\n",
              "    <tr>\n",
              "      <th>4</th>\n",
              "      <td>ham</td>\n",
              "      <td>Nah I don't think he goes to usf, he lives aro...</td>\n",
              "    </tr>\n",
              "  </tbody>\n",
              "</table>\n",
              "</div>\n",
              "      <button class=\"colab-df-convert\" onclick=\"convertToInteractive('df-c0c5a52d-af72-46e0-928f-1e27446e5a99')\"\n",
              "              title=\"Convert this dataframe to an interactive table.\"\n",
              "              style=\"display:none;\">\n",
              "\n",
              "  <svg xmlns=\"http://www.w3.org/2000/svg\" height=\"24px\"viewBox=\"0 0 24 24\"\n",
              "       width=\"24px\">\n",
              "    <path d=\"M0 0h24v24H0V0z\" fill=\"none\"/>\n",
              "    <path d=\"M18.56 5.44l.94 2.06.94-2.06 2.06-.94-2.06-.94-.94-2.06-.94 2.06-2.06.94zm-11 1L8.5 8.5l.94-2.06 2.06-.94-2.06-.94L8.5 2.5l-.94 2.06-2.06.94zm10 10l.94 2.06.94-2.06 2.06-.94-2.06-.94-.94-2.06-.94 2.06-2.06.94z\"/><path d=\"M17.41 7.96l-1.37-1.37c-.4-.4-.92-.59-1.43-.59-.52 0-1.04.2-1.43.59L10.3 9.45l-7.72 7.72c-.78.78-.78 2.05 0 2.83L4 21.41c.39.39.9.59 1.41.59.51 0 1.02-.2 1.41-.59l7.78-7.78 2.81-2.81c.8-.78.8-2.07 0-2.86zM5.41 20L4 18.59l7.72-7.72 1.47 1.35L5.41 20z\"/>\n",
              "  </svg>\n",
              "      </button>\n",
              "\n",
              "\n",
              "\n",
              "    <div id=\"df-41a37245-f356-4dfd-9f41-6c2a44bb2284\">\n",
              "      <button class=\"colab-df-quickchart\" onclick=\"quickchart('df-41a37245-f356-4dfd-9f41-6c2a44bb2284')\"\n",
              "              title=\"Suggest charts.\"\n",
              "              style=\"display:none;\">\n",
              "\n",
              "<svg xmlns=\"http://www.w3.org/2000/svg\" height=\"24px\"viewBox=\"0 0 24 24\"\n",
              "     width=\"24px\">\n",
              "    <g>\n",
              "        <path d=\"M19 3H5c-1.1 0-2 .9-2 2v14c0 1.1.9 2 2 2h14c1.1 0 2-.9 2-2V5c0-1.1-.9-2-2-2zM9 17H7v-7h2v7zm4 0h-2V7h2v10zm4 0h-2v-4h2v4z\"/>\n",
              "    </g>\n",
              "</svg>\n",
              "      </button>\n",
              "    </div>\n",
              "\n",
              "<style>\n",
              "  .colab-df-quickchart {\n",
              "    background-color: #E8F0FE;\n",
              "    border: none;\n",
              "    border-radius: 50%;\n",
              "    cursor: pointer;\n",
              "    display: none;\n",
              "    fill: #1967D2;\n",
              "    height: 32px;\n",
              "    padding: 0 0 0 0;\n",
              "    width: 32px;\n",
              "  }\n",
              "\n",
              "  .colab-df-quickchart:hover {\n",
              "    background-color: #E2EBFA;\n",
              "    box-shadow: 0px 1px 2px rgba(60, 64, 67, 0.3), 0px 1px 3px 1px rgba(60, 64, 67, 0.15);\n",
              "    fill: #174EA6;\n",
              "  }\n",
              "\n",
              "  [theme=dark] .colab-df-quickchart {\n",
              "    background-color: #3B4455;\n",
              "    fill: #D2E3FC;\n",
              "  }\n",
              "\n",
              "  [theme=dark] .colab-df-quickchart:hover {\n",
              "    background-color: #434B5C;\n",
              "    box-shadow: 0px 1px 3px 1px rgba(0, 0, 0, 0.15);\n",
              "    filter: drop-shadow(0px 1px 2px rgba(0, 0, 0, 0.3));\n",
              "    fill: #FFFFFF;\n",
              "  }\n",
              "</style>\n",
              "\n",
              "    <script>\n",
              "      async function quickchart(key) {\n",
              "        const containerElement = document.querySelector('#' + key);\n",
              "        const charts = await google.colab.kernel.invokeFunction(\n",
              "            'suggestCharts', [key], {});\n",
              "      }\n",
              "    </script>\n",
              "\n",
              "      <script>\n",
              "\n",
              "function displayQuickchartButton(domScope) {\n",
              "  let quickchartButtonEl =\n",
              "    domScope.querySelector('#df-41a37245-f356-4dfd-9f41-6c2a44bb2284 button.colab-df-quickchart');\n",
              "  quickchartButtonEl.style.display =\n",
              "    google.colab.kernel.accessAllowed ? 'block' : 'none';\n",
              "}\n",
              "\n",
              "        displayQuickchartButton(document);\n",
              "      </script>\n",
              "      <style>\n",
              "    .colab-df-container {\n",
              "      display:flex;\n",
              "      flex-wrap:wrap;\n",
              "      gap: 12px;\n",
              "    }\n",
              "\n",
              "    .colab-df-convert {\n",
              "      background-color: #E8F0FE;\n",
              "      border: none;\n",
              "      border-radius: 50%;\n",
              "      cursor: pointer;\n",
              "      display: none;\n",
              "      fill: #1967D2;\n",
              "      height: 32px;\n",
              "      padding: 0 0 0 0;\n",
              "      width: 32px;\n",
              "    }\n",
              "\n",
              "    .colab-df-convert:hover {\n",
              "      background-color: #E2EBFA;\n",
              "      box-shadow: 0px 1px 2px rgba(60, 64, 67, 0.3), 0px 1px 3px 1px rgba(60, 64, 67, 0.15);\n",
              "      fill: #174EA6;\n",
              "    }\n",
              "\n",
              "    [theme=dark] .colab-df-convert {\n",
              "      background-color: #3B4455;\n",
              "      fill: #D2E3FC;\n",
              "    }\n",
              "\n",
              "    [theme=dark] .colab-df-convert:hover {\n",
              "      background-color: #434B5C;\n",
              "      box-shadow: 0px 1px 3px 1px rgba(0, 0, 0, 0.15);\n",
              "      filter: drop-shadow(0px 1px 2px rgba(0, 0, 0, 0.3));\n",
              "      fill: #FFFFFF;\n",
              "    }\n",
              "  </style>\n",
              "\n",
              "      <script>\n",
              "        const buttonEl =\n",
              "          document.querySelector('#df-c0c5a52d-af72-46e0-928f-1e27446e5a99 button.colab-df-convert');\n",
              "        buttonEl.style.display =\n",
              "          google.colab.kernel.accessAllowed ? 'block' : 'none';\n",
              "\n",
              "        async function convertToInteractive(key) {\n",
              "          const element = document.querySelector('#df-c0c5a52d-af72-46e0-928f-1e27446e5a99');\n",
              "          const dataTable =\n",
              "            await google.colab.kernel.invokeFunction('convertToInteractive',\n",
              "                                                     [key], {});\n",
              "          if (!dataTable) return;\n",
              "\n",
              "          const docLinkHtml = 'Like what you see? Visit the ' +\n",
              "            '<a target=\"_blank\" href=https://colab.research.google.com/notebooks/data_table.ipynb>data table notebook</a>'\n",
              "            + ' to learn more about interactive tables.';\n",
              "          element.innerHTML = '';\n",
              "          dataTable['output_type'] = 'display_data';\n",
              "          await google.colab.output.renderOutput(dataTable, element);\n",
              "          const docLink = document.createElement('div');\n",
              "          docLink.innerHTML = docLinkHtml;\n",
              "          element.appendChild(docLink);\n",
              "        }\n",
              "      </script>\n",
              "    </div>\n",
              "  </div>\n"
            ]
          },
          "metadata": {},
          "execution_count": 4
        }
      ]
    },
    {
      "cell_type": "code",
      "source": [
        "df.info()"
      ],
      "metadata": {
        "colab": {
          "base_uri": "https://localhost:8080/"
        },
        "id": "iPwfAF2ZXt08",
        "outputId": "4e6fa9be-3f02-419b-b64c-990baace5f98"
      },
      "execution_count": null,
      "outputs": [
        {
          "output_type": "stream",
          "name": "stdout",
          "text": [
            "<class 'pandas.core.frame.DataFrame'>\n",
            "RangeIndex: 5572 entries, 0 to 5571\n",
            "Data columns (total 2 columns):\n",
            " #   Column   Non-Null Count  Dtype \n",
            "---  ------   --------------  ----- \n",
            " 0   type     5572 non-null   object\n",
            " 1   message  5572 non-null   object\n",
            "dtypes: object(2)\n",
            "memory usage: 87.2+ KB\n"
          ]
        }
      ]
    },
    {
      "cell_type": "code",
      "source": [
        "sns.countplot(x=df['type'])"
      ],
      "metadata": {
        "colab": {
          "base_uri": "https://localhost:8080/",
          "height": 467
        },
        "id": "kMf2LjFPX1-t",
        "outputId": "55939e86-8483-4e99-c1e0-0c7f9457f383"
      },
      "execution_count": null,
      "outputs": [
        {
          "output_type": "execute_result",
          "data": {
            "text/plain": [
              "<Axes: xlabel='type', ylabel='count'>"
            ]
          },
          "metadata": {},
          "execution_count": 6
        },
        {
          "output_type": "display_data",
          "data": {
            "text/plain": [
              "<Figure size 640x480 with 1 Axes>"
            ],
            "image/png": "[encoded data removed]"
          },
          "metadata": {}
        }
      ]
    },
    {
      "cell_type": "code",
      "source": [
        "df['type'].value_counts(normalize=True)"
      ],
      "metadata": {
        "colab": {
          "base_uri": "https://localhost:8080/"
        },
        "id": "bI8OBX5wX9u-",
        "outputId": "17965ce0-801a-4a6e-f860-33886897d8f8"
      },
      "execution_count": null,
      "outputs": [
        {
          "output_type": "execute_result",
          "data": {
            "text/plain": [
              "ham     0.865937\n",
              "spam    0.134063\n",
              "Name: type, dtype: float64"
            ]
          },
          "metadata": {},
          "execution_count": 7
        }
      ]
    },
    {
      "cell_type": "code",
      "source": [
        "import nltk\n",
        "nltk.download('punkt')\n",
        "nltk.download('stopwords')\n",
        "from nltk import word_tokenize, sent_tokenize\n",
        "from nltk.corpus import stopwords"
      ],
      "metadata": {
        "colab": {
          "base_uri": "https://localhost:8080/"
        },
        "id": "7TSBXKyrYPtA",
        "outputId": "ffb502de-ee68-4ce2-eab5-da8541dc69de"
      },
      "execution_count": null,
      "outputs": [
        {
          "output_type": "stream",
          "name": "stderr",
          "text": [
            "[nltk_data] Downloading package punkt to /root/nltk_data...\n",
            "[nltk_data]   Unzipping tokenizers/punkt.zip.\n",
            "[nltk_data] Downloading package stopwords to /root/nltk_data...\n",
            "[nltk_data]   Unzipping corpora/stopwords.zip.\n"
          ]
        }
      ]
    },
    {
      "cell_type": "code",
      "source": [
        "import re\n",
        "def clean_tokenized_sentence(s):\n",
        "  cleaned_s=''\n",
        "  words=nltk.word_tokenize(s)\n",
        "  for word in words:\n",
        "    word=word.lower()\n",
        "    word=re.sub(r'[^\\w\\s]','',word)\n",
        "    if word=='not':\n",
        "      cleaned_s=cleaned_s+' '+word\n",
        "    elif word!='' and word not in stopwords.words('english'):\n",
        "      cleaned_s=cleaned_s+' '+word\n",
        "  return cleaned_s.strip()\n",
        "\n",
        "\n"
      ],
      "metadata": {
        "id": "H3gvtjs-gJiH"
      },
      "execution_count": null,
      "outputs": []
    },
    {
      "cell_type": "code",
      "source": [
        "df['cleaned_message']=df['message'].apply(clean_tokenized_sentence)"
      ],
      "metadata": {
        "id": "ZbkTMNNIqYzp"
      },
      "execution_count": null,
      "outputs": []
    },
    {
      "cell_type": "code",
      "source": [
        "df.head(7)"
      ],
      "metadata": {
        "colab": {
          "base_uri": "https://localhost:8080/",
          "height": 269
        },
        "id": "IcsW6IkfqsVH",
        "outputId": "fd5fd8d2-14ac-4657-8601-c548499a6e26"
      },
      "execution_count": null,
      "outputs": [
        {
          "output_type": "execute_result",
          "data": {
            "text/plain": [
              "   type                                            message  \\\n",
              "0   ham  Go until jurong point, crazy.. Available only ...   \n",
              "1   ham                      Ok lar... Joking wif u oni...   \n",
              "2  spam  Free entry in 2 a wkly comp to win FA Cup fina...   \n",
              "3   ham  U dun say so early hor... U c already then say...   \n",
              "4   ham  Nah I don't think he goes to usf, he lives aro...   \n",
              "5  spam  FreeMsg Hey there darling it's been 3 week's n...   \n",
              "6   ham  Even my brother is not like to speak with me. ...   \n",
              "\n",
              "                                     cleaned_message  \n",
              "0  go jurong point crazy available bugis n great ...  \n",
              "1                            ok lar joking wif u oni  \n",
              "2  free entry 2 wkly comp win fa cup final tkts 2...  \n",
              "3                u dun say early hor u c already say  \n",
              "4          nah nt think goes usf lives around though  \n",
              "5  freemsg hey darling 3 week word back like fun ...  \n",
              "6  even brother not like speak treat like aids pa...  "
            ],
            "text/html": [
              "\n",
              "\n",
              "  <div id=\"df-c0445de6-6496-42e2-a56a-28e5ab9085fb\">\n",
              "    <div class=\"colab-df-container\">\n",
              "      <div>\n",
              "<style scoped>\n",
              "    .dataframe tbody tr th:only-of-type {\n",
              "        vertical-align: middle;\n",
              "    }\n",
              "\n",
              "    .dataframe tbody tr th {\n",
              "        vertical-align: top;\n",
              "    }\n",
              "\n",
              "    .dataframe thead th {\n",
              "        text-align: right;\n",
              "    }\n",
              "</style>\n",
              "<table border=\"1\" class=\"dataframe\">\n",
              "  <thead>\n",
              "    <tr style=\"text-align: right;\">\n",
              "      <th></th>\n",
              "      <th>type</th>\n",
              "      <th>message</th>\n",
              "      <th>cleaned_message</th>\n",
              "    </tr>\n",
              "  </thead>\n",
              "  <tbody>\n",
              "    <tr>\n",
              "      <th>0</th>\n",
              "      <td>ham</td>\n",
              "      <td>Go until jurong point, crazy.. Available only ...</td>\n",
              "      <td>go jurong point crazy available bugis n great ...</td>\n",
              "    </tr>\n",
              "    <tr>\n",
              "      <th>1</th>\n",
              "      <td>ham</td>\n",
              "      <td>Ok lar... Joking wif u oni...</td>\n",
              "      <td>ok lar joking wif u oni</td>\n",
              "    </tr>\n",
              "    <tr>\n",
              "      <th>2</th>\n",
              "      <td>spam</td>\n",
              "      <td>Free entry in 2 a wkly comp to win FA Cup fina...</td>\n",
              "      <td>free entry 2 wkly comp win fa cup final tkts 2...</td>\n",
              "    </tr>\n",
              "    <tr>\n",
              "      <th>3</th>\n",
              "      <td>ham</td>\n",
              "      <td>U dun say so early hor... U c already then say...</td>\n",
              "      <td>u dun say early hor u c already say</td>\n",
              "    </tr>\n",
              "    <tr>\n",
              "      <th>4</th>\n",
              "      <td>ham</td>\n",
              "      <td>Nah I don't think he goes to usf, he lives aro...</td>\n",
              "      <td>nah nt think goes usf lives around though</td>\n",
              "    </tr>\n",
              "    <tr>\n",
              "      <th>5</th>\n",
              "      <td>spam</td>\n",
              "      <td>FreeMsg Hey there darling it's been 3 week's n...</td>\n",
              "      <td>freemsg hey darling 3 week word back like fun ...</td>\n",
              "    </tr>\n",
              "    <tr>\n",
              "      <th>6</th>\n",
              "      <td>ham</td>\n",
              "      <td>Even my brother is not like to speak with me. ...</td>\n",
              "      <td>even brother not like speak treat like aids pa...</td>\n",
              "    </tr>\n",
              "  </tbody>\n",
              "</table>\n",
              "</div>\n",
              "      <button class=\"colab-df-convert\" onclick=\"convertToInteractive('df-c0445de6-6496-42e2-a56a-28e5ab9085fb')\"\n",
              "              title=\"Convert this dataframe to an interactive table.\"\n",
              "              style=\"display:none;\">\n",
              "\n",
              "  <svg xmlns=\"http://www.w3.org/2000/svg\" height=\"24px\"viewBox=\"0 0 24 24\"\n",
              "       width=\"24px\">\n",
              "    <path d=\"M0 0h24v24H0V0z\" fill=\"none\"/>\n",
              "    <path d=\"M18.56 5.44l.94 2.06.94-2.06 2.06-.94-2.06-.94-.94-2.06-.94 2.06-2.06.94zm-11 1L8.5 8.5l.94-2.06 2.06-.94-2.06-.94L8.5 2.5l-.94 2.06-2.06.94zm10 10l.94 2.06.94-2.06 2.06-.94-2.06-.94-.94-2.06-.94 2.06-2.06.94z\"/><path d=\"M17.41 7.96l-1.37-1.37c-.4-.4-.92-.59-1.43-.59-.52 0-1.04.2-1.43.59L10.3 9.45l-7.72 7.72c-.78.78-.78 2.05 0 2.83L4 21.41c.39.39.9.59 1.41.59.51 0 1.02-.2 1.41-.59l7.78-7.78 2.81-2.81c.8-.78.8-2.07 0-2.86zM5.41 20L4 18.59l7.72-7.72 1.47 1.35L5.41 20z\"/>\n",
              "  </svg>\n",
              "      </button>\n",
              "\n",
              "\n",
              "\n",
              "    <div id=\"df-3c01484a-39f6-4fd3-bba0-f91e14ce630f\">\n",
              "      <button class=\"colab-df-quickchart\" onclick=\"quickchart('df-3c01484a-39f6-4fd3-bba0-f91e14ce630f')\"\n",
              "              title=\"Suggest charts.\"\n",
              "              style=\"display:none;\">\n",
              "\n",
              "<svg xmlns=\"http://www.w3.org/2000/svg\" height=\"24px\"viewBox=\"0 0 24 24\"\n",
              "     width=\"24px\">\n",
              "    <g>\n",
              "        <path d=\"M19 3H5c-1.1 0-2 .9-2 2v14c0 1.1.9 2 2 2h14c1.1 0 2-.9 2-2V5c0-1.1-.9-2-2-2zM9 17H7v-7h2v7zm4 0h-2V7h2v10zm4 0h-2v-4h2v4z\"/>\n",
              "    </g>\n",
              "</svg>\n",
              "      </button>\n",
              "    </div>\n",
              "\n",
              "<style>\n",
              "  .colab-df-quickchart {\n",
              "    background-color: #E8F0FE;\n",
              "    border: none;\n",
              "    border-radius: 50%;\n",
              "    cursor: pointer;\n",
              "    display: none;\n",
              "    fill: #1967D2;\n",
              "    height: 32px;\n",
              "    padding: 0 0 0 0;\n",
              "    width: 32px;\n",
              "  }\n",
              "\n",
              "  .colab-df-quickchart:hover {\n",
              "    background-color: #E2EBFA;\n",
              "    box-shadow: 0px 1px 2px rgba(60, 64, 67, 0.3), 0px 1px 3px 1px rgba(60, 64, 67, 0.15);\n",
              "    fill: #174EA6;\n",
              "  }\n",
              "\n",
              "  [theme=dark] .colab-df-quickchart {\n",
              "    background-color: #3B4455;\n",
              "    fill: #D2E3FC;\n",
              "  }\n",
              "\n",
              "  [theme=dark] .colab-df-quickchart:hover {\n",
              "    background-color: #434B5C;\n",
              "    box-shadow: 0px 1px 3px 1px rgba(0, 0, 0, 0.15);\n",
              "    filter: drop-shadow(0px 1px 2px rgba(0, 0, 0, 0.3));\n",
              "    fill: #FFFFFF;\n",
              "  }\n",
              "</style>\n",
              "\n",
              "    <script>\n",
              "      async function quickchart(key) {\n",
              "        const containerElement = document.querySelector('#' + key);\n",
              "        const charts = await google.colab.kernel.invokeFunction(\n",
              "            'suggestCharts', [key], {});\n",
              "      }\n",
              "    </script>\n",
              "\n",
              "      <script>\n",
              "\n",
              "function displayQuickchartButton(domScope) {\n",
              "  let quickchartButtonEl =\n",
              "    domScope.querySelector('#df-3c01484a-39f6-4fd3-bba0-f91e14ce630f button.colab-df-quickchart');\n",
              "  quickchartButtonEl.style.display =\n",
              "    google.colab.kernel.accessAllowed ? 'block' : 'none';\n",
              "}\n",
              "\n",
              "        displayQuickchartButton(document);\n",
              "      </script>\n",
              "      <style>\n",
              "    .colab-df-container {\n",
              "      display:flex;\n",
              "      flex-wrap:wrap;\n",
              "      gap: 12px;\n",
              "    }\n",
              "\n",
              "    .colab-df-convert {\n",
              "      background-color: #E8F0FE;\n",
              "      border: none;\n",
              "      border-radius: 50%;\n",
              "      cursor: pointer;\n",
              "      display: none;\n",
              "      fill: #1967D2;\n",
              "      height: 32px;\n",
              "      padding: 0 0 0 0;\n",
              "      width: 32px;\n",
              "    }\n",
              "\n",
              "    .colab-df-convert:hover {\n",
              "      background-color: #E2EBFA;\n",
              "      box-shadow: 0px 1px 2px rgba(60, 64, 67, 0.3), 0px 1px 3px 1px rgba(60, 64, 67, 0.15);\n",
              "      fill: #174EA6;\n",
              "    }\n",
              "\n",
              "    [theme=dark] .colab-df-convert {\n",
              "      background-color: #3B4455;\n",
              "      fill: #D2E3FC;\n",
              "    }\n",
              "\n",
              "    [theme=dark] .colab-df-convert:hover {\n",
              "      background-color: #434B5C;\n",
              "      box-shadow: 0px 1px 3px 1px rgba(0, 0, 0, 0.15);\n",
              "      filter: drop-shadow(0px 1px 2px rgba(0, 0, 0, 0.3));\n",
              "      fill: #FFFFFF;\n",
              "    }\n",
              "  </style>\n",
              "\n",
              "      <script>\n",
              "        const buttonEl =\n",
              "          document.querySelector('#df-c0445de6-6496-42e2-a56a-28e5ab9085fb button.colab-df-convert');\n",
              "        buttonEl.style.display =\n",
              "          google.colab.kernel.accessAllowed ? 'block' : 'none';\n",
              "\n",
              "        async function convertToInteractive(key) {\n",
              "          const element = document.querySelector('#df-c0445de6-6496-42e2-a56a-28e5ab9085fb');\n",
              "          const dataTable =\n",
              "            await google.colab.kernel.invokeFunction('convertToInteractive',\n",
              "                                                     [key], {});\n",
              "          if (!dataTable) return;\n",
              "\n",
              "          const docLinkHtml = 'Like what you see? Visit the ' +\n",
              "            '<a target=\"_blank\" href=https://colab.research.google.com/notebooks/data_table.ipynb>data table notebook</a>'\n",
              "            + ' to learn more about interactive tables.';\n",
              "          element.innerHTML = '';\n",
              "          dataTable['output_type'] = 'display_data';\n",
              "          await google.colab.output.renderOutput(dataTable, element);\n",
              "          const docLink = document.createElement('div');\n",
              "          docLink.innerHTML = docLinkHtml;\n",
              "          element.appendChild(docLink);\n",
              "        }\n",
              "      </script>\n",
              "    </div>\n",
              "  </div>\n"
            ]
          },
          "metadata": {},
          "execution_count": 11
        }
      ]
    },
    {
      "cell_type": "code",
      "source": [
        "ham_df=df[df['type']=='ham']\n",
        "ham_df.head()"
      ],
      "metadata": {
        "colab": {
          "base_uri": "https://localhost:8080/",
          "height": 206
        },
        "id": "TKI5Z5G1suiq",
        "outputId": "31532d1b-fefe-49a6-b26c-21ab82d01374"
      },
      "execution_count": null,
      "outputs": [
        {
          "output_type": "execute_result",
          "data": {
            "text/plain": [
              "  type                                            message  \\\n",
              "0  ham  Go until jurong point, crazy.. Available only ...   \n",
              "1  ham                      Ok lar... Joking wif u oni...   \n",
              "3  ham  U dun say so early hor... U c already then say...   \n",
              "4  ham  Nah I don't think he goes to usf, he lives aro...   \n",
              "6  ham  Even my brother is not like to speak with me. ...   \n",
              "\n",
              "                                     cleaned_message  \n",
              "0  go jurong point crazy available bugis n great ...  \n",
              "1                            ok lar joking wif u oni  \n",
              "3                u dun say early hor u c already say  \n",
              "4          nah nt think goes usf lives around though  \n",
              "6  even brother not like speak treat like aids pa...  "
            ],
            "text/html": [
              "\n",
              "\n",
              "  <div id=\"df-b4de6986-c362-40bd-9d00-1213320bef94\">\n",
              "    <div class=\"colab-df-container\">\n",
              "      <div>\n",
              "<style scoped>\n",
              "    .dataframe tbody tr th:only-of-type {\n",
              "        vertical-align: middle;\n",
              "    }\n",
              "\n",
              "    .dataframe tbody tr th {\n",
              "        vertical-align: top;\n",
              "    }\n",
              "\n",
              "    .dataframe thead th {\n",
              "        text-align: right;\n",
              "    }\n",
              "</style>\n",
              "<table border=\"1\" class=\"dataframe\">\n",
              "  <thead>\n",
              "    <tr style=\"text-align: right;\">\n",
              "      <th></th>\n",
              "      <th>type</th>\n",
              "      <th>message</th>\n",
              "      <th>cleaned_message</th>\n",
              "    </tr>\n",
              "  </thead>\n",
              "  <tbody>\n",
              "    <tr>\n",
              "      <th>0</th>\n",
              "      <td>ham</td>\n",
              "      <td>Go until jurong point, crazy.. Available only ...</td>\n",
              "      <td>go jurong point crazy available bugis n great ...</td>\n",
              "    </tr>\n",
              "    <tr>\n",
              "      <th>1</th>\n",
              "      <td>ham</td>\n",
              "      <td>Ok lar... Joking wif u oni...</td>\n",
              "      <td>ok lar joking wif u oni</td>\n",
              "    </tr>\n",
              "    <tr>\n",
              "      <th>3</th>\n",
              "      <td>ham</td>\n",
              "      <td>U dun say so early hor... U c already then say...</td>\n",
              "      <td>u dun say early hor u c already say</td>\n",
              "    </tr>\n",
              "    <tr>\n",
              "      <th>4</th>\n",
              "      <td>ham</td>\n",
              "      <td>Nah I don't think he goes to usf, he lives aro...</td>\n",
              "      <td>nah nt think goes usf lives around though</td>\n",
              "    </tr>\n",
              "    <tr>\n",
              "      <th>6</th>\n",
              "      <td>ham</td>\n",
              "      <td>Even my brother is not like to speak with me. ...</td>\n",
              "      <td>even brother not like speak treat like aids pa...</td>\n",
              "    </tr>\n",
              "  </tbody>\n",
              "</table>\n",
              "</div>\n",
              "      <button class=\"colab-df-convert\" onclick=\"convertToInteractive('df-b4de6986-c362-40bd-9d00-1213320bef94')\"\n",
              "              title=\"Convert this dataframe to an interactive table.\"\n",
              "              style=\"display:none;\">\n",
              "\n",
              "  <svg xmlns=\"http://www.w3.org/2000/svg\" height=\"24px\"viewBox=\"0 0 24 24\"\n",
              "       width=\"24px\">\n",
              "    <path d=\"M0 0h24v24H0V0z\" fill=\"none\"/>\n",
              "    <path d=\"M18.56 5.44l.94 2.06.94-2.06 2.06-.94-2.06-.94-.94-2.06-.94 2.06-2.06.94zm-11 1L8.5 8.5l.94-2.06 2.06-.94-2.06-.94L8.5 2.5l-.94 2.06-2.06.94zm10 10l.94 2.06.94-2.06 2.06-.94-2.06-.94-.94-2.06-.94 2.06-2.06.94z\"/><path d=\"M17.41 7.96l-1.37-1.37c-.4-.4-.92-.59-1.43-.59-.52 0-1.04.2-1.43.59L10.3 9.45l-7.72 7.72c-.78.78-.78 2.05 0 2.83L4 21.41c.39.39.9.59 1.41.59.51 0 1.02-.2 1.41-.59l7.78-7.78 2.81-2.81c.8-.78.8-2.07 0-2.86zM5.41 20L4 18.59l7.72-7.72 1.47 1.35L5.41 20z\"/>\n",
              "  </svg>\n",
              "      </button>\n",
              "\n",
              "\n",
              "\n",
              "    <div id=\"df-e0c2cb8c-6a22-4b88-9c33-f8107b11f46b\">\n",
              "      <button class=\"colab-df-quickchart\" onclick=\"quickchart('df-e0c2cb8c-6a22-4b88-9c33-f8107b11f46b')\"\n",
              "              title=\"Suggest charts.\"\n",
              "              style=\"display:none;\">\n",
              "\n",
              "<svg xmlns=\"http://www.w3.org/2000/svg\" height=\"24px\"viewBox=\"0 0 24 24\"\n",
              "     width=\"24px\">\n",
              "    <g>\n",
              "        <path d=\"M19 3H5c-1.1 0-2 .9-2 2v14c0 1.1.9 2 2 2h14c1.1 0 2-.9 2-2V5c0-1.1-.9-2-2-2zM9 17H7v-7h2v7zm4 0h-2V7h2v10zm4 0h-2v-4h2v4z\"/>\n",
              "    </g>\n",
              "</svg>\n",
              "      </button>\n",
              "    </div>\n",
              "\n",
              "<style>\n",
              "  .colab-df-quickchart {\n",
              "    background-color: #E8F0FE;\n",
              "    border: none;\n",
              "    border-radius: 50%;\n",
              "    cursor: pointer;\n",
              "    display: none;\n",
              "    fill: #1967D2;\n",
              "    height: 32px;\n",
              "    padding: 0 0 0 0;\n",
              "    width: 32px;\n",
              "  }\n",
              "\n",
              "  .colab-df-quickchart:hover {\n",
              "    background-color: #E2EBFA;\n",
              "    box-shadow: 0px 1px 2px rgba(60, 64, 67, 0.3), 0px 1px 3px 1px rgba(60, 64, 67, 0.15);\n",
              "    fill: #174EA6;\n",
              "  }\n",
              "\n",
              "  [theme=dark] .colab-df-quickchart {\n",
              "    background-color: #3B4455;\n",
              "    fill: #D2E3FC;\n",
              "  }\n",
              "\n",
              "  [theme=dark] .colab-df-quickchart:hover {\n",
              "    background-color: #434B5C;\n",
              "    box-shadow: 0px 1px 3px 1px rgba(0, 0, 0, 0.15);\n",
              "    filter: drop-shadow(0px 1px 2px rgba(0, 0, 0, 0.3));\n",
              "    fill: #FFFFFF;\n",
              "  }\n",
              "</style>\n",
              "\n",
              "    <script>\n",
              "      async function quickchart(key) {\n",
              "        const containerElement = document.querySelector('#' + key);\n",
              "        const charts = await google.colab.kernel.invokeFunction(\n",
              "            'suggestCharts', [key], {});\n",
              "      }\n",
              "    </script>\n",
              "\n",
              "      <script>\n",
              "\n",
              "function displayQuickchartButton(domScope) {\n",
              "  let quickchartButtonEl =\n",
              "    domScope.querySelector('#df-e0c2cb8c-6a22-4b88-9c33-f8107b11f46b button.colab-df-quickchart');\n",
              "  quickchartButtonEl.style.display =\n",
              "    google.colab.kernel.accessAllowed ? 'block' : 'none';\n",
              "}\n",
              "\n",
              "        displayQuickchartButton(document);\n",
              "      </script>\n",
              "      <style>\n",
              "    .colab-df-container {\n",
              "      display:flex;\n",
              "      flex-wrap:wrap;\n",
              "      gap: 12px;\n",
              "    }\n",
              "\n",
              "    .colab-df-convert {\n",
              "      background-color: #E8F0FE;\n",
              "      border: none;\n",
              "      border-radius: 50%;\n",
              "      cursor: pointer;\n",
              "      display: none;\n",
              "      fill: #1967D2;\n",
              "      height: 32px;\n",
              "      padding: 0 0 0 0;\n",
              "      width: 32px;\n",
              "    }\n",
              "\n",
              "    .colab-df-convert:hover {\n",
              "      background-color: #E2EBFA;\n",
              "      box-shadow: 0px 1px 2px rgba(60, 64, 67, 0.3), 0px 1px 3px 1px rgba(60, 64, 67, 0.15);\n",
              "      fill: #174EA6;\n",
              "    }\n",
              "\n",
              "    [theme=dark] .colab-df-convert {\n",
              "      background-color: #3B4455;\n",
              "      fill: #D2E3FC;\n",
              "    }\n",
              "\n",
              "    [theme=dark] .colab-df-convert:hover {\n",
              "      background-color: #434B5C;\n",
              "      box-shadow: 0px 1px 3px 1px rgba(0, 0, 0, 0.15);\n",
              "      filter: drop-shadow(0px 1px 2px rgba(0, 0, 0, 0.3));\n",
              "      fill: #FFFFFF;\n",
              "    }\n",
              "  </style>\n",
              "\n",
              "      <script>\n",
              "        const buttonEl =\n",
              "          document.querySelector('#df-b4de6986-c362-40bd-9d00-1213320bef94 button.colab-df-convert');\n",
              "        buttonEl.style.display =\n",
              "          google.colab.kernel.accessAllowed ? 'block' : 'none';\n",
              "\n",
              "        async function convertToInteractive(key) {\n",
              "          const element = document.querySelector('#df-b4de6986-c362-40bd-9d00-1213320bef94');\n",
              "          const dataTable =\n",
              "            await google.colab.kernel.invokeFunction('convertToInteractive',\n",
              "                                                     [key], {});\n",
              "          if (!dataTable) return;\n",
              "\n",
              "          const docLinkHtml = 'Like what you see? Visit the ' +\n",
              "            '<a target=\"_blank\" href=https://colab.research.google.com/notebooks/data_table.ipynb>data table notebook</a>'\n",
              "            + ' to learn more about interactive tables.';\n",
              "          element.innerHTML = '';\n",
              "          dataTable['output_type'] = 'display_data';\n",
              "          await google.colab.output.renderOutput(dataTable, element);\n",
              "          const docLink = document.createElement('div');\n",
              "          docLink.innerHTML = docLinkHtml;\n",
              "          element.appendChild(docLink);\n",
              "        }\n",
              "      </script>\n",
              "    </div>\n",
              "  </div>\n"
            ]
          },
          "metadata": {},
          "execution_count": 12
        }
      ]
    },
    {
      "cell_type": "code",
      "source": [
        "ham=ham_df['cleaned_message']\n",
        "ham=\" \".join(ham)\n",
        "ham"
      ],
      "metadata": {
        "colab": {
          "base_uri": "https://localhost:8080/",
          "height": 140
        },
        "id": "fBmP64-usx3-",
        "outputId": "6cdf12f7-46cd-47a7-980d-2fab55a21ea2"
      },
      "execution_count": null,
      "outputs": [
        {
          "output_type": "execute_result",
          "data": {
            "text/plain": [
              "'go jurong point crazy available bugis n great world la e buffet cine got amore wat ok lar joking wif u oni u dun say early hor u c already say nah nt think goes usf lives around though even brother not like speak treat like aids patent per request melle melle oru minnaminunginte nurungu vettam set callertune callers press 9 copy friends callertune gon na home soon nt want talk stuff anymore tonight k cried enough today searching right words thank breather promise wont take help granted fulfil promise wonderful blessing times date sunday oh k watching eh u remember 2 spell name yes v naughty make v wet fine thatåõs way u feel thatåõs way gota b seriously spell name iûm going try 2 months ha ha joking ì_ pay first lar da stock comin aft finish lunch go str lor ard 3 smth lor u finish ur lunch already ffffffffff alright way meet sooner forced eat slice really not hungry tho sucks mark getting worried knows sick turn pizza lol lol always convincing catch bus frying egg make tea eating mom left dinner feel love back amp packing car let know room ahhh work vaguely remember feel like lol wait still not clear not sure sarcastic x nt want live us yeah got 2 v apologetic n fallen actin like spoilt child got caught till 2 wo nt go not badly cheers k tell anything fear fainting housework quick cuppa yup ok go home look timings msg ì_ xuhui going learn 2nd may lesson 8am oops let know roommate done see letter b car anything lor u decide hello saturday go texting see decided anything tomo not trying invite anything pls go ahead watts wanted sure great weekend abiola forget tell want need crave love sweet arabian steed mmmmmm yummy seeing great hope like man well endowed lt gt inches calls messages missed calls nt get hep b immunisation nigeria fair enough anything going yeah hopefully tyler ca nt could maybe ask around bit u nt know stubborn nt even want go hospital kept telling mark not weak sucker hospitals weak suckers thinked first time saw class gram usually runs like lt gt half eighth smarter though gets almost whole second gram lt gt k fyi x ride early tomorrow morning crashing place tonight wow never realized embarassed accomodations thought liked since best could always seemed happy cave sorry nt nt give sorry offered sorry room embarassing know mallika sherawat yesterday find lt url gt sorry call later meeting tell reached yes gauti sehwag odi series gon na pick 1 burger way home ca nt even move pain killing ha ha ha good joke girls situation seekers part checking iq sorry roommates took forever ok come ok lar double check wif da hair dresser already said wun cut v short said cut look nice today song dedicated day song u dedicate send ur valuable frnds first rply plane give month end wah lucky man save money hee finished class hi babe im home wan na something xx k k performed u call waiting machan call free thats cool gentleman treat dignity respect like peoples much shy pa not operate lt gt not still looking job much ta earn sorry call later k call ah ok way home hi hi place man yup next stop call later nt network urgnt sms real u getting yo need 2 tickets one jacket done already used multis yes started send requests make pain came back back bed double coins factory got ta cash nitros really not still tonight babe ela kano il download come wen ur free yeah donût stand close tho youûll catch something sorry pain ok meet another night spent late afternoon casualty means nt done stuff42moro includes time sheets sorry smile pleasure smile pain smile trouble pours like rain smile sum1 hurts u smile becoz someone still loves see u smiling havent planning buy later check already lido got 530 show e afternoon u finish work already watching telugu movie wat abt u see finish loads loans pay hi wk ok hols yes bit run forgot hairdressers appointment four need get home n shower beforehand cause prob u ham please nt text anymore nothing else say okay name ur price long legal wen pick u ave x ams xx still looking car buy not gone 4the driving test yet per request melle melle oru minnaminunginte nurungu vettam set callertune callers press 9 copy friends callertune wow right nt mean guess gave boston men changed search location nyc something changed cuz signin page still says boston umma life vava umma love lot dear thanks lot wishes birthday thanks making birthday truly memorable aight hit get cash would ip address test considering computer nt minecraft server know grumpy old people mom like better not lying always one play jokes dont worry guess busy plural noun research going dinnermsg ok wif cos like 2 try new things scared u dun like mah cos u said not loud wa ur openin sentence formal anyway fine juz tt eatin much n puttin weight haha anythin special happened entered cabin pa said happy bday boss felt special askd 4 lunch lunch invited apartment went goodo yes must speak friday eggpotato ratio tortilla needed hmm uncle informed paying school directly pls buy food new address apples pairs malarky going sao mu today done 12 ìï predict wat time ì_ finish buying good stuff know yetunde nt sent money yet sent text not bother sending dont involve anything nt imposed anything first place apologise room hey girl r u hope u r well del r bak long time c give call sum time lucyxx k k much cost home dear call tmorrowpls accomodate first answer question haf msn yijue hotmailcom call meet check rooms befor activities got c lazy type forgot ì_ lect saw pouch like not v nice k text way sir waiting mail swt thought nver get tired little things 4 lovable persons coz somtimes little things occupy biggest part hearts gud ni8 know pls open back yes see ya not dot whats staff name taking class us ummmawill call check inour life begin qatar pls pray hard k deleted contact sindu got job birla soft wine flowing nevering yup thk cine better cos need 2 go 2 plaza mah ok ur typical reply per request melle melle oru minnaminunginte nurungu vettam set callertune callers press 9 copy friends callertune everywhere dirt floor windows even shirt sometimes open mouth comes flowing dream world without half chores time joy lots tv shows ill see guess like things must exist like rain hail mist time done become one aaooooright work leaving house hello love get interview today happy good boy think missing keep safe need miss already envy everyone see real life new car house parents new job hand love excited day spend make happy place ur points e cultures module already hi frnd best way avoid missunderstding wit beloved one great escape fancy bridge needs lager see tomo yes completely form clark also utter waste sir need axis bank account bank address hmmm thk sure got time hop ard ya go 4 free abt muz call u discuss liao time coming later bloody hell cant believe forgot surname mr ill give u clue spanish begins well gon na finish bath good fine night let know got money carlos make call u still going mall turns friends staying whole show wo nt back til lt gt feel free go ahead smoke lt gt worth text doesnt reply let know log hi spoke maneesha v like know satisfied experience reply toll free yes lifted hopes offer money need especially end month approaches hurts studying anyways gr8 weekend lol u trust ok gentleman treat dignity respect guys close going nothing greatbye hello handsome finding job not lazy working towards getting back net mummy boytoy miss haha awesome minute got xmas radio times not get jus reached home go bathe first sis using net tell u finishes k sorry joined league people dont keep touch mean great deal friend times even great personal cost great week hi finally completed course stop however suggest stays someone able give ors every stool hope settled new school year wishin gr8 day gud mrng dear hav nice day u got persons story hamster dead hey tmr meet 1pm orchard mrt hi kate evening hope see tomorrow bit bloody babyjontet txt back u xxx found enc lt gt sent lt gt bucks hello darlin ive finished college txt u finish u love kate xxx account refilled successfully inr lt decimal gt keralacircle prepaid account balance rs lt decimal gt transaction id kr lt gt goodmorning sleeping ga u call alter 11 ok ìï say like dat dun buy ericsson oso not oredi lar entered cabin pa said happy bday boss felt special askd 4 lunch lunch invited apartment went aight yo dats straight dogg please give us connection today lt decimal gt refund bill shoot big loads get ready bruv hope great break rewarding semester home always chat k k good study well yup ì_ noe leh sounds great home finally match heading towards draw prediction tired nt slept well past nights easy ah sen got selected means good take exam march 3 yeah think use gt atm register not sure anyway help let know sure ready ok prob take ur time os called ubandu run without installing hard disk use os copy important files system give repair shop sorry call later u say leh course nothing happen lar not say v romantic jus bit lor thk e nite scenery not nice leh would really appreciate call need someone talk hey company elama po mudyadhu life strict teacher bcoz teacher teaches lesson amp conducts exam life first conducts exam amp teaches lessons happy morning dear good morning get gandhipuram walk cross cut road right side lt gt street road turn first right dear going rubber place sorry battery died yeah yes tv always available work place printed oh lt gt come upstairs ill little closer like bus stop street wil reach new theory argument wins situation loses person dont argue ur friends kick amp say always correct tomarrow final hearing laptop case cant pleassssssseeeeee tel v avent done sportsx okay shining meant signing sounds better although told u dat baig face watches really like e watch u gave cos fr u thanx 4 everything dat u done today touched u nt remember old commercial late said website nt dont slippers asked call ok kallis wont bat 2nd innings didnt work oh ok goodnight ill fix ready time wake dearly missed good night sleep ranjith cal drpd deeraj deepak 5min hold wen ur lovable bcums angry wid u dnt take seriously coz angry childish n true way showing deep affection care n luv kettoda manda nice day da  ups 3days also shipping company takes 2wks way usps takes week gets lag may bribe nipost get stuff back lem know ready nt necessarily expect done get back though headin mmm yummy babe nice jolt suzy lover need iûm parked next mini coming today think yup anyway going shopping cos sis not done yet dun disturb u liao luton 0125698789 ring ur around h dint come us wana plan trip sometme not sure yet still trying get hold evo download flash jealous come mu sorting narcotics situation night ended another day morning come special way may smile like sunny rays leaves worries blue blue bay usf guess might well take 1 car objection bf not coming thanx tell rob mack gf theater awesome see bit sent type food like done handed celebrations full swing yet got called tool wen u miss someone ok asked money far okie yeah think usual guy still passed last night get ahold anybody let know throw k might come tonight class lets early ok hi baby im cruisin girl friend r u 2 give call hour home thats alright fone fone love jenny xxx life means lot not love life love people life world calls friends call world ge dear shall mail tonitebusy street shall update tonitethings looking okvarunnathu edukkukayee raksha ollubut good one real sense hey told name gautham ah haf u found feel stupid da v cam working oops 4 got bit much buzy accidentally deleted message resend please unless situation go gurl would appropriate hurt tease make cry end life die plz keep one rose grave say stupid miss u nice day bslvyl cant pick phone right pls send message need coffee run tomo ca nt believe time week already awesome remember last time got somebody high first time diesel v shit really shocking scary cant imagine second def night u think somewhere could crash night save taxi oh way food fridge want go meal tonight womdarfull actor yup remb think book jos ask u wana meet lol yes friendship hanging thread cause u wo nt buy stuff garage keys nt bookshelf today accept day u accept brother sister lover dear1 best1 clos1 lvblefrnd jstfrnd cutefrnd lifpartnr belovd swtheart bstfrnd rply means enemy says give call friend got money definitely buying end week hi way u 2day normal way real ur unique hope know u 4 rest mylife hope u find wot lost made day great day kk advance happy pongal hmmm guess go 4 kb n power yoga haha dunno tahan power yoga anot thk got lo oso forgot liao not really dude friends afraid coffee cake guess merry christmas babe love ya kisses hey dont go watch x men lunch haha cud u tell ppl im gona b bit l8 cos 2 buses hav gon past cos full im still waitin 4 1 pete x would great guild could meet bristol road somewhere get touch weekend plans take flight good week problem calls messages missed calls hi da todays class say good sign well know track record reading women cool text parked reading text sent meant joke read light kk apo kgood movie maybe could get book tomo return immediately something chance might evaporated soon violated privacy stealing phone number employer paperwork not cool please not contact report supervisor tadaaaaa home babe still cool come havent wined dined sleeping surfing sorry call later u calling right call hand phone ok great thanx lot take post come must 1000s texts happy reading one wiv hello caroline end favourite bless u hiding stranger not interested like sister cleared two round birla soft yesterday gudnite tc practice going dis yijue jus saw ur mail case huiming havent sent u num dis num one small prestige problem checking really miss seeing jeremiah great month nah ca nt help never iphone not car hour half going apeshit today sorry day ever angry ever misbehaved hurt plz plz slap urself bcoz ur fault basically good yo guys ever figure much need alcohol jay trying figure much safely spend weed lt gt ish minutes 5 minutes ago wtf thank callingforgot say happy onam sirjii fine remembered met insurance personmeet qatar insha allahrakhesh ex tata aig joined tissco tayseer actor work work evening sleep late since unemployed moment always sleep late unemployed every day saturday hello got st andrewsboy long way cold keep posted ha ha cool cool chikku chikku db oh ok prob check audrey status right busy trying finish new year looking forward finally meeting good afternoon sunshine dawns day refreshed happy alive breathe air smile think love always well know z take care worries wat uniform get cool text ready hello boytoy geeee miss already woke wish bed cuddling love spoil bed well going bath msg next lt gt min cant keep talking people not sure pay agree price pls tell want really buy much willing pay say happen could seen didt recognise face well not lot things happening lindsay new years sighs bars ptbo blue heron something going keep payasam rinu brings taught ranjith sir called sms like becaus hes verifying project prabu told today pa dont mistake guess worried must know way body repairs quite sure nt worry take slow first tests guide ovulation relax nothing said reason worry ill keep followin yeah sure give couple minutes track wallet hey leave not big deal take care hey late ah meet 945 took mr owl 3 licks customer place call mm time dont like fun yup lunch buffet u eat already huh late fr dinner hey sat going intro pilates kickboxing morning ok yes think office lap room think thats last days didnt shut pick bout 730ish time going performance award calculated every two monthnot current one month period actually sleeping still might u call back text gr8 rock sis send u text wen wake always putting business put pictures ass facebook one open people ever met would think picture room would hurt make feel violated good evening sir al salam wahleykkumsharing happy newsby grace god got offer tayseer tissco joinedhope fineinshah allah meet sometimerakhesh visitor india hmmm k want change field quickly da wan na get system administrator network administrator dear chechi talk hair cream not shipped none happening til get though yep great loxahatchee xmas tree burning lt gt starts hour haha get used driving usf man know lot stoners well slightly disastrous class pm fav darlings hope day ok coffee wld good ca nt stay late tomorrow time place always hello good week fancy drink something later headin towards busetop message text missing sender name missing number missing sent date missing missing u lot thats everything missing sent via fullonsmscom come room point iron plan weekend cos want thing okies go yan jiu skip ard oso go cine den go mrt one blah blah blah bring home wendy whatsup dont u want sleep alright new goal alright head minutes text meet yes last week taking live call siva hostel aha send ur friends receive something ur voice speaking expression 1childish 2naughty 3sentiment 4rowdy 5ful attitude 6romantic 7shy 8attractive 9funny lt gt irritating lt gt lovable reply ok ok guess aathi dear pain urination thing else 7 esplanade ì_ mind giving lift cos got car today wnt buy bmw car urgently vry urgentbut hv shortage lt gt lacsthere source arng dis amt lt gt lacs thats prob home watching tv lor usually take fifteen fucking minutes respond yes question booked ticket pongal available like right around hillsborough amp lt gt th message sent askin lt gt dollars shoul pay lt gt lt gt ask g iouri told story like ten times already long applebees fucking take hi hope u get txtjourney hasnt gd 50 mins late think like love arrange yes really great bhaji told kallis best cricketer sachin world tough get supposed wake gt oic saw tot din c found group liao sorry call later hey hey werethe monkeespeople say monkeyaround howdy gorgeous sorry battery died come getting gram place well done blimey exercise yeah kinda remember wot hmm wont get concentration dear know mind everything lol made plans new years 10 min later k hanks lotsly thanks hope good day today k k detail want transfer acc enough ok tell stay yeah tough optimistic things improve month si si think ill go make oreo truffles look amy ure beautiful intelligent woman like u lot know u donåõt like like donåõt worry hope result consistently intelligent kind start asking practicum links keep ears open best ttyl 120 call cost guess isnt bad miss ya need ya want ya love ya going thru different feelingwavering decisions coping individualtime heal everything believe u go phone gon na die stay great never better day gives even reasons thank god sorry call later ok bye ok way railway great princess love giving receiving oral doggy style fave position enjoy making love lt gt times per night nt put stuff roads keep getting slippery going ride bike yup need jus wait 4 e rain 2 stop many company tell language long since screamed princess nothing meant money enters account bank remove flat rate someone transfered lt gt account lt gt dollars got removed banks differ charges also differbe sure trust 9ja person sending account details cos nice line said broken heart plz nt cum 1 times infront wise trust u good 9t ok gon na head usf like fifteen minutes love aathi love u lot tension ah machi problem k pick another 8th done guys getting back g said thinking not staying mcr almost see u sec yo carlos friends already asking working weekend watching tv lor thank baby cant wait taste real thing change fb jaykwon thuglyfe falconerf win really 1 side long time dear reached railway happen depends quality want type sent boye faded glory 6 want ralphs maybe 2 think fixed send test message sorry man account dry would want could trade back half could buy shit credit card sorry meeting call later class lt gt reunion free call got meh nope think go monday sorry replied late told accenture not confirm true kate jackson rec center 7ish right dear reache room fighting world easy u either win lose bt fightng some1 close u dificult u lose u lose u win u still lose ì_ come check nuerologist lolnice went fish water waiting e car dat bored wat cos wait outside got nothing 2 home stuff watch tv wat maybe westshore hyde park village place near house know anthony bringing money school fees pay rent stuff like thats need help friend need significance opinion 1 2 jada 3 kusruthi 4 lovable 5 silent 6 spl character 7 not matured 8 stylish 9 simple pls reply 8 latest g still scrounge ammo want give new ak try prabha soryda realy frm heart sory lol ok forgiven jst change tat competition way transport less problematic sat night way u want ask n join bday feel free need know definite nos booking fri usually person unconscious children adults may behave abnormally ill call ebay might less elsewhere shall come get pickle gon na go get tacos rude campus hi wo nt b ard 4 christmas enjoy n merry xmas yes pretty lady like single jay says doublefaggot todaysunday sunday holiday work gudnite tc practice going late not called hoping l8r malaria know miss guys miss bani big pls give love especially great day good afternoon love goes day hope maybe got leads job think boytoy send passionate kiss across sea probably gon na see later tonight lt maybe fat fingers press buttons nt know ummmmmaah many many happy returns day dear sweet heart happy birthday dear tirupur da started office call famous quote develop ability listen anything unconditionally without losing temper self confidence means married going college pa else ill come self pa 4 oclock mine bash flat plan girl not stay bed girl nt need recovery time id rather pass fun cooped bed special know need get hotel got invitation apologise cali sweet come english bloke weddin sorry took long omw wait lt gt min ok give 5 minutes think see btw alibi cutting hair whole time imagine finally get sink bath put paces maybe even eat left also imagine feel cage cock surrounded bath water reminding always owns enjoy cuck hurry weeddeficient like three days sure get acknowledgement astoundingly tactless generally faggy demand blood oath fo ok every night take warm bath drink cup milk see work magic still need loose weight know iûll look frying pan case itûs cheap book perhaps thatûs silly frying pan isnût likely book well uv causes mutations sunscreen like essential thesedays lunch not online know friend already told hi princess thank pics pretty aiyo u always c ex one dunno abt mei reply first time u reply fast lucky not workin huh got bao ur sugardad ah gee hi msg office thanx 4 e brownie v nice geeeee love much barely stand fuck babe miss already know ca nt let send money towards net need want crave ill call u 2mrw ninish address icky american freek wont stop callin 2 bad jen k eh oooh bed ridden ey thinking anyways go gym whatever love smiles hope ok good day babe miss much already love daddy make scream pleasure going slap ass dick wot u wan na missy yar lor wait 4 mum 2 finish sch lunch lor whole morning stay home clean room room quite clean hee know lab goggles went open door waiting call nope waiting sch 4 daddy tired arguing week week want ìï wait 4 sch finish ard 5 arngd marriage u r walkin unfortuntly snake bites u bt love marriage dancing frnt snake amp sayin bite bite huh early ì_ dinner outside izzit ok anyway need change said exwife not able kids want kids one day scotland hope not showing jjc tendencies take care live dream tell u headache want use 1 hour sick time dun thk quit yet hmmm go jazz yogasana oso go meet em lessons den pete please ring meive hardly gotany credit ya srsly better yi tho meeting call later still grand prix met stranger choose friend long world stands friendship never ends lets friends forever gud nitz great gud mrng dear nice day exhausted train morning much wine pie sleep well going buy mum present ar mind blastin tsunamis occur rajnikant stopped swimming indian ocean u sending home first ok lor not ready yet speaking cash yet happy come noon meet lunch la take care n get well soon meant say cant wait see u getting bored bridgwater banter neva mind ok fine imma get drink somethin want come find valentine game send dis msg ur friends 5 answers r someone really loves u ques colour suits best rply many dependents thanx4 today cer nice 2 catch ave 2 find time often oh well take care c u soonc called said choose future happy valentines day know early hundreds handsomes beauties wish thought finish aunties uncles 1st like not v shock leh cos telling shuhui like telling leona also like dat almost know liao got ask abt ur reaction lor family happiness come n pick ì_ come immediately aft ur lesson let snow let snow kind weather brings ppl together friendships grow dear got lt gt dollars hi hi good words words may leave u dismay many times make sure alex knows birthday fifteen minutes far concerned sorry got things may pub later nah straight bring bud drinks something actually little useful straight cash haha good hear officially paid market 8th many licks take get center tootsie pop yup thk r e teacher said make face look longer darren ask not 2 cut short please dont say like hi hi hi thank u oh forwarded message thought send got seventeen pounds seven hundred ml ûò hope ok n funny sweetheart hope not kind day one loads reasons smile biola ì_ login dat time dad fetching ì_ home shower baby askd u question hours answer well imma definitely need restock thanksgiving let know said kiss kiss ca nt sound effects gorgeous man nt kind person needs smile brighten day probably gon na swing wee bit ya nice ready thursday allo braved buses taken trains triumphed mean weûre bûham jolly good rest week watching cartoon listening music amp eve go temple amp church u mind ask happened dont say uncomfortable prob send email thats cool sometimes slow gentle sonetimes rough hard gon na say sorry would normal starting panic time sorry seeing tuesday wait know wesleys town bet hella drugs fine miss much u got persons story tell drug dealer getting impatient sun cant come earth send luv rays cloud cant come river send luv rain cant come meet u send care msg u gud evng place man doesnt make sense take unless free need know wikipediacom sea lays rock rock envelope envelope paper paper 3 words mum repent sorry going home first daddy come fetch ì_ later leave de start prepare next yes baby study positions kama sutra en chikku nange bakra msg kalstiya teacoffee carlos minute still need buy pay lt decimal gt lakhs good evening ttyl u receive msg ho ho big belly laugh see ya tomo ditto wo nt worry saying anything anymore like said last night whatever want peace got lt gt way could pick dont knw pa drink milk maybe say hi find got card great escape wetherspoons piggy r u awake bet u still sleeping going 4 lunch cause not freaky lol missed call cause yelling scrappy miss u ca nt wait u come home lonely today hex place talk explain ìï log 4 wat sdryb8i xy going 4 e lunch wanted ask ì_ wait 4 finish lect cos lect finishes hour anyway finished work yet every king crying baby every great building map not imprtant u r today u wil reach tomorw gud ni8 dear cherthalain case u r coming cochin pls call bfore u starti shall also reach accordinglyor tell day u r comingtmorow engaged ans holiday thanks love torch bold farm open sorry trouble u buy 4d dad 1405 1680 1843 2 big 1 small sat n sun thanx sister law hope great month saying hey abiola purchase stuff today mail po box number ah poop looks like ill prob send laptop get fixed cuz gpu problem good good job like entrepreneurs aight close still around alex place meet corporation st outside gap û_ see mind working mum ask ì_ buy food home k u also dont msg reply msg much r ì_ willing pay sorry call later important prevent dehydration giving enough fluids thats bit weird even supposed happening good idea sure pub true dear sat pray evening felt soso sms time nt think get away trek long family town sorry wan na gym harri quite late lar ard 12 anyway wun b drivin height confidence aeronautics professors wer calld amp wer askd 2 sit aeroplane aftr sat wer told dat plane ws made students dey hurried plane bt 1 didnt move said made students seems like weird timing night g want come smoke day shitstorm attributed always coming making everyone smoke save stress person dorm account send account details money sent also knows lunch menu da know stuff sell ill tell book lesson msg call work sth going get specs membership px3748 macha dont feel upseti assume mindsetbelieve one evening wonderful plans uslet life begin againcall anytime oh send address sfine anytime best wondar full flim ya even cookies jelly world running stillmaybe feeling itor admit madthen correction let call lifeand keep running world may u r also runninglets run got looks scrumptious daddy wants eat night long cos lar not ba dao ok 1 pm lor u never ask go ah said u would ask fri said u ask today alright omw got ta change order half8th exactly anyways far jide study visiting dunno u ask nt spring coming early yay lol wo nt feel bad use money take steak dinner even u dont get trouble convincing tel twice tel neglect msgs dont c read dont reply leaving qatar tonite search opportunityall went fastpls add ur prayers dearrakhesh one talking thanks looking really appreciate wish haha mayb u rite u know well da feeling liked someone gd lor u faster go find one gals group attached liao yes glad made well little time thing good times ahead got room soon û_ nt put clocks back til 8 shouted everyone get realised 7 wahay another hour bed ok may free gym men like shorter ladies gaze eyes dunno jus say go lido time 930 promise take good care princess run please send pics get chance ttyl reason not spoken year anyways great week best exam monday next week give full gist dont gim lip caveboy get library realy sorryi nt recognise number confused r u please didnt holla cant think anyone spare room top head faith makes things possible hope makes things work love makes things beautiful may three christmas merry christmas u made appointment call youcarlos isare phone vibrate acting might not hear texts grandmas oh dear u still ill felt shit morning think hungover another night leave sat nothing jus tot u would ask cos u ba gua went mt faber yest yest jus went already mah today not going jus call lor wishing family merry x mas happy new year advance nt goin got somethin unless meetin 4 dinner lor haha wonder go tis time sorry call later cant pick phone right pls send message lol know dramatic schools already closed tomorrow apparently ca nt drive inch snow supposed get not getting anywhere damn job hunting lol u drunkard hair moment yeah still 4 tonight wats plan idc get not weaseling way shit twice row wil lt gt minutes got space sleeping surfing thanks picking trash nt go tell friend not sure want live smokes much spend hours begging come smoke hi kate lovely see tonight ill phone tomorrow got sing guy gave card xxx happy new year dear brother really miss got number decided send text wishing happiness abiola means get door opinion 1 2 jada 3 kusruthi 4 lovable 5 silent 6 spl character 7 not matured 8 stylish 9 simple pls reply hmmm thought said 2 hours slave not 3 late punish beerage dont think turns like randomlly within 5min opening supposed could nt make still town though time fixes spelling sometimes gets completely diff word go figure gud mrng dear hav nice day hoping enjoyed game yesterday sorry not touch pls know fondly bein thot great week abiola e best 4 ur driving tmr u dogbreath sounding like jan c thatåõs al omg want scream weighed lost weight woohoo generally nt one uncountable noun u dictionary pieces research really getting hanging around petey boy whereare friendsare thekingshead come canlove nic ok msg u b4 leave house gim lt gt minutes ago appt lt time gt not fault u nt listen told u twice k 4 dled 3d imp sure make sure knows ai nt smokin yet boooo always work quit taking half day leave bec not well ugh nt wan na get bed warm snervous lt gt ring comes guys costumes gift future yowifes hint hint borrow ur bag ok boytoy miss happened lots used ones babe model nt help youi bring match also bringing galileo dobby not responding boo babe u enjoyin yourjob u seemed 2 b gettin well hunny hope ure ok take care iåõllspeak 2u soonlots loveme xxxx good afternoon starshine boytoy crave yet ache fuck sips cappuccino miss babe teasing kiss road cant txt good evening ttyl hmm bits pieces lol sighs hahaha use brain dear hey got mail sorry light turned green meant another friend wanted lt gt worth may not around thanks yesterday sir wonderful hope enjoyed burial mojibiola hi mate rv u hav nice hol message 3 say hello coz havenåõt sent u 1 ages started driving stay roads rvx thank much skyped wit kz sura didnt get pleasure company hope good given ultimatum oh countin aburo enjoy message sent days ago surely result offer good morning dear great amp successful day sir late paying rent past months pay lt gt charge felt would inconsiderate nag something give great cost didnt speak however recession wont able pay charge month hence askin well ahead month end please help thanks luv u soo much u donåõt understand special u r 2 ring u 2morrow luv u xxx pls send comprehensive mail paying much prashanthettan mother passed away last night pray family kk going meanwhile shit suite xavier decided give us lt gt seconds warning samantha coming playing jay guitar impress shit also nt think doug realizes nt live anymore stomach thru much trauma swear ca nt eat better lose weight office whats matter msg nowi call break yeah barely enough room two us x many fucking shoes sorry man see later u reach orchard already u wan 2 go buy tickets first real baby want bring inner tigress da run activate full version da ah poor baby hope urfeeling bettersn luv probthat overdose work hey go careful spk 2 u sn lots lovejen xxx stop story told returned saying not order going take babe hai ana tomarrow coming morning lt decimal gt ill sathy go rto office reply came home spoons okay say somebody named tampa work going min brother genius sorry guess whenever get hold connections maybe hour two text u find time bus coz need sort stuff dude ive seeing lotta corvettes lately consider walls bunkers shit important never play peaceful guess place high enough nt matter well officially philosophical hole u wan na call home ready saved going good problem still need little experience understand american customer voice text drop x ugh long day exhausted want cuddle take nap talk atleast day otherwise miss best friend world shakespeare shesil lt gt castor need see something see knew giving break times woul lead always wanting miss curfew gon na gibe til one midnight movie not gon na get til 2 need come home need getsleep anything need b studdying ear training love give massages use lots baby oil fave position dude go sup yoyyooo u know change permissions drive mac usb flash drive gibbs unsoldmike hussey like talk pa not able dont know dun cut short leh u dun like ah failed quite sad unbelievable faglord wifehow knew time murder exactly ask princess great princess thinking nutter cutter ctter cttergg cttargg ctargg ctagg ie ok noe u busy really bored msg u oso dunno wat colour choose 4 one nt g class early tomorrow thus nt trying smoke lt gt superb thought grateful u dont everything u want means u still opportunity happier tomorrow u today hope good week checking used hope agents nt drop since booked things year whole boston nyc experiment thursday night yeah sure thing work probably money worries things coming due several outstanding invoices work two three months ago possible teach wonder phone battery went dead tell love babe lovely smell bus ai nt tobacco getting worried derek taylor already assumed worst hey charles sorry late reply ill give plus said grinule greet whenever speak white fudge oreos stores love come took long leave zaher got words ym happy see sad left miss sorry hurt ca nt feel nauseous pissed nt eat sweets week cause today planning pig dieting week not hungry ok lor not early still project meeting call da waiting call could ask carlos could get anybody else chip actually send reminder today wonderful weekend people see msgs think iam addicted msging wrong bcoz dont know iam addicted sweet friends bslvyl hey gave photo registered driving ah tmr wan na meet yck dont talk ever ok word u wana see way school pls send ashley number shall fine avalarr hollalater went attend another two rounds today still didt reach home actually deleted old website blogging magicalsongsblogspotcom k wait chikku il send aftr lt gt mins diet ate 1 many slices pizza yesterday ugh always diet k give kvb acc details oh come ah really sorry wo nt b able 2 fridayhope u find alternativehope yr term going ok congratulations ore mo owo wa enjoy wish many happy moments fro wherever go samus shoulders yet time think need know near campus dun wear jeans lor since side fever vomitin k kare college better made friday stuffed like pig yesterday feel bleh least not writhing pain kind bleh sell tons coins sell coins someone thru paypal voila money back life pockets theyre lots places hospitals medical places safe also sorta blown couple times recently id rather not text blue looking weed sent scores sophas secondary application schools think thinking applying research cost also contact joke ogunrinde school one less expensive ones cant wait see photos useful hey booked kb sat already lessons going ah keep sat night free need meet confirm lodging chk ur belovd ms dict time want come awesome lem know whenever around shb b ok lor thanx beautiful truth gravity read carefully heart feels light someone feels heavy someone leaves good night also remember get dobby bowl car sorry c ur msg yar lor poor thing 4 one night tmr u brand new room 2 sleep love nt decision feeling could decide love life would much simpler less magical welp apparently retired sort code acc bank natwest reply confirm sent right person  u sure u ca nt take sick time watching cartoon listening music amp eve go temple amp church u yo chad gymnastics class wan na take site says christians class full much buzy better still catch let ask sell lt gt not sure night menu know noon menu u want come back beautiful necklace token heart youthats give wife likingbe see one give thatdont call mei wait till come willing go aptitude class wont b 215 trying 2 sort house ok yar lor wan 2 go c horse racing today mah eat earlier lor ate chicken rice u haha awesome omw back yup thk e shop closes lor account number eh u send wrongly lar hey ad crap nite borin without ya 2 boggy u boring biatch thanx u wait til nxt time il ave ya ok shall talk dont hesitate know second time weakness like keep notebook eat day anything changed day sure nothing hey pay salary de lt gt another month need chocolate weed alcohol started searching get job dayshe great potential talent reckon need town eightish walk carpark look fuckin time fuck think yo guess dropped carlos says mu lt gt minutes office call lt gt min geeee miss already know think fuck ca nt wait till next year together loving kiss yun ahthe ubi one say ì_ wan call tomorrowcall 67441233 look ireneere got bus822656166382 ubi cres ubi tech park6ph 1st 5wkg daysìn ugh got ta drive back sd la butt sore 26th july hi im relaxing time ever get 7am every day party good night get home tomorrow 5ish ì_ ìï wan come come lor din c stripes skirt xmas story peace xmas msg love xmas miracle jesus hav blessed month ahead amp wish u merry xmas ca nt nt number change e one next escalator yetunde class not run water make ok pls not lot happened feels quiet beth aunts charlie working lots helen mo ì_ wait 4 bus stop aft ur lect lar dun c ì_ go get car come back n pick ì_ aight thanks comin heard abt tat yes really great bhaji told kallis best cricketer sachin world tough get lt gt think say syllabus umma say anything give sec think think nt quite know still ca nt get hold anyone cud pick bout 730pm see pub poyyarikatur kolathupalayam unjalur post erode dis lt gt dear hero leaving qatar tonite apt opportunitypls keep touch lt email gt kerala lol would mom would fit tell whole family crazy terrible got home babe still awake dunno close oredi not ìï v fan buy pizza meat lovers supreme u get pick ya told asking wats matter dear regret cudnt pick calldrove frm ctla cochin homeleft mobile car ente style ishtamayoo happy bakrid shall send exe mail id nope watching tv home not going v bored know wait check good afternoon glorious anniversary day sweet j hope finds happy content prey think send teasing kiss across sea coaxing images fond souveniers cougarpen still tonight may call later pls nt pattern recently crap weekends sore throat scratches talk yes da plm ur office not around still asleep v lol forgot eh yes bring babe good find way not use foreign stamps country good lecture yup bathe liao happy new year no1 man oh mr sheffield wan na play game okay boss nanny give raise give one zoe hit 2 im fucking shitin il defo try hardest 2 cum 2morow luv u millions lekdog hello baby get back mom setting computer filling belly goes loverboy miss already sighs blankets sufficient thx naughty little thought better flirt flirt n flirt rather loving someone n gettin hurt hurt n hurt gud nyt edison rightly said fool ask questions wise man answer know us speechless viva gm talking thats de wont today going college not able atten class class holla later easy ah sen got selected means good mmm thats better got roast iåõd b better drinks 2 good indian come round 1 thing change sentence want 2 concentrate educational career im leaving walked hour 2 c u doesnåõt show care wont u believe im serious available soiree june 3rd u noe wat time e place dat sells 4d closes got another job one hospital data analysis something starts monday not sure thesis got finished jay getting really impatient belligerent hiya comin 2 bristol 1 st week april les got rudi new yrs eve snoringthey drunk u bak college yet work sends ink 2 bath work please call u drive lor ard 515 like dat tell female v throwing deciding get working technical support voice processnetworking field might come kerala 2 daysso prepared take leave finalise dont plan travel visitneed finish urgent works ok not sure time tho not sure get library class try see point good eve fine bitch later mum went 2 dentist free call sir waiting meeting u work tel shall work tomorrow jus finish bathing alright make sure car back tonight lul im gettin juicy gossip hospital two nurses talking fat gettin one thinks shes obese oyea aight ill get fb couple minutes oi ami parchi na kicchu kaaj korte iccha korche na phone ta tul na plz plz download clear movies dvd copies yep pretty sculpture convey regards watching surya movie 6 pm vijay movie pokkiri tell happen dont behave like ok need say u get pic msgs phone send someone else wat makes people dearer not de happiness dat u feel u meet de pain u feel u miss dem love start attractioni feel need every time around meshe first thing comes thoughtsi would start day end hershe every time dreamlove every breath namemy life happen around hermy life named heri would cry herwill give happiness take sorrowsi ready fight anyone heri love craziest things herlove nt proove anyone girl beautiful lady whole planeti always singing praises herlove start making chicken curry end makiing sambarlife beautiful thenwill get every morning thank god day mei would like say lot tell later frndship like needle clock though v r clock v r nt able 2 met evn v meet itz 4few seconds bt v alwys stay conected gud 9t nt think spatula hands never nothing goodmorning today late lt decimal gt min please da call mistake side sorry da pls da goto doctor r meeting well weather cali great complexities great need car move freely taxes outrageous great place sad part missing home reached home tired come tomorro ryder unsoldnow gibbs nt fret buy ovulation test strips send wont get til like march send postal addressu alrightokay gifts trying get throw cliff something ne thing interesting good birthday u wrking nxt started uni today busy come point figure tomorrow yeah go bored depressed sittin waitin phone ring hope wind drops though scary black shirt n blue jeans thk c ì_ aiyah sorry lor watch tv watch forgot 2 check phone hen night going swing good afternoon love goes day woke early online waiting hmmm italian boy online see grins someone not smoke every time smoked last two weeks calling texting wanted smoke get headache trying figure u trust math promise first time dhoni rocks ok ill tell company awesome think get 8th usf time tonight means still think teju good movie ok leave hourish kallis home groundamla home town durban lets make saturday monday per convenience hey time driving fri go evaluation fri going 4 lunch wif family aft dat go str 2 orchard lor cancel cheyyamo get money back okok ok whats ur todays plan good morning princess aiyar sorry lor forgot 2 tell u not tonight mate catching sleep new number way height oh shit situation guy throws luv letter gal falls brothers head whos gay check errors difficulties correction howz pain hope u r fine sorry call later good morning princess entered cabin pa said happy bday boss felt special askd 4 lunch lunch invited apartment went u wake already thanx 4 e tau sar piah quite nice k need login anything lol busy u wearing message text missing sender name missing number missing sent date missing missing u lot thats everything missing sent via fullonsmscom oh usual vijay film different good day mine really busy much tomorrow night way send shade stuff wonderful really tot ur paper ended long ago wat u copied jus got use u happy lar still haf 2 study babe lost ok help ask working tmr not not driving raining get caught e mrt station lor not drop tank said text one time sorry call later ok go change also u find sitter kaitlyn sick slept day yesterday sorry man accidentally left phone silent last night nt check til got hey something came last min think wun signing tmr hee adult would learn experience real danger dont like peeps using drugs dont need comment hey veggie pizza yun buying school got offer 2000 plus sure neighbors didnt pick k sent new theory argument wins situation loses person dont argue ur friends kick amp say always correct well im computerless time make oreo truffles haha yeah see sec not number sir lol hot air balloon ok bus come soon come otherwise tomorrow msgs r not time passthey silently say thinking u right also making u think least 4 moment gd ntswt drms shesil yeah probably swing roommate finishes girl happy new years melody ìï dun need pick ur gf yay better not told 5 girls either horrible u eat macs eat u forgot abt already rite u take long 2 reply thk toot b4 b prepared wat shall eat say fantastic chance anything need bigger life lift losing 2 live think would first person 2 die n v q nw came hme da outside islands head towards hard rock run day class class chennai velachery flippin shit yet k give sec breaking lt gt cstore much bad avoid like yo around got car back annoying nt goodmorning today late lt gt min point hangin mr not right not makin u happy come alivebetter correct good looking figure case guess see campus lodge done come home one last time wont anything trust night worrying appt shame missed girls night quizzes popcorn hair ok c ya said not matter mind saying matter also knows lunch menu da know al moan n e thin goes wrong fault al de arguments r fault fed himso bother hav 2go thanxxx neft transaction reference number lt gt rs lt decimal gt credited beneficiary account lt gt lt time gt lt gt otherwise part time job natuition know called also da feel yesterday night wait til 2day night dear thanks understanding trying tell sura whole car appreciated last two dad map reading semi argument apart things going ok p need strong arms also maaaan missing bday real april guessin ai nt gon na 9 ok come ur home half hour yo game almost want go walmart soon yeah probably not sure ilol let u know personally wuldnt bother ur goin mite well text creepy like wo nt think forgot would good û_ phone tomo lunchtime shall organise something damn make tonight want wait til tomorrow k k also fine complete course true passable get high score apply phd get 5years salary makes life easier prakesh know teach apps da come college rofl betta invest anti aging products sir receive account another 1hr time sorry delay ì_ submitting da project tmr rite jus ans lar u noe later want send something sell fast lt gt k not easy money got things may pub later 1 finish meeting call lol ok snatch purse hello drivby0quit edrunk sorry iff pthis makes senrddnot dancce 2 drum n basq ihave fun 2nhite x ros xxxxxxx opinion 1 2 jada 3 kusruthi 4 lovable 5 silent 6 spl character 7 not matured 8 stylish 9 simple pls reply much getting ur paper e morn aft tmr dear relieved westonzoyland going plan end hope great new semester wish best made greatness oh yes speak txt 2 u hmm u get email want show world princess europe nobody decide eat dad wants chinese shoot docs waiting room going 4 dinner soon hello site download songs urgent pls know u mean king not havin credit goin2bed night night sweet only1more sleep horrible gal sch stuff come u got mc hi hun im not comin 2nitetell every1 im sorry 4 hope u ava goodtime oli rang melnite ifink mite b sorted il explain everythin monl8rsx call later nt network urgnt sms ummmmmaah many many happy returns day dear sweet heart happy birthday dear yeah like goes like friends imma flip shit like half hour mum say wan go go shun bian watch da glass exhibition plan pongal wait till end march el nino gets oh not yet chikku going room nw bus also cbe pay honey boo missing u sent jd customer service cum accounts executive ur mail id details contact us yo parents gettin cash good news picked downstem thank much skyped wit kz sura didnt get pleasure company hope good given ultimatum oh countin aburo enjoy ok wahala remember friend need see half hour im inperialmusic listening2the weirdest track ever byåóleafcutter johnåósounds like insects molested someone plumbing remixed evil men acid hey sorry didntgive ya bellearlier hunny seriously tell exact words right tee hee lecture cheery bye bye sorry chikku cell got problem thts nt able reply u msg u still havent collected dough pls let know go place sent get control number ok let know contact settled room lets know ok wot u 2 u weirdo lor dont put phone silent mode ok meet ì_ 5 4 depends ì_ wan 2 lor waiting 4 tv show 2 start lor u leh still busy ur report oh ho first time u use type words one nt stalk profiles ever green quote ever told jerry cartoon person irritates u always one loves u vry much fails express gud nyt yes thought thanks shes drinkin ok wondering others took night ended another day morning come special way may smile like sunny rays leaves worries blue blue bay gud mrng dog must always wait till end day word run time cell already happy new year u hey great deal farm tour 9am 5pm 95pax 50 deposit 16 may eat jap done oso aft ur lect wat ìï got lect 12 rite hey babe saw came online second disappeared happened da birthdate certificate april real date today dont publish shall give special treat keep secret way thanks wishes happy birthday may ur dreams come true aiyah u ok already lar e nydc wheellock tell said eat shit sure driving reach destination soon k much 8th fifty daily text ûò favour time great hear settling well happenin wit ola cocksuckers makes feel better ipads worthless garbage novelty items feel bad even wanting one tot u reach liao said tshirt fran decided 2 go n e way im completely broke knackered got bout 3 c u 2mrw love janx ps dads fone credit cant pick phone right pls send message right make appointment right designation software developer may get chennai jokin oni lar ìï busy wun disturb ì_ ok careful nt text drive ill always even spirit ill get bb soon trying sure need u r much close heart u go away shattered plz stay love u 2 babe r u sure everything alrite idiot txt bak girlie abt making pics bigger got got 2 colours lor one colour quite light n e darker lor actually done styling hair whenevr ur sad whenevr ur gray remembr im 2 listn 2 watevr u wan na say jus walk wid little amp promise bring back ur smile nothing ok anyway give treat ok correct work today sent scream moan bed princess wake long ago already dunno thing oh getting even u u thk 50 shd ok said plus minus 10 ì_ leave line paragraphs call plz number shows coveragd area urgnt call vasai amp reach 4 clock call plz yeah jay sort fucking retard sorry bathroom sup exam february 4 wish great day dont know come ask questions like dont mistake aight rush ask jay good morning plz call sir ok lar u sleep early nite oh icic k lor den meet day oh half hour much longer syria canada eh wow must get much work done day us extra time grins sometimes put walls around hearts not safe getting hurt find cares enough break walls amp get closer goodnoon sweet may may not go 4u meet carlos gauge patty interest buying today ìï need c meh aight sorry take ten years shower plan every monday nxt week vl completing might ax well im chill another 6hrs could sleep pain not surgical emergency see unfolds okay yeah try scrounge something crazy ar married ìï like gd looking guys not frens like say korean leona fave dun thk aft thinking mayb prob go somewhere fredericksburg que pases un buen tiempo something like ok stay night xavier sleeping bag getting tired doesnt need test nothing much chillin home super bowl plan bugis oso near wat yo theres class tmrw right let ur heart ur compass ur mind ur map ur soul ur guide u never loose world gnun sent via way2smscom goodnight sleep well da please take care pa please baaaaabe misss youuuuu go teach class 5 convey regards u ned convince tht not possible witot hurting feeling main good afternoon loverboy goes day luck come way think sweetie send love across sea make smile happy start sending blackberry torch nigeria find buyer like 4a month tell dad not buy bb anyone oh lt gt pple marry lovers becz hav gud undrstndng dat avoids problems sent dis 2 u u wil get gud news friday person like tomorrow best day life dont break chain break suffer send lt gt frnds lt gt mins whn u read yo dude guess got arrested day shuhui say change 2 suntec steamboat u noe r u dance river yetunde sorry moji seem busy able go shopping please find way get wanted us get please forgive reply free via yahoo messenger hey really pretty late want go lesson first join reaching tp mrt bbq sat mine 6ish ur welcome 2 come nt know thing wrong everyso often panicks starts goin bout not bein good enough û_ alright good night try making another butt hope feeling great pls fill abiola though shd go n fun bar town something ûò sound ok 1 go write msg 2 put dictionary mode 3 cover screen hand 4 press lt gt 5 gently remove ur hand interesting finally ready fyi auntie huai juan never pick phone ya tel wats ur problem dnt wnt tlk wid u spend days waiting ideal path appear front us forget paths made walking not waiting goodnight ok arm feeling weak cuz got shot go another time please reserve ticket saturday eve chennai thirunelvali tirunelvali chennai sunday eve already see net ticket available want book ticket tackle storming msg wen u lift phne u say hello u knw wt real meaning hello name girl yes u knw dat girl margaret hello girlfrnd f grahmbell invnted telphone moral one 4get name person ok popped ask bout something said around tonght wen girl comes e best 4 ur exam later hope ur head nt hurt 2 much ploughing way pile ironing staying chinky tonight come round like oh ki think wi nz players unsold haha got fast lose weight thk muz go 4 month den got effect gee later go aust put bk e weight wonder got online love gone net cafe get phone recharged friends net think boytoy haha kidding papa needs drugs thk shld b ya wana go 4 lessons haha go one whole stretch oh ok r still meeting 4 dinner tonight thats cool gentleman treat dignity respect shall start hear wait 4 u lor need 2 feel bad lar check got detailed message registered sinco payee log icicibankcom enter urn lt gt confirm beware frauds not share disclose urn anyone decided people care stuff vote caring stuff losers kaiez enjoy ur tuition gee thk e second option sounds beta go yan jiu den msg u registered sinco payee log icicibankcom enter urn lt gt confirm beware frauds not share disclose urn anyone cool fun practicing making babies actually getting ready leave house k k special today got ta got ten bucks jay noncomittal hungry pls speak customer machan somewhere beneath pale moon light someone think u dreams come true goodnite amp sweet dreams wen ur lovable bcums angry wid u dnt take seriously coz angry childish n true way showing deep affection care n luv kettoda manda nice day da wats ur opinion abt abt character jay snickering tells x totally fucking chords speak hours beforewent hair cut wonder cos dun rem seeing silver car thk saw black one lmao take pic send speak feel words better silence gud mrng currently scotland work week lol great im getting hungry yes saw message mu like lt gt seconds ok thing r good thanx got exams march ive done revision fran still boyf ive got ta interviw 4 exeter bit worried x tell make little spreadsheet track whose idea smoke determine smokes much entire month february nt look back building coat nt want get sick hurry home wear coat gym painful personal thought always try keep everybody happy time nobody recognises alone thanks lovely wisheds rock intrepid duo great time see soon asked sen come chennai search job dad went oredi jus hope true missin cos really missin nt done anything feel guilty yet wat late still early mah juz go 4 dinner lor aiya dunno arms fine cardiff uni fact leave think addie goes back school tues wed cool breeze bright sun fresh flower twittering birds waiting wish u goodmorning amp nice day ya going restaurant ok askd u knw tht ducking chinchillas marriage function looks like u wil b getting headstart im leaving bout 230ish u r desperate company could head earlierwe goin meet rummer donût give flying monkeys wot think certainly donût mind friend mine say thanks2 msg rajini comes ya ì_ taking ure practical lessons start june good need drugs stupidits not possible ì_ decide faster cos sis going home liao u sleeping going take haha got spys wat online checking n replying mails lor fighting world easy u either win lose bt fightng some1 close u dificult u lose u lose u win u still lose yalru lyfu astne chikku bt innu mundhe lyf ali halla ke bilo marriage program edhae lyf nt yet ovr chikku ali vargu lyfu meow meow kinda first one gets twelve aah speak tomo ok good later come find ì_ c lucky told ì_ go earlier later pple take finish ì_ wat makes u thk fall actually thk quite prone 2 falls lucky dad home ask come n fetch already account refilled successfully inr lt decimal gt keralacircle prepaid account balance rs lt decimal gt transaction id kr lt gt wont touch permission 7 wonders world 7th 6th ur style 5th ur smile 4th ur personality 3rd ur nature 2nd ur sms 1st ur lovely friendship good morning dear take small dose tablet fever oh u must taken real valentine shopping first sent email ûò address incomm right gon na blake night might able get little early friendship not game play not word say doesnt start march ends may tomorrow yesterday today e nice wait texting right not gon na pay ticket ya know watching lotr w sis dis aft u wan 2 meet 4 dinner nite not keeping away like think far find check google maps place dorm trip ok quite tiring lor uni starts today ok 4 cos not taking modules jus concentrating final yr project always saying welp guy browsin compulsory ok purity friendship two not smiling reading forwarded message smiling seeing name gud evng musthu sorry call later add nt really care ca nt least get dude fuck hey money want hello lover goes new job happy think wake slave send teasing kiss across sea told number gautham tell need investigate anywhere ok juz receive cant believe said many things morning really wanted say good morning love beautiful morning see library later end might still vomit okay not everything come money money aint thing sha everything weather keep extra warm cold nothing serious pls lots vitamin c hey gals anyone u going e driving centre tmr always yahoo messenger send message ill get may send mobile mode sha ill get reply putting ready lt time gt time n smile r two crucial things life sometimes time makes us forget smile sometimes someone smile makes us forget time gud noon hostbased idps linux systems da whats plan ill lt gt ok oh god almost home total video converter free download type google search wen ur lovable bcums angry wid u dnt take seriously coz angry childish n true way showing deep affection care n luv kettoda manda nice day da sounds like something someone testing would sayy u love someone dont make love u much u love much dont want loved anyone except gud nit pete phone still jenny college leannewhat oops sorry check nt mind picking tomo half eight station would ok hey sweet wondering moment might come want send file someone wo nt go yahoo connection sucks remember set page go download format disc could tell know way download big files download stuff directly internet help would great prey teasing kiss hows champ leaving glasgow k best congrats wonder get text need come home give good lovin shall ask one thing dont mistake check wid corect speling ie sarcasm angry happen dear thk u dun haf 2 hint e forum already lor cos told ron n darren going 2 tell shuhui yup ok thanx hi cts employee pls pls find aunt nike wow love sooo much know barely stand wonder day goes well love think miss screaming means shouting hey happen de alright picked receipt something earlier think chennai well settled oh dang nt mean send lol unfortunately found pick sister airport evening nt think going try go one th horrible bf v hungry remember day feel mr not real valentine yo valentine even tho u hardly play sounds good fingers makes difficult type midnight earliest not sure not trying make xavier smoke nt want smoke told smoke much k come nordstrom done u konw waht rael friendship im gving yuo exmpel jsut ese tihs msg evrey splleing tihs msg wrnog bt sitll yuo raed wihtuot ayn mitsake goodnight amp nice sleep sweet dreams press conference da completed degree use joining finance good afternoon love job prospects missing lazy bleak hmmm happy filled love shant disturb u anymore jia bishan lar nearer need buy early cos buy got ta park car dont know oh dude sux snake got old raiden got buff says hi get ass back south tampa preferably kegger e msg jus u said thanks gift u ok dear call chechi yeah totes u wan na ok found dis pierre cardin one looks normal costs 20 sale good sleep rhythm person establish rhythm body learn use want know wat r u message truro hospital ext phone phone side single line big meaning miss anything 4 ur best life got gas money chance gang want go grand nature adventure dnt worry use ice pieces cloth packalso take 2 tablets dude saw parked car sunroof popped sux get ready put excellent sub face tmrw im finishing 9 doors lt gt g saw days ago guy wants sell wifi lt gt 3g lt gt blanked late whatever im pretty pissed today accept day u accept brother sister lover dear1 best1 clos1 lvblefrnd jstfrnd cutefrnd lifpartnr belovd swtheart bstfrnd rply means enemy dont much image class got rumour going buy apartment chennai near kalainar tv officethenampet sis catching e show e afternoon not watching w c u wan 2 watch today tmr lor sounds gd haha wah u yan jiu fast liao nosy guess idk reacting freaked remember hurt days satanic imposter meneed pay price itmay destiny keep going u said pray get mind get make girl happy not difficult make girls happy u need 1 friend 2 companion 3 lover 4 chef lt gt good listener lt gt organizer lt gt good boyfriend lt gt clean lt gt sympathetic lt gt athletic lt gt warm lt gt courageous lt gt determined lt gt true lt gt dependable lt gt intelligent lt gt psychologist lt gt pest exterminator lt gt psychiatrist lt gt healer lt gt stylist lt gt driver aaniye pudunga venaam princess bet brothas chasing shall book chez jules half eight ok hhahhaahahah rofl wtf nig leonardo room something yep derek house see sunday lt 3 cool let know kicks around lt gt day sorry call later wondering would okay call uncle john let know things not nigeria r lt gt dollars 2years sent know strain plan pay back every dime gives every dime expect anything not practical something like charges transfer charges withdraw anyhow like dont search love let love find u thats called falling love bcoz u dont force u fall u know smeone hold u bslvyl 4 let go bill millers love set soul fire not spark flame big rawring flame xoxo somewhr someone surely made 4 u god decided perfect time make u meet dat person till den enjoy ur crushes honeymoon outfit help propose going back tomorrow never blame day ur life good days give u happiness bad days give u experience essential life gods blessings good morning pls confirm time collect cheque daddy take good care yeah probably still got ta check leo kthen special carlos taking sweet time usual let know patty donewant smoke tell haul ass ok pa nothing problem heard job going wildlife talk tonight u want2come that2worzels wizzle whatever god picked flower dippeditinadew lovingly touched itwhichturnedinto u gifted tomeandsaid friend 4u came hostel ok prob come lunch jus telling u dat b leaving 4 shanghai 21st instead haf time 2 meet cya freezing home yet remember kiss mom morning love think missing yet ready big day tomorrow probably around mu lot 645 thnx dude u guys 2nite sef dey laugh meanwhile darling anjie mm food da k makes sense btw carlos difficult guys gon na smoke go pick second batch get gas u download fring app 2 oz guy kinda flaky one friend interested picking lt gt worth tonight possible friends u stay fb chat fuck babe miss sooooo much wish sleep bed lonely go sleep dream love living simple loving also simple laughing simple winning tooo simple simple difficult gud nte ah well confuses things doesnût hi dear call urgnt nt know whats problem nt want work problem least tell wating reply dear ok yes princess want make happy sounds like many talents would like go dinner date next week going film 2day da 6pm sorry da not watching movie already xy wants 2 shop shopping w hello little party animal thought buzz friends grins reminding loved send naughty adoring kiss yesterday going home come life brought sun shiny warming heart putting constant smile face making feel loved cared shit nt surprised went spent evening french guy met town fooled around bit nt let fuck great comedy cant stop laughing da alright set text man hi not keen go kind feel nt go tomo nt mind sleeping nt feeling well u switch fone dammit india take lead ill post l8r class thts wat wright brother fly evening v good somewhat event laden fill nt worry û_ head ok throat wrecked see six u laugh really loud u talk spontaneously u dont care others feel u probably dear amp best friends goodevening dear laptop take dont file bag work called mei tell find anything room wan early lei outside wun b home early neva mind bugis juz wat walking home oredi ìï late reply oso saw top dat like din buy r ì_ wishing family merry x mas happy new year advance 7 go ok na yes posted couple pics fb still snow outside waking one good partnership going take lead yeah class send bec temple na nt coming home class right need work shower mostly not like ìï v fan dunno cos v late n reach inside already ate spageddies lor e gals r laughing lor guess spent last night phasing fourth dimension dad gon na call gets work ask crazy questions yes said hurting n meaningful lines ever compromised everything love lmao nice 1 glad see reply nah dub je still buff painful words thought happy toughest thing earth yeah fine å6 get ok lol u come ideas many people seems special first sight remain special till last sight maintain till life ends sh jas today song dedicated day song u dedicate send ur valuable frnds first rply okay wait ah lei hi babe u r likely bed im sorry tonight really wan na see u tomorrow call 9 love xxx already squatting new way walking want bold 2 bb torch cramps stopped going back sleep nan sonathaya soladha boss bring tat cd forget nt know raping dudes poker weightloss girl friends make loads money ebay something give thanks god gr8 see message r u leaving congrats dear school wat r ur plans ìï eatin later eatin wif frens lei ìï going home first finish already yar keep saying mushy embarrassed ok sorry man stash ran dry last night ca nt pick sunday hai priya right doctor said pa ok please ask mummy call father come room not come house cos house still messy haha lost 10 kilos today taste fish curry p might accidant tookplace somewhere ghodbandar rd traffic moves slovely plz slip amp nt worry yun ahnow ì_ wkg btw ì_ go nus sc ìï wana specialise wad yes one woman man please tell likes dislikes bed test earlier appreciate call tomorrow loverboy keeps coming queen hmmm nt ache speak miss desparately u meet fren dun wan meet ah muz b guy rite promises though nt even gotten dinner yet got back dislikes bed turns stereo love mi phone unknown album yeah nt see not asking u knw nt may ur frnds classmates sorry earlier putting firesare around talk 9 actually life lol missionary hook doggy hook standing u better go sleep dun disturb u liao u wake msg lor fighting world easy u either win lose bt fightng some1 close u dificult u lose u lose u win u still lose watching house ûò entertaining ûò getting whole hugh laurie thing ûò even stick ûò indeed especially stick thought praps meant another one goodo look tomorrow hi jon pete ive bin 2 spain recently hav sum dinero left bill said u ur åôrents mayb interested hav 12000pes around å48 tb james bold 2 lt gt know shall speak lt gt minutes alrite hunny wot u 2 2nite didnt end goin town jus da pub instead jus chillin da mo bedroom love jen xxx went project centre per request maangalyam alaipayuthe set callertune callers press 9 copy friends callertune lol yeah point guess not project w frens lor lol well quality aint bad aint complaining k happen tonight think going finn come tired special come tomorrow di cant pick phone right pls send message k go sleep well take rest u guys never invite anywhere want please inside outside bedroom ey calm downon theacusations itxt u cos iwana know wotu r doin thewend haventcn u ages ring ur up4 nething satlove j xxx love wine dine lady iåõm cool ta luv vtired 2 cause doin loads planning wk got social services inspection nursery take care spk sn x know account details ask mom send youmy mom reach think u wrong number feel always happy slowly becomes habit amp finally becomes part life follow happy morning amp happy day not b late love mum got mail panren paru thinking chuckin ur red green n black trainners 2 save carryin bac train give one miss number please jus came back fr lunch wif sis u leh schedule next week town weekend really good dhanush rocks lmao ok wont needing u hair anymore miss ya need ya want ya love ya sorry not free u ever get song stuck head reason wo nt go away til u listen like 5 times nt yet chikku simple habba hw abt u got ur mail dileepthank muchand look forward lots support less contacts remember one venugopal mentionedtomorrow not late shall try come till theregoodnight dear sometimes heart remembrs someone much forgets someone soon bcoz heart not like everyone liked ones remembered everytime bslvyl joy father john john name joy father mandan hi yijue regarding 3230 textbook intro algorithms second edition selling 50 k want us come little difficult simple way enter place ha us e thing got tv 2 watch u thk 2 go tonight u already haf smth mind dont show far put new pictures facebook watching tv got new job good afternoon sexy buns goes job search wake first thought always love wish fine happy know adore not coming whatever want ok chikku 1 favourite song u see posted facebook 7 wonders world 7th 6th ur style 5th ur smile 4th ur personality 3rd ur nature 2nd ur sms 1st ur lovely friendship good morning dear oh well c u later uncles atlanta wish guys great semester dear free messages without recharge hi hi hi dont search love let love find u thats called falling love bcoz u dont force u fall u know smeone hold u bslvyl dun believe u thk u told know god created gap fingers one made comes amp fills gaps holding hand love yes sura sun tv lol arun u transfr amt takin shower yeah leave done not working eyes philosophy text u later bit free chat u havenåõt lost ill always b 4ui didnåõt intend 2 hurt u never knew u felt iwasmarine thatåõs itried2tell urmomi careabout u bad girl still remember much gave morning hope alright babe worry might felt bit desparate learned job fake waiting come back love hey tell blake address carlos wanted meet got lost not answering phone get opinion something first one week leave put know time hit move excellent spent lt gt years air force iraq afghanistan stable honest like traveling wan na watch movie ok lor thanx ìï school class get text bus leaves lt gt god blessget good sleep dear pray nice day today love dearly aiyo bit pai seh ì_ noe scared dun rem die hee become better lookin oredi leh aight ask roommates whats house beer ì_ wan 2 meet n combine parts da rest da project going getting tickets 4 walsall tue 6 th march mate getting sat ill pay treat want 2 go txt bak terry yes chatting hi jess dont know work call u im home eve xxx sian aft meeting supervisor got work 2 liao u working going write ccna exam week well watch shrek 3d b much dirty fellow dunno dat wat told ok lor probably tomorrow even later tonight something going could nt say dying man feel sad go wanted know would probably gone late night thinking lifting one u dun wan u dun like already ah wat u still eating sent ur email id soon wat makes people dearer not de happiness dat u feel u meet de pain u feel u miss dem dude teresa hope okay didnt hear people called received package since dec lt gt thot yould like know fantastic year best reading plus really really bam first aid usmle work done hey gorgeous man work mobile number good one babe squishy mwahs may call later pls way stay oh hello thanx taking call got job starts monday time ur flight tmr come rather prominent bite mark right cheek september wet right husband norm tomorrow finish 415 cos st tests need sort library stuff point tomo got letter today access til end march better get move yeah got list u joanna feeling really anti social office na comingdown later super da good replacement murali da good good playerwhy unsold hi u want join sts later meeting five call u class engalnd telly decided wo nt let watch mia elliot kissing damn dont want hear philosophy say happen got job wipro get every thing life 2 3 years cant get da laptop matric card wif ì_ lei dunno da next show aft 6 850 toa payoh got 650 made payments dont much sorry would want fedex way didt play one day last year know even though good team like india k girl waiting reception ah say slowly god love amp need clean heart bloodsend ten special people amp u c miracle tomorrow pls pls hate turns fun shopping trip annoying day everything would look house sir waiting call want come online could work reach consensus next meeting aiyah wait lor u entertain hee last thing ever wanted hurt nt think would laugh embarassed delete tag keep going far knew nt even fact even felt like would hurt shows really nt know messy wednesday nt bad problem time clean choose not skype take pictures sleep want go nt mind things nt make bed throw laundry top ca nt friend house embarassed underwear bras strewn bed pillows floor something else used good least making bed let know kicks call ok said call call number available appointment ask connect call waheed fathima ì_ go buy wif meet ì_ later mmmm fuck not fair know weaknesses grins pushes knee exposes belly pulls head nt forget know wicked smile today system sh get readyall well also deep well mom wants know aight text back dont know supports ass srt thnk think ps3 play usb oh ok didnt know meant yep baby jontin watching tv got new job pen thing beyond joke wont biro nt masters ca nt ever party alex nichols seeing missed call dear brother gr8 day ok ìï finishing soon sorry ca nt help come slave going shell unconsciously avoiding making unhappy love ass enjoy doggy style think asking gym excuse lazy people jog way home not long dry spell season would got ta collect da car 6 lei ok knackered came home went sleep not good full time work lark probably earlier station think good morning plz call sir uh heads nt much left tot u outside cos darren say u come shopping course nice wat jus went sim lim look mp3 player aight sounds good want come wat would u like 4 ur birthday love working home miss vday parachute double coins u must not know well sorry call later sister got placed birla soft da wah okie okie muz make use e unlimited haha people mu table lambda stop old man get build snowman snow angels snowball fights ello babe u ok hello beautiful r u ok kinda ad row wiv walked pub wanted night wiv u miss u u going ikea str aft dat becoz lt gt jan whn al post ofice holiday cn go fr post ofice got duffer lol grr mom taking forever prescription pharmacy like 2 minutes away ugh real tho sucks ca nt even cook whole electricity hungry want go not time month mid time fffff text kadeem far gone not leaving yet ok lor go elsewhere n eat u thk fujitsu series lifebook good yar wanted 2 scold u yest late already got zhong se qing u ask b4 ask go w u lor n u still act real dont know bring food current food alone also sch fr 46 dun haf da book sch home hello going village pub 8 either come accordingly ok ok call like lt gt times oh give us hypertension oh dont give monkeys wot think certainly nt mind friend mine nt sleep wiv wud annoyin omg could snow tonite carry not disturbing pa tell went bath jus finished avatar nigro r u scratching hope great day either idea know anyplaces something planning usually stops find hella weed fact cleaning shows know upset priority constantly want excellent ready moan scream ecstasy dude avatar 3d imp one point thought actually flies room almost tried hittng one reflex k k cant come search job got lousy sleep kept waking every 2 hours see cat wanted come worry cold yeah leave couple minutes amp let know get mu ì_ call 1010 make sure dat woken hey go jazz power yoga hip hop kb yogasana battery mr adewale uncle aka egbon cant pick phone right pls send message wait 2 min stand bus stop oh ic thought meant mary jane haha really oh deduct lesson tmr nah im goin 2 wrks j wot bout u eat shit wait ur monkey face bitch u asshole good night going sleep aight grab something eat text back mu k k cant come search job take something pain moves however side next 6hrs see doctor lol oh babe wont sliding place midnight thanks invite howz persons story lol would awesome payback yes completely form clark also utter waste honeybee said sweetest world god laughed amp said wait u havnt met person reading msg moral even god crack jokes gmgngegn thanks tescos quite nice gone speak soon feathery bowa something guys nt know even cant close eyes vava playing umma 2 laptop noe infra slow lar wan fast one nvm ok enjoy ur life good night yes meet town cos go gep home could text bus stop nt worry finished march û_ ish askd u question hours answer thats cool cum delhi chennai still silent lol alright thinkin haha boat still moms check yo half naked shhhhh nobody supposed know sorry call later sorry call later meeting thing related trade please call arul lt gt hey late amk need drink tea coffee wnt buy bmw car urgently vry urgentbut hv shortage lt gt lacsthere source arng dis amt lt gt lacs thats prob length e e top shorter n got fringe thk not going liao lazy dun wan 2 distract u also antha num corrct dane calls messages missed calls sorry call later basket gettin full might tonight hi darlin ive got back really nice night thanks much lift see u tomorrow xxx valentines huh proof fb page ugh glad really nt watch rupaul show tool eh den sat u book e kb liao huh practising curtsey shall come get pickle lol boo hoping laugh yeh def up4 something sat well leave class babe never came back hope nice sleep love lmao fish memory need b going 2 sch mon sis need 2 take smth idea soon get converted live india going draw series many years south african soil goodmorning today late lt decimal gt min ca nt take major roles community outreach rock mel shopping lor raining mah hard 2 leave orchard hi birth 8lb 7oz mother baby brilliantly see forwarding message proof ca nt keep going never intention run choose rather keep room clean nt say visitors maybe best choice yes wanted embarassed maybe feel feel friend wants drop buy say happened morning tried everything nt know else dunno lei thk mum lazy go neva ask yet whatever want know rules talk earlier week start happening showing responsibility yet every week bend rule way way whatever tired thia argument every week lt gt movie doesnt inlude previews still getting 1 beautiful truth gravity read carefully heart feels light someone feels heavy someone leaves goodmorning ambrith madurai met u arun dha marrge remembr read shame tell takes runs blame u 4 ever not really 4 ever long time princess kitty shaved natural better bb wont use wife doctor ya came ago tomorrow onwards eve 6 3 work anything lor toa payoh got place 2 walk meh nt anybody number still nt thought tactful way ask alex movie theatre go watch unlimited movies pay u lunch alone bored yes obviously eggspert potato headû_ speak soon nah man car meant crammed full people got new job bar airport satsgettin 447per hour means lie keep touch kallis ready bat 2nd innings thanx birthday already ugh ca nt u apologize admit u wrong ask take u back noe la u wana pei bf oso rite k lor days den yes small kid boost secret energy im gon na miss u much avatar supposed subtoitles simply sitting watching match office jot things want remember later oh sorry please hey going lo lesson gym dont pack buy storelike cereals must pack food pack gari something 9ja miss always make things bigger ìï dun wan watch infernal affair not waking 4 afternoon sup send pic like okay booked already including one bugis aight fuck get later de call time ill tell k dont use hook much blackberry bold2 nigeria hi home calicut hey darlin pick u college u tell wen 2 mt love pete xx oh thkin goin yogasana 10 den nd go 3 den rush parco 4 nb okie lor u call ready late need go n get da laptop sir waiting mail please charge mobile get morning nothing got msg frm tht unknown ugh fuck resubbing eve nt see shadow get early spring yay one slice one breadstick lol hey want crave miss need love ahmad saeed al hallaq training tomorrow pass dis ur contacts n see wat u get red luv wid u blue u put smile face purple u r realy hot pink u r swt orange thnk lyk u green realy wana go wid u yelow wnt u bck black jealous u brown miss nw plz giv one color cos daddy arranging time c wat time fetch ì_ mah eldest know say hi drugdealer hard believe things like say lie think twice saying anything good night dear sleepwell amp take care wondarfull song yar lor actually quite fast cos da ge slow wat haha must come later normally bathe da afternoon mah trust even nt hey hunonbus goin 2 meet wants 2go 4a meal donyt feel like cuz 2 get last bus home hes sweet latelyxxx take like noon opening mca aight wat happening side done oredi sweet well princess please tell likes dislikes bed wish great semester moji love words rich day dude like buff wind alright babe not ca nt give everything want need actually could better yor got money ca nt get work ca nt get man ca nt pay rent ca nt even fill fucking gas tank yes stressed depressed nt even call home thanksgiving cuz tell nothing kallis wont play first two odi get cash together text jason oh love soooo good hear omg missed much today sorry problems provider thank tming probably want pick done cutest girl world dice art class 6 thru 9 thanks though idea time come tomorrow oh howda gud gud mathe en samachara chikku thk 530 lor dunno get tickets not wat u audrie lousy autocorrect site simulate test gives tough questions test readiness anyway seriously hit back otherwise light armand always shit andor vomiting fetch yun u fetch thank like well hmmm imagine come home rub feet make dinner help get ready date sure ready kind life lara said loan lt gt spare power supplies yar quite clever aft many guesses lor got ask 2 bring thk darren not willing 2 go aiya thk leona still not attach wat yeah nt go bed back midnight well nt available washob nobbing last night ask nickey platt instead time week ryan wish u many many returns day happy birthday vikky hope know still mad argh 3g spotty anyway thing remember research province sterling problemfree places looked xam hall boy asked girl tell starting term dis answer den manage lot hesitation n lookin around silently said intha ponnungale ipaditan know result beautiful truth gravity read carefully heart feels light someone feels heavy someone leaves good night sorry im getting feel really bad totally rejected kinda thing got shitload diamonds though tessy pls favor pls convey birthday wishes nimya pls dnt forget today birthday shijas well going aunty mine like fr china noisy later guess needa mcat study training manual show tech process password reset troubleshooting spoke uncle john today strongly feels need sacrifice keep going call beg listen dont make promises make clear things not easy need please let us work things long keep expecting help creativity stifled pls keep happy promises part started searching get job dayshe great potential talent carlos took leave minute well done luv ya came hostel k still loving juz remembered got ta bathe dog today drug able eat alright took morphine back yo see requirements please stayin trouble stranger saw dave day heåõs sorted still bloke u gona get girl mr ur mum still thinks get 2getha collect ur laptop ok later showing around 8830 want cld drink wld prefer not spend money nosh nt mind nxt wk get home waaaat lololo ok next time table occupied waiting tree surely dont forgot come always touch hi kindly give us back documents submitted loan stapati dont shall buy one dear oh god happy see message 3 days year many miles hey cutie goes wales kinda ok like hills shit still avent killed sad story man last week bday wife didnt wish parents forgot n kids went work even colleagues not wish entered cabin pa said happy bday boss felt special askd 4 lunch lunch invited apartment went said u mind go bedroom minute ok sed sexy mood came 5 minuts latr wid cake n wife parents kidz friends n colleagues screaming surprise waiting sofa naked think go honesty road call bank tomorrow tough decisions make us great people not specialisation work slave labor look month sha cos shakara 4 beggar replying boye changed phone number 1 go write msg 2 put dictionary mode 3 cover screen hand 4 press lt gt 5 gently remove ur hand interesting hi darlin im way london smashed another driver big dent im really missing u u xxx nothing really making sure everybody speed not coming home 4 dinner thank way lost yeshe good crickiting mind thx well months please come imin towndontmatter urgoin outl8r wont wat wit guys yavnt tried yet never played original either hiya good day spoken since weekend see thought work please call get ready moan scream oh k got job whats think nt need going late school night especially one class one missed last wednesday probably failed test friday popping lt gt ibuprofens help babe goes day sip cappuccino think love send kiss across sea ok ps u ur grown right chinatown got porridge claypot rice yam cake fishhead beehoon either eat cheap den go cafe n tok go nydc somethin know people hit fuck yes purity friendship two not smiling reading forwarded message smiling seeing name gud evng anything specific regards jaklin idk fuck oh god gon na google nearby cliffs yup shd haf ard 10 pages add figures ìï got many pages ooh 4got gon na start belly dancing moseley weds 630 u want 2 join cafe thankyou much call appreciate care congrats treat pendingi not mail 2 dayswill mail thrurespect mother homecheck mails called one pick e phone ask already said ok hi email address changed valuable affectionate loveable eternal noble truthful intimate natural enamous happy valentines day advance not much textin bout bring got movie call 4 wat not sure stomach haha dinner cousin boy late 2 home father power frndship man carlos definitely coming mu tonight excuses soon real thing princess make wet raji pls favour pls convey birthday wishes nimya pls today birthday haha legs neck killing amigos hoping end night burn think could swing like hour usually body takes care buy making sure doesnt progress pls continue talk saturday hmm well night night wanted say holy shit guys nt kidding bud gettin bit arty collages mo well tryin 2 ne way got roast min lovely shall enjoy one days billion classes right goodmorning today late 2hrs back pain ok let noe later n ask call u tmr prabha soryda realy frm heart sory ok waliking ard u wan 2 buy anything go ur house two cartons u pleased shelves nice talking please dont forget pix want see really quite funny lor wat u shd haf run shorter distance wat notice like looking shit mirror youre turning right freak great getting worried know wonderful caring person like best life know u r wonderful god love prefer free days tues wed fri oso ìï ask workin lor alrite jod hows revision goin keris bin doin smidgin n e way u wan na cum college xx belive come home oh kk take test exact intentions haha money leh later got go tuition haha looking empty slots driving lessons hey thk juz go accordin wat discussed yest lor except kb sun cos nt much lesson go attend kb sat k wen ur free come home also tel vikky hav sent mail also better come evening il free today aftr 6pm nothing getting msgs dis name wit different good morning plz call sir room number wan na make sure knocking right door sicomo listened2the plaid albumquite gd new air1 hilariousalso boughtåóbraindanceåóa compofstuff aphexåõs abel pls tell nelson bb longer comin money expecting aint coming give something drink takes nt vomit temp might drop unmits however let know think sent text home phone cant display texts still want send number every day use sleep lt gt k call close u buy newspapers already nope wif sis lor aft bathing dog bathe looks like going 2 rain soon boo way moms making tortilla soup yummmm management puzzeles find way nt include details like spoiled getting threats sales executive shifad raised complaint official message hope things went well doctors reminds still need 2godid u c little thing left lounge den wat e schedule b lk sun lol enjoy role playing much ok watching tv lov line hurt truth checked heading drop stuff got lots hair dresser fr china sad story man last week bday wife didnt wish parents forgot n kids went work even colleagues not wish ill call evening ill ideas show wot say could u not c 4 dust take lt gt min ok bus come soon come otherwise tomorrow cant pick phone right pls send message finish liao u haha think u know watchin lido life spend someone lifetime may meaningless moments spent someone really love means life haha awesome 4u couple times coming cold dont sad dear think could stop like hour roommate looking stock trip telly brdget jones love aathi love u lot hello r u im bored inever thought id get bored tv tell something exciting happened anything hmm bad news hype park plaza 700 studio taken left 2 bedrm 900 sorry call later meeting r ì_ comin back dinner hav almost reached call unable connect u waited yesterday reach home safe n sound liao velly good yes please hi wkend ok journey terrible wk not good huge back log marking two letters copy cos one message speak soon alex knows guy sells mids south tampa nt think could set like 8 dont message offer hey babe u doin wot u 2 2nite love annie x remind get shall not v romantic hello damn christmas thing think decided keep mp3 doesnt work hi darlin im missin u hope good time u back time u give call home jess xx draw va dont think dont pick call something important tell hrishi nothin comes mind ìï help buy hanger lor ur laptop not heavy lt gt guess easy enough make baby yo tho tell friend not come round til like lt gt ish friendship poem dear dear u r not near hear dont get fear live cheer tear u r always dear gud ni8 still area restaurant ill try come back soon aight work thanks 2 sleeping bags 1 blanket paper phone details anything else guys also chat awesome nt make regular unless see person significant dont worry cause old live high waqt se pehle naseeb se zyada kisi ko kuch nahi milta zindgi wo nahi jo hum sochte hai zindgi wo hai jo ham jeetey hai way office da place want da pain could nt come worse time ok stalking u sorry dude dont know forgot even dan reminded sorry hope guys fun ok lor apps class varaya elaya xmas story peace xmas msg love xmas miracle jesus hav blessed month ahead amp wish u merry xmas day asked anand number surfing online store offers want buy thing long beach lor expected u dinner home way fine thanks happen tell truth like italian food weird know one point aww must nearly dead well jez iscoming todo workand whilltake forever tell friends plan valentines day lt url gt alright see bit cheers message zogtorius iåõve staring phone age deciding whether text not take care financial problemi help tell dear happen talking like alian 1 go write msg 2 put dictionary mode 3 cover screen hand 4 press lt gt 5 gently remove ur hand interesting okie hi yijue meet u 11 tmr posible dnt live lt gt century cm frwd n thnk different dint slept afternoon seems unnecessarily affectionate yar else thk sorts funny things place man thats cool day r going lt gt bus hello love went day alright think sweet send jolt heart remind love hear screamed across sea world hear ahmad al hallaq loved owned possessive passionate kiss joined today okay well thanks clarification talk others probably come early tomorrow money issue weigh thanks breathe easier ill make sure dont regret thanks hi sorry missed call pls call back hope settled new school year wishin gr8 day ok need tell anything going sleep good night ok try week end course coimbatore v nice 2 sheffield tom 2 air opinions categories 2 b used 2 measure ethnicity next census busy transcribing r home come within 5 min boy loved gal propsd bt didnt mind gv lv lttrs bt frnds threw thm boy decided 2 aproach gal dt time truck speeding towards gal wn 2 hit girl boy ran like hell n saved asked hw cn u run fast boy replied boost secret energy n instantly girl shouted energy n thy lived happily 2gthr drinking boost evrydy moral story hv free msgs gud ni8 day ì_ say ì_ cut ur hair paragon called hair sense ì_ noe much hair cut hmm many unfortunately pics obviously arent hot cakes kinda fun tho watching tv lor funny bluff 4 wat izzit thk impossible us dunno lei neva say thanx 4 2day u r goodmate think ur rite sary asusual 1 u cheered love u franyxxxxx way home went change batt 4 watch go shop bit lor hi mobile lt gt added contact list wwwfullonsmscom great place send free sms people visit fullonsmscom good evening sir hope nice day wanted bring notice late paying rent past months pay lt gt charge felt would inconsiderate nag something give great cost didnt speak however recession wont able pay charge month hence askin well ahead month end please help thank everything let want house 8am best line said love wait till day forget u day u realize u not forget gn reach ten morning pussy perfect sorry call later message responce happend also piece wiskey brandy rum gin beer vodka scotch shampain wine kudi yarasu dhina vaazhthukkal boo things back home little bored already first gained lt gt kg since took second done blood sugar tests ok blood pressure within normal limits worries pick ur fone u dumb thanks da thangam feel happy dear also miss da okey doke home not dressed cos laying around ill speak later bout times stuff nt run away frm u walk slowly amp kills u nt care enough stop babe back come back well told others marry neshanth tel r u yo yo yo byatch whassup oh kay sat right hi roger cl oh oh wasted den muz chiong sat n sun liao jesus christ bitch trying give drugs answer fucking phone please give 2 pick tuesday evening 8 ok meeting darren one best dialogue cute reltnship wen die solve case man found murdered lt decimal gt lt gt afternoon 1 wife called police 2 police questioned everyone 3 wife sir sleeping murder took place 4cook cooking 5gardener picking vegetables 6housemaid went 2 post office 7children went 2 play 8neighbour went 2 marriage police arrested murderer immediately reply reason u r brilliant dear reach aww first time u said u missed without asking missed u first love ok thanx gd nite 2 ì_ come right ahmad lol please actually send pic right wan na see pose comb hair dryer something not fps huh means computational science like dat one push n could not read love answered oh lk tt den take e one tt ends cine lor dun wan yogasana oso madam regret disturbancemight receive reference check dlf premaricakindly informedrgds rakhesh kerala oic better quickly go bathe n settle err cud going 8pm nt got way contact bloo bloo bloo miss first bowl lmao fun oh k k not big hitteranyway good hey almost forgot happy bday babe love ya think move lt gt week shes find sent offline message know anjola txting driving good lets thank god please complete drug lots water beautiful day really dun bluff leh u sleep early nite indians r poor india not poor country says one swiss bank directors says lt gt lac crore indian money deposited swiss banks used taxless budget lt gt yrs give lt gt crore jobs indians village delhi 4 lane roads forever free power suply lt gt social projects every citizen get monthly lt gt lt gt yrs need world bank amp imf loan think money blocked rich politicians full rights corrupt politicians itna forward karo ki pura india padhegm uncle boye need movies oh guide plus know torrents not particularly legal system slowing gr8 day plus started cos dont meet online honey moon oh ya ya remember da btw regarding really try see anyone else 4th guy commit random dude not busy juz dun wan 2 go early hee rightio 1148 well arent bright early morning great church holla get back brum thanks putting us keeping us happy see soon donno scorable lt gt great loxahatchee xmas tree burning update totally see stars yes dont care need bad princess guy kadeem nt selling since break know one guy paranoid fuck nt like selling without ca nt til late tonight sorry call later tmr ì_ brin lar aiya later come n c lar mayb ì_ neva set properly ì_ got da help sheet wif ì_ u knw dis lt gt dun believe wat k give back thanks know complain num bettr directly go bsnl offc nd apply okay seen pick friday much payed suganya left dessert u wan 2 go suntec look 4 u abeg make profit start using get sponsors next event onum ela pa normal kk sister kids cool text way nope meanwhile talk say make greet cant talk nowi call candont keep calling anything lar rose needs water season needs change poet needs imagination phone needs ur sms need ur lovely frndship forever good afternoon babe goes day job prospects yet miss love sighs pick drop carso problem si think waste rr world famamus coming friday leave pongal get news work place lol well nt without could big sale together way eat old airport road 630 oredi got lot pple sry ca nt talk phone parents ok lor wat time ì_ finish princess like make love lt gt times per night hope thats not problem mm way railway dnt wnt tlk wid u done sorry hope next space gives everything want remember furniture not around move lock locks leave key jenne not yet like keep touch easiest way barcelona way ru house k evening da urgent pansy living jungle two years driving worried mm kanji dont eat anything heavy ok promise getting soon text morning let know made ok lol different nt go trying find every real life photo ever took dont thnk wrong calling us k ill drinkpa need srs model pls send mail id pa aiyah e rain like quite big leh drizzling least run home 2 docs appointments next week tired shoving stuff ugh could nt normal body dun b sad dun thk abt already concentrate ur papers k greetings consider excused drama plsi enough family struggling hot sun strange placeno reason ego not going not invited actually necessity gowait serious reppurcussions released another italian one today cosign option mu try figure much money everyone gas alcohol jay trying figure weed budget hcl chennai requires freshers voice processexcellent english neededsalary upto lt gt call mssuman lt gt telephonic interview via indyarockscom dai da send resume id know lt gt around 5 yup finished c ì_ remember ask alex pizza da today also forgot ola would get back maybe not today told direct link us getting cars bids online arrange shipping get cut u partnership u invest money shipping takes care rest u wud b self reliant soon dnt worry fwiw reason around time smoke gas afford around someone tells apparently happens somebody wants light hello boytoy made home constant thought love hope nice visit ca nt wait till come home kiss congrats kano whr treat maga u talking yup ok u wake already wat u u picking us later rite taking sq825 reaching ard 7 smth 8 like dat u check e arrival time c ya soon yunny walking citylink ì_ faster come hungry er yep sure props hiya u paying money account thanks got pleasant surprise checked balance u c nt get statements 4 acc ok ill send lt decimal gt ok bognor splendid time year yesi office da sorry call later joy father john john name joy father mandan ok ask abt e movie u wan ktv oso misplaced number sending texts old number wondering not heard year best mcat got number atlanta friends sorry call later dunno lei might b eatin wif frens ì_ wan eat wait 4 ì_ lar sorry call later say slowly god love amp need clean heart bloodsend ten special people amp u c miracle tomorrow pls pls u noe 2 send files 2 computers mmmmm loved waking words morning miss love hope day goes well happy wait us together jay says put lt gt come sec somebody want see sun anti sleep medicine happening gotten job begun registration permanent residency yup ok glad went well come 11 plenty time claire goes work ok enjoy r u home pls pls send mail know relatives coming deliver know costs risks benefits anything else thanks like haf combine n c lor monthly amount not terrible not pay anything till 6months finishing school hmmm many players selected said gon na snow start around 8 9 pm tonite predicting inch accumulation dont send plus mode aiyo please ì_ got time meh package programs well sister belongs 2 family hope tomorrow pray 4 fated 4 shoranur train incident lets hold hands together amp fuelled love amp concern prior 2 grief amp pain pls join dis chain amp pass stop violence women guys asking get slippers gone last year company goodenvironment terrific food really nice honestly made lovely cup tea promptly dropped keys burnt fingers getting yup not studying surfing lor e lazy mode today please sen kind advice please come try done c ì_ oh fine tonight ìï give time walk reach ard 20 mins ok fuck babe happened come never came back friends want drive em someplace probably take also thk fast xy suggest one not u dun wan ok going 2 rain leh got gd still getting goods maybe pressies yeah leave maybe 7ish k k also fine complete course sea lays rock rock envelope envelope paper paper 3 words told dr appt next week thinks gon na die told check nothing worried nt listen room need dont want hear anything hey leave friday wait ask superior tell ultimately tor motive tui achieve korli 5 2 work timing û_ donût worry weûll finished march û_ ish house water dock boat rolled newscaster dabbles jazz flute behind wheel thats going ruin thesis sch neva mind u eat 1st lor hey whats u sleeping morning erm thought contract ran the4th october dunno lets go learn pilates yup elaborating safety aspects issues goodmorning today late 1hr hi happy birthday hi hi hi hi hi hi hi outside office take nt respond imma assume still asleep imma start calling n shit aight see bit superior telling friday leave department except leave way call waheed fathima hr conform lol take member said aunt flow nt visit 6 months cause developed ovarian cysts bc way shrink still work going small house friend got says upping order grams got lt gt get tmr timin still da wat cos got lesson 6 thatûs thing apes u fight death keep something minute u let go thats not gon na able late notice home weeks anyway plans got fujitsu ibm hp toshiba got lot model say okie thanx gosh pain spose better come usual iam fine happy amp well okie gon na get rimac access im arestaurant eating squid 1030 wan na dosomething late call times job today ok umma ask speed hello ucall wen u finish wrki fancy meetin wiv u tonite need break dabooks 4 hrs last nite2 today wrk r u sam p eachother meet go 2 house yeah lol luckily nt starring role like hello madam awesome text restocked usual iam fine happy amp well yes innocent fun thanks sending mental ability question sir hope day going smoothly really hoped wont bother bills ca nt settle month extra cash know challenging time also let know 2marrow wed lt gt 2 aha went ur hon lab one cant pick phone right pls send message hey pple 700 900 5 nights excellent location wif breakfast hamper come lol nah nt bad thanks good b home quite reality check hows ur day u anything website ok lor coming home 4 dinner da al r lt gt unni thank dear recharge rakhesh know lacking particular dramastorm details part not worried haha cant tmr forfeit haha hey glad u r better hear u treated urself digi cam good r 9pm fab new year c u coupla wks way going back cal sir meeting love hear v see sundayish sorry da thangam sorry held prasad tiwary rcbbattle bang kochi thank god bed nt cancer moms making big deal regular checkup aka pap smear gobi arts college wants talk pandy joined 4w technologies todayhe got job try get lost fact tee hee hi spoke maneesha v like know satisfied experience reply toll free yes friends use call sorry call later em olowoyey uscedu great time argentina not sad secretary everything blessing taxt massage tiepos argh ok lool hi please get lt gt dollar loan ill pay back mid february pls might want pull case plan not spending nt much confidence derek taylor money management like shaking booty dance floor text get nt call phones problems need drug anymore sorry da thought calling lot times lil busyi call noon sarcasm nt scarcasim great run ttyl feel like trying kadeem v dai lt gt naal eruku not yet chikku wat abt u ok want finally lunch today know dad back remains bro amongst bros r u meeting da ge nite tmr nice day impressively sensible went home early feel fine boring ca nt remember de looking good yes replied mail going management office later plus bank later alsoor wednesday cool come like lt gt ish super msg da nalla timing good afternoon boytoy feeling today better hope good boy obedient slave please queen 6 ft good combination sick needy want pouts stomps feet pouts stomps feet want slave want train back northampton afraid not abj serving staying dad alone playng 9 doors game gt racing phone lol solve case man found murdered lt decimal gt lt gt afternoon 1 wife called police 2 police questioned everyone 3 wife sir sleeping murder took place 4cook cooking 5gardener picking vegetables 6housemaid went 2 post office 7children went 2 play 8neighbour went 2 marriage police arrested murderer immediately reply reason u r brilliant da bus going home got call landline number asked come anna nagar go afternoon okay chasing dream good next yupz oredi booked slots 4 weekends liao r many model sony ericson also der lt gt luks good bt forgot modl okie yes know cheesy songs frosty snowman ya ok vikky vl c witin lt gt mins il reply u hey tmr meet bugis 930 nice new shirts thing wear nudist themed _ mu hey sexy buns day word morning ym think whenever see still hook nope going home go pump petrol lor like going 2 rain soon use foreign stamps whatever send oh baby house come dont new pictures facebook feb lt gt love u day send dis ur valued frnds evn 3 comes back u gt married person u luv u ignore dis u lose ur luv 4 evr hiya sorry nt hav signal nt seen heard neither unusual put case get sort hugs snogs omw back tampa west palm hear happened yup already thanx 4 printing n handing mean come chase stated watch many movies want took tablets reaction morning nah perpetual dd sorry de went shop wen ur lovable bcums angry wid u dnt take seriously coz angry childish n true way showing deep affection care n luv kettoda manda nice day da hey still want go yogasana coz end cine go bathe hav steam bath nope not drivin neva develop da photos lei thinking going reg pract lessons flung advance haha wat time u going cool lt gt inches long hope like big housemaid murderer coz man murdered lt gt th january public holiday govtinstituitions closed including post office understand okie thanx go n buy juz buy get lar ok lor working technical support voice process justbeen overa week since broke already brains going mush tunde wishing great day abiola nope c ì_ medical missions nigeria not not movies laptop whatsup dont u want sleep havent lei next mon mm feeling sleepy today shall get dear dare stupid wont tell anything hear wont talk ì_ noe ben going mag meeting avo point meant middle left right really crashed cuddled sofa hi chachi tried calling u unable reach u pl give missed cal u c tiz msg kanagu sent prices mean lt gt g much buzy nothing working ringing u thing whole houseful screaming brats pulling hair loving u family not responding anything room not went home diwali one called not coming makes feel like died tick tick tick babe r ì_ going 4 today meeting k da many page want ya nowonion roast send number give reply tomorrow morning said like ok said not problem let know ok tell half hr b4 u come need 2 prepare play w computer aiyah tok 2 u lor sat right okay thanks derp worse dude always wants party dude files complaint three drug abusers lives ok chinese food way get fat paying lipo r outside already good trip watch remember get back must decide easter yo watching movie netflix time iûm prob 3 meh thgt clash really ah dun mind dun seen lost weight gee dont thnk wrong calling us not sure night menu know noon menu arr birthday today wish get oscar say slowly god love amp need clean heart bloodsend ten special people amp u c miracle tomorrow pls pls open rebtel firefox loads put plus sign user name place show two numbers lower number number pick number pin display okay picking various points wow v v impressed funs shopping way ur home problem talk later ur sis still customer place dude u knw also telugu thts gud k gud nyt confirm eating esplanade send id password kind took garage centre part exhaust needs replacing part ordered n taking fixed tomo morning well might not come long quit get like 5 minutes day likely called mittelschmertz google dont paracetamol dont worry go well right gon na get check today steam salespee text want come get arrived see couple days lt 3 k wat tht incident yeah get unlimited cthen thk shd b enuff still got conclusion n contents pg n references b da contents pg n cover pg forgot takes 3 years shower sorry atyour phone dead yet ìï got wat buy tell us ì_ need come big god bring success û_ r stayin extra week back next wed rugby weekend hi c u soon ham not campus library affidavit says lt gt e twiggs st division g courtroom lt gt lt time gt double check text tomorrow creep _ tell friends plan valentines day lt url gt get ten billion calls texts help god purity friendship two not smiling reading forwarded message smiling seeing name gud evng musthu told returned order housemaid murderer coz man murdered lt gt th january public holiday govtinstituitions closed including post office depends u going lor smile right go world wonder smiling think crazy keep away grins lil fever fine think still car not yes princess want catch big strong hands oh yeah forgot u take 2 shopping mm asked not call radio thinkin someone good drugs say slowly god love amp need clean heart bloodsend ten special people amp u c miracle tomorrow pls pls enjoy showers possessiveness poured u ur loved ones bcoz world lies golden gift loved truly alright sure let know leaving lasting much 2 hours might get lucky genius brother pls send number skype thk em find wtc far weiyi not goin e rest dunno yet r ur goin 4 dinner den might b able join nt forget owns private property good boy always passionate kiss oh god taken teeth paining u ask darren go n pick u lor oso sian tmr haf 2 meet lect need buy lunch eat maggi mee ok lor oh right ok make sure loads work day got really nasty cough today dry n shot really help wifehow knew time murder exactly howz persons story thanx 4 sending home normally hot mail com see u sick still go shopping ya well fine bbd pooja full pimples even become quite black ur rite cold wearing sweatter nicenicehow working 1 reach home call trying find chinese food place around easy mate guess quick drink bit ambitious babe miiiiiiissssssssss need crave geeee sad without babe love ok thanx aathi dear tunji queen wishing great day abiola today iz yellow rose day u love frndship give 1 misscall amp send ur frndz amp see many miss calls u get u get 6missed u marry ur lover class hours sorry wat time u finish ur lect today sad story man last week bday wife didnt wish parents forgot n kids went work even colleagues not wish entered cabin pa said happy bday boss felt special askd 4 lunch lunch invited apartment went said u mind go bedroom minute ok sed sexy mood came 5 minuts latr wid cake n wife parents kidz friends n colleagues screaming surprise waiting sofa naked fine good hear dear happy new year oh going wipro interview today tall princess doubt could handle 5 times per night case haha hope ì_ hear receipt sound gd luck gon na death gon na leave note says robs fault avenge japanese proverb one u none u must indian version one let none leave finally kerala version one stop none make strike today not workin not free oso gee thgt u workin ur fren shop life face choices toss coin not becoz settle question coin air u know heart hoping gudni8 know god created gap fingers one made comes amp fills gaps holding hand love want kiss feel next not happy saying ok would b lovely u r sure think wot u want drinkin dancin eatin cinema u wot saying nt explicitly told nora know someone probably not gon na bother says hi get ass back south tampa preferably kegger smith waste dai wan na gayle mum sent many many messages since got want know actually getting enjoy rest day aight tomorrow around lt gt housemaid murderer coz man murdered lt gt th january public holiday govtinstituitions closed including post office understand actually first time went bed not long spoke woke 7 night see dont understand message crucify c not told earlier idk keep saying not since moved keep butting heads freedom vs responsibility tired much shit deal barely keeping together gets added fuck cedar key fuck come anyway tho twenty past five said train durham already not coz reserved seat u still painting ur wall printer cool mean groovy wine groovying hi harish rent transfred ur acnt anything lor coming cbe really good nowadays lot shop showrooms city shaping good ìï still attending da talks probs hon u doinat mo k take care take nt phone callon friday assume wo nt year battery low babe shuhui bought ron present swatch watch yeah quite bit left swing tomorrow get babe said 2 hours almost 4 internet k sure get noon see k k yesterday cbe went ganesh dress shop ìï collecting ur laptop going configure da settings izzit r home come within 5 min aight 8 latest probably closer 7 jay tyler two trips come aftr lt decimal gt cleaning house bill letters iûªm expecting one orange isnûªt bill may still say orange tell pa pain de hi darlin hope nice night wish come cant wait see love fran ps want dirty anal sex want 10 man gang bang ha donût know either clever simple thing pears day perfect christmas helloooo wake sweet morning welcomes enjoy day full joy gud mrng alrite must sit around wait summer days celebrate magical sight worlds dressed white oooooh let snow guys go see movies side sorry meeting call later nt tell thinking plus going stop runs kindly send one flat lt decimal gt today nothing lor bit bored dun u go home early 2 sleep today time tell friend around yes fine love safe thanks chikku gud nyt xy ur car u picking thanx 4 time weåõve spent 2geva bin mint ur baby want u xxxx yo way could pick something tonight not sent send fine simply sitting thts god gift birds humans hav natural gift frm god coming day class im done studyn library ok u enjoy ur shows anything wuld without baby thought alone mite break donåõt wan na go crazy everyboy needs lady xxxxxxxx wat dear sleeping ah hi test lt gt rd 2 students solved cat question xam 532 lt gt 924 lt gt 863 lt gt 725 tell answer u r brilliant 1thingi got answr yo know anyone lt gt otherwise able buy liquor guy flaked right nt get hold somebody 4 loko night yup n fren lor meeting fren 730 yeah got one lined us stop wondering wow ever going stop tming tm whenever want mine laughs lol yep yesterday already got fireplace another icon sitting hey booked pilates yoga lesson already haha ok happen behave like supervisor find 4 one lor thk students havent ask yet tell u aft ask hello news job making wait fifth week yeah im woozles weasels exeter still home 3 message responce happend hey babe sorry nt get sooner gary come fix cause thinks knows nt go far ptbo says cost lt gt bucks nt know might cheaper find someone nt second hand machines right let know want babe make 3 4 fucks sake x leave u always ignorant nope b going 2 sch fri quite early lor cos mys sis got paper da morn bruce b downs amp fletcher said would woke hey free call tell whos pls think might give miss teaching til twelve lecture two damn working thing id check like 1 bowls worth left yes many sweets would still cozy exhausted last nightnobody went school work everything closed buzzzz grins buzz ass buzz chest buzz cock keep phone vibrator feel shake sir send group mail check da intro covers energy trends n pros n cons brief description nuclear fusion n oso brief history iter n jet got abt 7 n half pages none nowhere ikno doesdiscount shitinnit dont know jabo abi not yet ya sapna aunty manege yday hogidhe chinnu full weak swalpa black agidhane good baby neft transaction reference number lt gt rs lt decimal gt credited beneficiary account lt gt lt time gt lt gt mostly sports type lyk footbl crckt head dey swell oh thanks making day u make fb list height confidence aeronautics professors wer calld amp wer askd 2 sit aeroplane aftr sat wer told dat plane ws made students dey hurried plane bt 1 didnt move said made students sary need tim bollox hurt lot tol happy new year princess text carlos let know hang nt worry easy ingredients love u 2 little pocy bell sorry love u ok omw castor yar lor keep raining non stop u wan 2 go elsewhere u mean u almost done done wif sleeping tot u going take nap yup send liao picking ard 4 smth lor 7 wonders world 7th 6th ur style 5th ur smile 4th ur personality 3rd ur nature 2nd ur sms 1st ur lovely friendship good morning dear tonight yeah eat fo lunch senor said right giggle saw u would possibly first person2die nvq think much could break time one come n get stuff fr ì_ see ca nt see maybe reboot ym seen buzz still grinder love nt decision feeling could decide love life would much simpler less magical ki didt see k list buyers idea guess work hour supposed leave since usual nobody interest figuring shit last second mm not entirely sure understood text hey ho weekend released vday shirts u put makes bottom half naked instead white underwear know watching film computer b4 thursday oh phone phoned disconnected id onluy matters getting offcampus excellent see riley plans see half hour ew one also hi wesley ah see lingo let know wot earth finished making imagine life without see fast u searching nt worry l always disturb u goodnoon hm good morning headache anyone yeah probs last night obviously catching speak soon might go 2 sch yar e salon v boring lt gt mins stop somewhere first lt gt fast approaching wish u happy new year happy sankranti happy republic day happy valentines day happy shivratri happy ugadi happy fools day happy may day happy independence day happy friendship mother father teachers childrens day amp happy birthday 4 u happy ganesh festival happy dasara happy diwali happy christmas lt gt good mornings afternoons evenings nights rememberi first wishing u raj one joys lifeis waking daywith thoughts somewheresomeone cares enough tosend warm morning greeting nt get second half message wat time u wan 2 meet later thank much selflessness love plenty film ill call later dare change ring bad girl lady love ya try budget money better babe gary would freak knew part nt initiate nt understand finished lunch already u wake already still game got tallent wasting record one night also sir sent email log usc payment portal ill send another message explain things back home great weekend gon na let know cos comes bak holiday day coming dont4get2text number jokin lar depends phone father get lor aight lem know get ready lt gt inches pleasure raji pls favour pls convey birthday wishes nimya pls today birthday ok feel like john lennon cos darren say ì_ considering mah ask ì_ not bothering trust answers pls wishing family merry x mas happy new year advance one day crab running sea shore waves came n cleared footprints crab crab asked frnd r u clearing beautiful footprints waves replied fox following ur footprints catch thats cleared frndsship never lets u dwn gud nyt aight time want come slaaaaave must summon time nt wish come anymore bill 3 å3365 thats not bad let know changes next 6hrs even appendix age range however not impossible chill let know 6hrs hello yeah got bath need hair come done yeah weather ok not much though h friday cant wait dunno wot hell im gon na another 3 weeks become slob oh wait already done die e toot fringe lol nt know awesome phone could click delete right want ok awesome question cute answer someone asked boy ur life smiled amp answered fine gudnite please leave topic sorry telling pls send correct name da happened yo date webpage not available woke yeesh late nt fall asleep til lt gt dear know lt gt th lt gt th birthday loving gopalettan planning give small gift day like participate welcome please contact admin team details k k tomorrow onwards started ah u talking bout early morning almost noon fine remember ok many buy sounds good keep posted ok april cant wait boy best get yo ass quick ay wana meet sat ì_ wkg sat wait till 2 bus pick apart one told yesterday ok lor buy wat somebody go andros steal ice know didt msg recently take us shopping mark distract isaiahd mum hope great day hoping text meets well full life great day abiola sense foot penis okay thought expert deep sigh miss really surprised nt gone net cafe yet get nt miss ss thinl role like sachinjust standing others hit great trip india bring light everyone not project everyone lucky see smile bye abiola importantly discuss u k k training process ok lor ned 2 go toa payoh 4 2 return smth u wan 2 send wat da car park wish holding tightly making see important much mean much need life asked anthony dad bf wnevr wana fal luv vth books bed fals luv vth yen madodu nav pretsorginta nammanna pretsovru important alwa gud eveb todaysunday sunday holiday work going take bath ill place key window dear take care reaching homelove u lot staffsciencenusedusgphyhcmkteachingpc1323 emigrated something ok maybe 530 bit hopeful olol printed forum post guy exact prob fixed gpu replacement hopefully dont ignore walked moms right stagwood pass right winterstone left victors hill address lt gt yo jp hungry like mofo creepy crazy ok din get ur msg tessy pls favor pls convey birthday wishes nimya pls dnt forget today birthday shijas pathaya enketa maraikara pa even friend priest call u lousy run already come back half dead hee said bad dat e gals know u wat u remind hrs hoping would not send message rent due dont enough reserves completely gone loan need hoping could balance lt gt way could get till mid march hope pay back hi happy new year dont mean intrude pls let know much tuition paid last semester much semester thanks hello hun ru way im good 2 dates guy met walkabout far meet soon hows everyone else lol gon na last month cashed left lt gt case collecting week cause announced blog short cute good person nt decided yet eh wat time liao still got yes watching footie worried going blow phil neville wait 4 ì_ inside da car park uncle abbey happy new year abiola free call pa r u saying order slippers cos pay returning stop knowing well good evening roger small problem auction punj asking tiwary telling not tell one treat hi hi hi uncles atlanta wish guys great semester u coming 2 pick thats cool liked photos sexy would u fuckin believe didnt know thurs pre booked cancelled needs b sacked haha better late ever way could swing ok finish 6 barred b q stores life twat orange dungerees came asked wanted decking got first punch messages food ok going sleep hope meet wat makes people dearer not de happiness dat u feel u meet de pain u feel u miss dem let know details fri u find cos not tom fri mentionned chinese thanks right think wat r u ur lecture customer place call not planned yet going join company jan 5 onlydon know happen boy love u grl hogolo boy gold chain kodstini grl agalla boy necklace madstini grl agalla boy hogli 1 mutai eerulli kodthini grl love u kano haha heard text around ill get tomorrow send shit babe thasa bit messed upyeh oh thats late well good night give u call tomorrow iam going go sleep night night cheers u tex mecause u werebored yeah okden hunny r uin wk sat soundåõs likeyour havin gr8fun j keep updat countinlots loveme xxxxx sorry meeting call later yo howz u girls never rang india l yeah worse tagged friends seemed count friends ok long time remember today havent shopping lor juz arrive thank u better work cause feel used otherwise challenge know much ur hdd casing cost mystery solved opened email sent another batch nt sweetie ca nt describe lucky actually awake noon today sorry day ever angry ever misbehaved hurt plz plz slap urself bcoz ur fault basically good cheers card time year already people see msgs think iam addicted msging wrong bcoz dont know iam addicted sweet friends bslvyl ugh hopefully asus ppl dont randomly reformat nt seen facebook huh lol mah b pick tomorrow still otside le u come 2morrow maga u still plumbers tape wrench could borrow vl bcum difficult havent still waitin usual ìï come back sch oredi meeting da call k k watch films cinema plus drink appeal tomo fr thriller director like mac 830 size elephant tablets u shove um ur ass many people seems special first sight remain special till last sight maintain till life ends take cr da parents kidz friends n colleagues screaming surprise waiting sofa naked dunno juz askin cos got card got 20 4 salon called hair sense tot da one ì_ cut ur hair good morning pookie pie lol hope nt wake u maybe woke fucking 3 would nt problem happy birthday dearwith lots loverakhesh nri howz persons story x2 lt gt going get hi neva worry bout da truth coz truth lead 2 ur heart itåõs least unique person like u deserve sleep tight morning ur paper today e morn aft lick every drop ready use mouth well expect whenever text hope goes well tomo great p diddy neighbor comes toothpaste every morning av new number wil u use one ta poking man everyday teach canada abi saying hi 7 lor change 2 suntec wat time u coming deam seeing online shop asked curious cuz asked nicenicehow working okay lor wah like def wont let us go haha say terms conditions haha yup hopefully lose kg mon hip hop go orchard weigh good r u working oh yes little weather kind coccooning home home also phone weirdest auto correct oops phone died nt even know yeah like better havent mus ask u 1st wat meet 4 lunch den u n meet already lor u wan 2 go ask da ge 1st confirm w asap said u mind go bedroom minute ok sed sexy mood came 5 minuts latr wid cake n wife oh yeah hav great time newquaysend postcard 1 look girls im gone u know 1im talkin bout xx got divorce lol shes ur pin babe got enough money pick bread milk give back get home want snow freezing windy come mahal bus stop lt decimal gt know week going tirunelvai da baby promise treat well bet take good care like hotel dusk game think solve puzzles area thing hi love goes day fuck morning woke dropped cell way stairs seems alright phews miss well must pain catch sorry da thangamit mistake need coz never go rose red red blood blood heart heart u u send tis ur friends including u like u get back 1u r poor relation 2u need 1 support 3u r frnd 2 many 4some1 luvs u 5 some1 praying god marry u try wifehow knew time murder exactly feel like dick keep sleeping texts facebook messages sup town plm come da way guess wants alone time could show watch height recycling read twice people spend time earning money money spent spending time good morning keep smiling yup ì_ not comin yes princess toledo aight text back mu swing need somebody get door ron say fri leh n said ding tai feng cant make reservations said wait lor good swimsuit allowed okay soon best cute thought friendship not necessary share every secret ur close frnd ok sent u da latest version da project good morning dear great amp successful day pls accept one day begging change number squeeeeeze christmas hug u lik frndshp den hug back u get 3 u r cute 6 u r luvd 9 u r lucky none people hate u ok anybody asks abt u tel p funny fact nobody teaches volcanoes 2 erupt tsunamis 2 arise hurricanes 2 sway aroundn 1 teaches hw 2 choose wife natural disasters happens gon na ring weekend wot also track lighters find sorry ca nt help babe need advice iûll leave around four ok come medical college 7pm forward da k k good going make lasagna vodka hi kate u give ring asap xxx people tour thought sofa thing sent curious sugar told going got drunk fucking chickened messaged would late woould buzz nt hear word always looking excuse city yup still coffee wif frens fren drove give lift shore takin bus u gon na get deus ex send email mind lt gt times per night tap spile seven pub gas st broad st canal ok ok come n pick u engin never wanted tell short onedge late raviyog peripherals bhayandar east k actually guys meet sunoco howard right way moon come color dreams stars make musical sms give warm peaceful sleep good night finished eating got u plate not leftovers time thanx lot hurry home u big butt hang last caller u food done starving nt ask cooked lol right diet everyday cheat anyway meant fatty great day beautiful one happened interview solve case man found murdered lt decimal gt lt gt afternoon 1 wife called police 2 police questioned everyone 3 wife sir sleeping murder took place 4cook cooking 5gardener picking vegetables 6housemaid went 2 post office 7children went 2 play 8neighbour went 2 marriage police arrested murderer immediately reply reason u r brilliant badrith chennai surely pick us competition tot group mate lucky havent reply wat time ì_ need leave hey around got enough half ten owe hey tmr maybe meet yck alrite sam nic checkin ur numberso tb making easy pay back lt gt yrs say pay back earlier get not worry sure get gas station like block away house drive right since armenia ends swann take howard tuition 330 hm go 1120 1205 one mind not smoking people use wylie smokes much justify ruining shit dear good morning feeling dear little meds say take every 8 hours 5 pain back took another hope nt die beautiful tomorrow never comes comes already today hunt beautiful tomorrow nt waste wonderful today goodmorning dunno lei ì_ decide lor abt leona oops tot ben going n msg hi moved in2 pub would great 2 c u u cud come honeybee said sweetest world god laughed amp said wait u havnt met person reading msg moral even god crack jokes gmgngegn ever easier stop calling everyone saying might cancer throat hurts talk ca nt answering everyones calls get one call not babysitting monday tough im gonnamissu much would say il send u postcard buttheres aboutas much chance merememberin asthere ofsi not breakin contract luv yaxx ee msg na poortiyagi odalebeku hanumanji 7 name 1hanuman 2bajarangabali 3maruti 4pavanaputra 5sankatmochan 6ramaduth 7mahaveer ee 7 name lt gt janarige ivatte kalisidare next saturday olage ondu good news keluviri maretare inde 1 dodda problum nalli siguviri idu matra lt gt true nt neglet hi darlin finish 3 u 1 2 pick meet text back number luv kate xxx set place heart not mind mind easily forgets heart always remember wish happy valentines day surprised still guess right lor okie ì_ wan meet bishan cos bishan not driving today oh ho first time u use type words hi darlin work u get trouble ijust talked mum morning really good time last night im goin soon call u know serving mean huh hyde park not mel ah opps got confused anyway tt e best choice den juz take oh gei happend tron maybe ill dl 3d know girls always safe selfish know got pa thank good night worries hope photo shoot went well spiffing fun workage freezing craving ice fml kay since already eh sorry leh din c ur msg not sad already lar watching tv u still office yo im right yo work ok darlin supose ok worry muchi film stuff mate babysit call therexx said u mind go bedroom minute ok sed sexy mood came 5 minuts latr wid cake n wife wake since checked stuff saw true available spaces pls call embassy send mail nope juz work huh fast dat means u havent finished painting number u live 11 put party 7 days week study lightly think need draw custom checkboxes know hardcore sac score big hundredhe set batsman send yetty number pls much cost approx per month ok theory test ì_ going book think 21 may coz thought wan na go jiayin isnt free fine give call knows wants questions sorry got late start way u go back urself lor gas station go k u bored come home babe love covers face kisses like made throw smoking friend car one time awesome still not checked da go walmart ill stay nt forgotten might couple bucks send tomorrow k love ya oh great ill disturb talk reverse cheating not mathematics u welcome caught u using broken english problem baby good time talk called left message sorry call later oh brand sorry cant take call right happens r 2waxsto wat want come ill get medical insurance able deliver basic care currently shopping right medical insurance give til friday morning thats ill see major person guide right insurance time coming call say not coming today ok tell not fool like ok emailed yifeng part oredi ì_ get fr r u sure understand wine good idea slurp minimum walk 3miles day ok not problem get taxi c ing tomorrow tuesday tuesday think r going cinema brainless baby doll vehicle sariyag drive madoke barolla nt run away frm u walk slowly amp kills u nt care enough stop please attend phone hate call didnt accept even single call mine even messaged messages phone holding free yo trip got postponed still stocked sorry call later waiting call sir hey reply pa hey elaine today meeting still sorry not gone place ill tomorrow really sorry tiime nt let hug nt break tears tomorrow not going theatre come wherever u call tell come tomorrow electricity went fml looks like found something smoke great job also andros ice etc etc  good afternon love today hope good maybe interviews wake miss babe passionate kiss across sea yup wun believe wat u really neva c e msg sent shuhui hows watch resizing dear umma called finished missing plenty well meant opposed drunken night k must book not huh going yoga basic sunday ok oops mum somerset bit far back tomo see soon x u workin overtime nigpun kallis dismissial 2nd test guess got screwd meeting call later r u cooking dinner ok thanx bull plan go floating ikea without care world live mess another day buy heehee funny tho simple arithmetic not percentages yeah would nt leave hour least 4 sound thanks honey great day amazing quote sometimes life difficult decide whats wrong lie brings smile truth brings tear good night dear sleepwell amp take care ì_ ask dad pick ì_ lar ìï wan 2 stay 6 meh jus chillaxin hey das cool iknow 2 wellda peril studentfinancial crisis spk 2 u l8r beautiful truth gravity read carefully heart feels light someone feels heavy someone leaves goodmorning whats coming hill monster hope great day things r going fine busy though joy father john john ____ joy father u ans ths hav lt gt iq tis ias question try answer ill obey didnt search online let know need go get pic please resend remains bro amongst bros uhhhhrmm isnt tb test bad youre sick haf enuff space got like 4 mb true easier sure since parents working tuesday nt really need cover story haha okay today weekend leh hi darlin youphone im athome youwanna chat nt know jack shit anything sayask something helpful want pretend text whatever response hypotheticalhuagauahahuagahyuhagga always brainy one yeah get random dude need change info sheets party lt gt 7 never study safe christmas occasion celebrated reflection ur values desires affections amp traditions ideal christmas sending greetings joy happiness gr8 evening hi darlin cantdo anythingtomorrow myparents aretaking outfor meal u free katexxx india win level series means record plan good hear awesome deal gate charles told last night uh yeah time thinkin goin board working fine issue overheating also reslove still software inst pending come around 8 clock yes nt care cause know wiskey brandy rum gin beer vodka scotch shampain wine kudi yarasu dhina vaazhthukkal mon okie lor haha best cheap n gd food la ex oso okie depends whether wana eat western chinese food den u prefer sitting ard nothing lor u leh busy w work lt gt k oh send home sale sorry mail ya telling abt tht incident yes outside like 2 hours called whole family wake cause started 1 ugh got outta class nowadays people notixiquating laxinorficated opportunity bambling entropication ever oblisingately opted ur books masteriastering amplikater fidalfication champlaxigating think atrocious wotz ur opinion junna dont file bag work called mei tell find anything room need lar jus testing e phone card dunno network not gd thk waiting 4 sis 2 finish bathing bathe dun disturb u liao u cleaning ur room ok ill right later friendship poem dear dear u r not near hear dont get fear live cheer tear u r always dear gud ni8 lunch come quickly open door back bit long cos accident a30 divert via wadebridgei brilliant weekend thanks speak soon lots love k yan jiu liao sat go 4 bugis vill one frm 10 3 den hop parco 4 nb sun go cine frm 1030 2 den hop orc mrt 4 hip hop 4 seeking lady street freak sheets phone haha figures well found piece priscilla bowl actually fuck whatever find excuse tampa point january though yay finally lol missed cinema trip last week day working day except saturday sunday aathi dear heart empty without love mind empty without wisdom eyes r empty without dreams amp life empty without frnds alwys touch good night amp sweet dreams think iûm waiting bus inform get ever get getting back time soon things quick question night ended another day morning come special way may smile like sunny rays leaves worries blue blue bay gud mrng probably come everybody done around lt gt right got new year cos yetunde said wanted surprise didnt see money returned mid january lt gt day return period ended ask around not lot terms mids sure check yahoo email sent photos yesterday looking wherre boytoy hello love goes day wish well fine babe hope find job prospects miss boytoy teasing kiss tell bad character u dnt lik try change lt gt add tat 2 new year resolution waiting ur replybe frank good morning got rumour going buy apartment chennai yeah probably earlier change windows logoff sound still not checked da also came room huh got lesson 4 lei n thinkin going sch earlier n tot parkin kent vale ok reach office around lt decimal gt amp mobile problem nt get voice call asa free cool text head happy birthday may u find ur prince charming soon n dun work hard oh grand bit party nt mention cover charge probably first come first served said went back bed ca nt sleep anything hope arnt pissed id would really like see tomorrow love xxxxxxxxxxxxxx says lt gt year old man money last lt gt still waiting check come ur home free day finish 6 mon n thurs food life alle mone eppolum oru pole allalo nite two fundamentals cool life walk camera quite good 101mega pixels 3optical 5digital dooms lovely holiday safe hope hav good journey happy new year see couple weeks hi petey noiåõm ok wanted 2 chat coz avent spoken 2 u 4 long timehope ur doin alritehave good nit js love ya amx saw ron burgundy captaining party boat yeah serious money base already one guy loving staff placement training amrita college always chat fact need money raise job profile seems like bpo well give cos said didnût one nighters persevered found one cheap apologise advance somewhere sleep isnt think actually talk not call boss morning went place last year told could go get car fixed cheaper kept telling today much hoped would come back always regretted not getting number etc willing go apps class hanging brother family reach 9 telling dont know hey going quit soon xuhui working till end month im sorry bout last nite wasnåõt ur fault spouse pmt sumthin u 4give think u shldxxxx try neva mate yeah pretty much best case scenario not free today haf 2 pick parents tonite hey babe far 2 spunout 2 spk da mo dead 2 da wrld sleeping da sofa day send naughty pix tyler getting 8th leave not long 9 get like hour prepare pounded every night actually mobile full msg work online need send lt gt sent msg wil explain u later sorry call later good evening home please call oic cos n sis got lunch today dad went dunno whether 2 eat sch wat mmmmm sooooo good wake words morning love mmmm fuck love lion devouring kiss across sea pleased inform application airtel broadband processed successfully installation happen within 3 days happen dear silent tensed get 3 unless guys want come time sooner not coughing nothing ìï come lt 25 n pass lar e person e sms survey lol ok ill try send warned sprint dead slow prolly get tomorrow thank meet monday th gower mate r u man good wales ill b back åômorrow c u wk msg 4 åð random single line big meaning miss anything 4 ur best life got like lt gt get later though get whatever feel like dad wanted talk apartment got late start omw love lol u still feeling sick din tell u jus 420 eyes philosophy ok lor town lei already sabarish asked go da vijay going talk jaya tv lol know hey someone great inpersonation flea forums love still chance search hard get let try always celebrate ny family know taj mahal symbol love lesser known facts 1 mumtaz shahjahan 4th wife 7 wifes 2 shahjahan killed mumtaz husband marry 3 mumtaz died lt gt th delivery 4 married mumtaz sister question arises hell love great hari ok come home vl nice meet v chat sent de webadres geting salary slip fine sends greetings dint touch yup leaving right back soon yeah sure leave min one teach ship cars sign maturity not start saying big things actually start understanding small things nice evening bslvyl yeah confirmed staying weekend said ì_ dun haf passport smth like dat ì_ juz send email account multiply numbers independently count decimal points division push decimal places like showed lovely night wake see message hope smile knowing great morning ard 4 lor right meanwhile project twins comin sent maga money yesterday oh heart empty without love mind empty without wisdom eyes r empty without dreams amp life empty without frnds alwys touch good night amp sweet dreams ride equally uneventful not many pesky cyclists around time night wereare free give otherwise nalla adi entey nattil kittum sent wife text buy tell relax go get wkend escape theatre going watch kavalan minutes much would cost hire hitman anything lor sorry call later huh cant go 2 ur house empty handed right good morning princess happy new year aight head wat r u busy wif work know mood today jay told already cps causing outages conserve energy not sure checking happening around area hey morning come ask pa jordan got voted last nite means got epi shes fine shes idea pls come quick cant bare joy father john john ____ joy father u ans ths hav lt gt iq tis ias question try answer call unable cal lets meet bhaskar deep ill meet library k roommate also wants dubsack another friend may also want plan bringing extra tell know sure depends individual lor e hair dresser say pretty parents say look gong u kaypoh also dunno wat collecting ok c ì_ enjoy watching playing football basketball anything outdoors please ask macho price range want something new used plus interfued blackberry bold lt gt bb sorry sent blank msg yup trying 2 serious studying hey check da listed da meant apology texting get drugs lt gt night means february april getting place stay nt hustle back forth audition season since sister moved away harlem goin workout lor muz lose e fats damn poor zac nt stand chance message responce happend want tel u one thing u not mistake k message sent yeah right bring tape measure fri still chance search hard get let try meeting u work tel shall work tomorrow head straight thank princess sexy oooh got plenty hui xin da lib big difference lt gt versus lt gt every lt gt hrs not make cry stuff happens top everything else pushes edge nt underdtand often cry sorry sorry life 2 babe feel lets 4get itboth try cheer upnot fit soo muchxxlove u locaxx know hook means right wat da model num ur phone really skateboarding despite fact gets thrown winds bandages shit arms every five minutes house e sky quite dark liao raining got excuse not 2 run already rite hee sorry left phone upstairs ok might hectic would birds one fell swoop date thought nt see carlos says pick later yeah set hey babe friend cancel still visit per request maangalyam alaipayuthe set callertune callers press 9 copy friends callertune hmm ill think ok forgiven hoping get away 7 langport still town tonight want send virtual hug need one probably not still going stuff issues right ill fix tomorrow come people senthil group company apnt 5pm oh really make air talent studying ill free next weekend r u yet wearing blue shirt n black pants waiti come lt gt min reach ur home lt gt minutes well great weekend langport sorry probably bed 9pm sucks ill xmas go2sri lanka frnd not juz word not merely relationship silent promise says wherevr whenevr forevr gudnyt dear huh 6 also not many mistakes ha u jus ate honey ar sweet turning phone moms telling everyone cancer sister wo nt stop calling hurts talk ca nt put see u u get home love u honey sweetheart darling sexy buns sugar plum loverboy miss boytoy smacks ass go gym thanks loving rock yeah imma come cause jay wants drugs ok thanx take care yup thk u oso boring wat came look flat seems ok 50s away alot wiv work got woman coming 630 moji informed saved lives thanks whos class hey r ì_ still online finished formatting great attracts brothas stupidits not possible cant pick phone right pls send message lol happens vegas stays vegas hello hello hi lou sorry took long 2 reply left mobile friends lancaster got bak neway im sorry couldnåõt make ur båõday 2 hun use soc use home ìï dunno 2 type word ar dad says hurry hell wake lt gt morning get class bsn like lt gt minutes know advising great shoot big loads get ready meet lobby still coming tonight happen dear tell sir waiting call free please call not not movies laptop texted finished long time ago showered erything ok im not sure time finish tomorrow wan na spend evening cos would vewy vewy lubly love xxx hello per request lt gt rs5 transfered tirupur call da luck2 catches put noe ì_ specify da domain nusstu ìï still sch oh asked fun haha take care ì_ shall get pouch hey loverboy love tell look picture ache feel legs fuck want need crave boy sweet words left morning sighs goes day love start studying kent vale lor ìï wait 4 ar ok good making money reading gud habit nan bari hudgi yorge pataistha ertini kano aight still want get money okok ok whats ur todays plan town v important sorry pa dont knw ru pa wat u not meeting ì_ rite go home lor ì_ dun feel like comin ok oh get paid outstanding one commercial hasbro august made us jump many hoops get paid still not late call tomorrow morningtake care sweet dreams u ummifying bye networking technical support associate gon na rip uterus cool like swimming pool jacuzzi house yeah not gang ready blank blank wat blank lol movie collect car oredi left already orchard nothing spl wat abt u whr ru chikku nt yet ya free aldrine rakhesh ex rtm herepls callurgent search 4 happiness 1 main sources unhappiness accept life way comes u find happiness every moment u live home please call guess could good excuse lol nt frnd necesity life imagine urself witout frnd hw u feel ur colleg wat u wth ur cell wat abt functions thnk abt events espe cared missed amp irritated u 4wrd dearloving frnds wthout u cant live jst takecare goodmorning gud mrng dear hav nice day old orchard near univ 4 tacos 1 rajas burrito right itûs å6 get ok hows street end library walk plz note anyone calling mobile co amp asks u type lt gt lt gt not disconnect call coz iz attempt terrorist make use sim card itz confirmd nokia n motorola n verified cnn ibn stopped get ice cream go back stitch trouser da vijay going talk jaya tv hey bored thinking u wat r u nah wednesday bring mini cheetos bag nobody names penis girls name story nt add aight let know gon na around usf not lip synced shangela ìï neva tell noe not home da aft wat bit ur smile hppnss drop ur tear sorrow part ur heart life heart like mine wil care u forevr goodfriend buzz hey love think hope day goes well sleep miss babe long moment together loving smile haha sounds crazy dunno tahan anot u early ya one slow poo im gloucesterroad uup later yes tv always available work place lol ouch wish stayed bit longer god asked forgiveness little child gave lovely reply join lt gt bus ask keep one maybe nt get messages sent glo ki send lt gt min would smoking help us work difficult time yesmum lookin strong sir goodmorning free call call gr8 see message r u leaving congrats dear school wat r ur plans love girls office may wonder smiling sore hi wlcome back wonder got eaten lion something nothing much uncle timi help clearing cars came hostel going sleep plz call class hrishi ok bag hi spoke maneesha v like know satisfied experience reply toll free yes ok lor msg b4 u call fishrman woke early mrng dark waited amp found sack ful stones strtd throwin thm in2 sea 2 pass time atlast jus 1stone sun rose amp found tht r nt stones diamonds moral dont wake early mrng good night ur physics get dear friends sorry late information today birthday loving arpraveesh details log face book see number lt gt dont miss delicious treat r ì_ going send online transaction dear got train seat mine lower seat let know need anything else salad desert something many beers shall get wat r u whore unbelievable sure nt mean get love know feel make belly warm wish love shall meet dreams ahmad adoring kiss love want flood pretty pussy cum hey angry reply dr short cute good person also remember beads nt come ever thread wishlist section forums ppl post nitro requests start last page collect bottom first time history need comfort luxury sold price india onionrs lt gt petrolrs lt gt beerrs lt gt shesil lt gt feb lt gt love u day send dis ur valued frnds evn 3 comes back u gt married person u luv u ignore dis u lose ur luv 4 evr actually nvm got hella cash still lt gt ish ok least armand still around da happy sit together na yup song bro creative neva test quality said check review online dude not fake frnds got money thts reffering u u member wit mail link u vl credited lt gt rs il getiing lt gt rs draw acc wen lt gt rs dude makin weirdy brownies sister made awesome cookies took pics pls dont restrict eating anythin likes next two days mm ask come enough funeral home audrey dad aight text address excellent wish together right yep fine 730 830 ice age pls wont belive godnot jesus dunno wat get 4 not yet chikku k wat abt tht guy stopped irritating msging u long take get number vivek sorry brah finished last exams got arrested possession shit not lt time gt pm right though ca nt give space want need really starting become issue going suggest setting definite move still greece maybe ready normal please protect ethreats sib never asks sensitive information like passwords atmsms pin thru email never share password anybody miss much desparate recorded message left day listen hear sound voice love hi always online yahoo would like chat someday goodmorning grandfather expired leave today yuou working getting pc mom find spot would work need sure see come bit agree stop thinkin ipad please ask macho question let pool money together buy bunch lotto tickets win get lt gt u get lt gt deal ok askd u question hours answer watching tv lor nice one like lor thinking chennai forgot come auction ì_ come n pick 530 ar early bird purchases yet went pay rent go bank authorise payment erm û_ ill pick 645pm give enough time get park hey mate hows u honey u ave good holiday gimmi de goss x howz painit come todaydo said ystrdayice medicine chile please lt decimal gt hour drive come time subletting febapril audition season yes ammae life takes lot turns sit try hold steering yeah thought lem know anything goin later mmmm cant wait lick pls go today lt gt dont want excuses plz tell ans bslvyl sent via fullonsmscom u town alone looking forward sex cuddling two sleeps rounder not required true k u knw dis lt gt dont worry 1 day big lambu ji vl come til enjoy batchlor party oh ya got hip hop open haha thinking go jazz zoom cine actually tonight free leh kb lesson tonight ok part tomorrow found diff farm shop buy cheese way back call r u still working yep like pink furniture tho customer place wil cal u sir pure hearted person wonderful smile makes even hisher enemies feel guilty enemy catch world smile goodmorning amp smiley sunday thatåõs alrite girl u know gail neva wrong take care sweet donåõt worryc u l8tr hun love yaxxx theoretically yeah could able come alright hooked guys not know people still town let math not good oh ok wait 4 lect havent finish yeah usual guy town definitely people around know joining today formallypls keep prayingwill talk later happy sad one thing past good morning multimedia message email okie scared u say fat u dun wan already u get message sorry sir call tomorrow senthilhsbc need person give na left vague said would inform person accounting delayed rent discuss housing agency renting another place checking online places around usc lt gt hi juan im coming home fri hey course expect welcome party lots presents ill phone u get back loads love nicky x x x x x x x x x plz tell ans bslvyl sent via fullonsmscom short cute good person gumby special lt gt cheese pizza 2 know doin tonight like personal sized great aunts anniversary party tarpon springs cab availablethey pick drop door steps ok take careumma unlimited texts limited minutes problem spending lot quality time together heard week yes last practice thank wonderful otherwise part time job natuition ìï mean confirmed tot juz say oni ok okie depends would like treated right brah see later waiting e car 4 mum lor u leh reach home already went fast asleep deartake care means fat head sounds like plan cardiff still still cold sitting radiator serious like proper tongued shes good wondering wont say hi shes smiling coping long distance noe da car later c lar wearing shorts yeah whatever lol today accept day u accept brother sister lover dear1 best1 clos1 lvblefrnd jstfrnd cutefrnd lifpartnr belovd swtheart bstfrnd rply means enemy ard 530 lor ok message ì_ lor ok c u eh ur laptop got stock lei say mon muz come take look c got not need ke qi ìï bored izzit suddenly thk wish nt think gon na snow much flurries usually get melt hit ground eek nt snow since lt gt even born 1 thing change sentence want 2 concentrate educational career im leaving oh really perform write paper go movie home midnight huh okay lor still let us go not ah coz not know later drop cards box right izzit still raining nt enough trouble sleeping havent add ì_ yet right lol really need remember eat drinking appreciate keeping company night babe smiles babe lost try rebooting yes nigh cant aha thk ì_ got ta go home urself cos b going shopping 4 frens present nooooooo gon na bored death day cable internet outage sos amount get pls playin space poker u come guoyang go n tell u told need get r giving second chance rahul dengra yeah fact asked needed anything like hour ago much first strike red one bird antelope begin toplay fieldof selfindependence believe flower contention growrandom ì_ wan go c doctor daddy bb borderline yeah whatever got call landline number asked come anna nagar go afternoon 545 lor ya go 4 dinner together gentle princess make sweet gentle love u doin baby girl hope u okay every time call ure phone miss u get touch sorry went bed early nightnight like think always possibility pub later hmm yeah not grooved im looking forward pound special got video tape pple type message lor u free wan 2 help hee cos noe u wan 2 watch infernal affairs ask u along asking shuhui oso hi dude hw r u da realy mising u today hungry buy food good lei mum n yun dun wan juz buy little bit probably wo nt eat today think gon na pop weekend u miss knew u slept v late yest wake late haha dont angry take practice real thing one day training could kiss feel next nice day dear sent lanre fakeye eckankar details mail box dad back ph ask say please message e timing go w u lor love aathi love u lot callin say hi take care bruv u turn heater heater set lt gt degrees thanks message really appreciate sacrifice not sure process direct pay find way back test tomorrow class wonderful day trouble classes go well due dodgey one û_ expecting mine tomo see recovery time place wot u 2 j night night see tomorrow roger weûre probably going rem 20 u think girl propose u today seing ur bloody funky shit fucking face asssssholeeee wish u feel alone reason team budget available last buy unsold players base rate ceri u rebel sweet dreamz little buddy c ya 2moro needs blokes huh cant thk oredi many pages frens go lor not alone wif mum n sis lor nationwide auto centre something like newport road liked hey missed tm last night phone charge smiles meeting friend shortly whatever juliana whatever want friendship not game play not word say doesnt start march ends may tomorrow yesterday today e hello sort town already dont rush home eating nachos let know eta ok lor anyway thk cant get tickets cos like quite late already u wan 2 go look 4 ur frens not darren wif way ur home dizzamn aight ask suitemates get back nimbomsons yep phone knows one obviously cos thats real word love cuddle want hold strong arms right r u continent pay like lt gt yrs not difficult k k give treat gon na worry nothing wo nt give money use get gift year didnt get anything bad somewhere beneath pale moon light someone think u dreams come true goodnite amp sweet dreams well pattern emerging friends telling drive come smoke telling weed fiendmake smoke muchimpede things see hesitant ow u deyi paid 60400thousadi told u would call im fine babes aint 2 much tho saw scary movie yest quite funny want 2mrw afternoon town mall sumthin xx reaching home 5 min forgot working today wan na chat things ok drop text free bored etc ring hope well nose essay xx ha must walk everywhere not take tram cousin said walk vic market hotel discussed mother ah ok sorry ca nt text amp drive coherently see twenty place get rooms cheap eek lot time especially since american pie like 8 minutes long ca nt stop singing gran onlyfound afew days agocusoon honi university southern california pick rayan macleran u gd lor go shopping got stuff u wan 2 watch infernal affairs not come lar well balls time make calls wat time ì_ wan today lt gt mca not conform oh ok wat ur email yes princess going make moan lol ok nt remember til last nite û_ anyway many good evenings u cool text sorry vikky watching olave mandara movie kano trishul theatre wit frnds happy babe woo hoo party dude taking italian food pretty dress panties wot u 2 thout u gon na call txt bak luv k holding dont flatter tell man mine two pints carlin ten minutes please hope not scared cant pick phone right pls send message home n ready time u get literally bed like lt gt hours yes reg ciao mean website yes lol could starve lose pound end day yeah impression got ok ok take care understand motivate behind every darkness shining light waiting find behind every best friend always trust love bslvyl ya ok dinner slept timeyou dont make ne plans nxt wknd coz wants us come ok school starting stay weather like food social support system like friends school things important ha ha nan yalrigu heltini iyo kothi chikku u shared many things wit far nt told body even uttered word abt u ur trusting much tell others plz nxt time dont use words ok chikku b noice text hi di yijue meeting 7 pm esaplanade tonight aight set free think could text blake address occurs not quite sure thought hi dear saw dear happy battery low ages abj prof passed papers sem congrats student enna kalaachutaarama prof gud mrng dont kick coco fyi gon na call sporadically starting like lt gt bc not not doin shit hope youåõre not much fun without see u tomorrow love jess x ok wont call disturb one know avoiding burden reached home n bathe liao u call actual exam harder nbme lot sickness thing going round take easy hope u feel better soon lol god picked flower dippeditinadew lovingly touched itwhichturnedinto u gifted tomeandsaid friend 4u hey sathya till dint meet not even single time saw situation sathya gam gone outstanding innings played smash bros lt gt religiously sir good morning hope good weekend called let know able raise lt gt dad however said would make rest available mid feb amount still quite short hoping would help good day abiola hurry home soup done check rooms befor activities good afternoon love good see words ym get tm smart move slave smiles drink coffee await quite ok bit ex u better go eat smth else feel guilty lem know needs stop going bed make fucking dealing love brother time talk english grins say hey muhommad penny says hello across sea hey doc pls want get nice shirt hubby nice fiting ones budget lt gt k help pls load card abi hw keep posted luv 2 mj remain unconvinced nt elaborate test willpower life nothing wen v get everything life everything wen v miss something real value people wil realized absence gud mrng miss ai nt answerin phone actually pretty reasonable hour sleepy hey rite u put åè10 evey mnth going bed prin think û_thanks see tomo u dun drive go 2 sch not home lei ok come ur home half hour u hav frnd name ashwini ur college jus finish lunch way home lor tot u dun wan 2 stay sch today k 2marrow coming class pls send address sir want lick pussy yo gon na still stock tomorrowtoday trying get dubsack see prolly yeah thought could go dinner treat seem ok stand away nt heart ache without nt wonder nt crave sorry never hear unless book one kinda joke thet really looking skinny white girls one line much camera something like casting look  sure thing big man hockey elections 6 shouldnût go longer hour though watch lor saw swatch one thk quite ok ard 116 need 2nd opinion leh hiya u like hlday pics looked horrible took mo hows camp amrca thing speak soon serena babe goes day miss already love loving kiss hope everything goes well yunny goin late doc prescribed morphine cause pain meds nt enough waiting mom bring med kick fast gon na try later cool want go kappa meet outside mu hey sexy buns told adore loverboy hope remember thank sister law meatballs grins love babe may b approve panalam posts sorry call later dont thnk wrong calling us not workin get job done mean ur luck love someone ur fortune love one loves u hi baby ive got back work wanting see u allday hope didnt piss u phone today u give call xxx yahoo boys bring perf legal need say anything know outsider ever one foot got lt gt good donût need receiptsûówell done û_ yes please tell whatûs number could ring ever green quote ever told jerry cartoon person irritates u always one loves u vry much fails express gud nyt leave wif lar ìï wan carry meh heavy da num 98321561 familiar ì_ beautiful truth expression face could seen everyone depression heart could understood loved ones gud ni8 infact happy new year seeing shame maybe cld meet hrs tomo lol would despite cramps like girl canåõt wait cornwall hope tonight isnåõt bad well itåõs rock night shite anyway iåõm going kip good night speak soon pls help tell sura expecting battery hont pls send message download movies thanks nt found way get another app phone eh go net cafe take job geeee need babe crave see work mon thurs sat cant leh booked liao day u free ìï comin fetch us oredi nannys address haf u eaten wat time u wan 2 come yo call get chance friend mine wanted ask big order single single answers fighting plus said broke didnt reply certainly puts things perspective something like happens got tv 2 watch meh u work today felt not conveying reason ese going got exciting karaoke type activities planned debating whether play football eve feeling lazy though told coming wednesday ok called mom instead fun well desperate call armand work right nt heard anything not answering texts guessing flaked said jb fantastic mmmmmm love much ahmad ca nt wait year begin every second takes closer side happy new year love pls full name joke school cos fees university florida seem actually lt gt k pls holla back sorry call later ok said got wisdom teeth hidden inside n mayb need 2 remove pls pls drink plenty plenty water queen going royal wedding lag sad part keep touch thanks skype ok lor go tog lor two teams waiting players ì_ send copy da report swhrt u dey hope ur ok tot u 2daylove n misstake care ok da already planned wil pick sorry call later meeting really need shit tomorrow know wo nt awake like 6 good registered vote hmm ok stay like hour cos eye really sore dear got bus directly calicut mm umma ask vava also come tell play later together well general price lt gt oz let know ifwhenhow much want sorry call later moment day valuemorning brings hope afternoon brings faith evening brings luv night brings rest wish u find todaygood morning lt gt w jetton ave forgot ok coming home not use foreign stamps country sorry lot friendofafriend stuff talk actual guy wants buy come tomorrow di wylie update weed dealer carlos went freedom class lunsford happy baby alright take job hope fine send kiss make smile across sea kiss kiss c movie juz last minute decision mah juz watch 2 lar tot ì_ not interested enjoying semester take care brother get door lets use next week princess go home first lar ì_ wait 4 lor put stuff first want kfc tuesday buy 2 meals 2 gravy 2 mark 2 da stupid da always sending like believe messagepandy mental oi gon na ring attended nothing ard 530 like dat lor juz meet mrt station ì_ dun haf come dear sleeping p er mw im filled tuth aight office around 4 pm going hospital actually waiting 2 weeks start putting ad anything lor go go lor u free sat rite u wan 2 watch infernal affairs wif n darren n mayb xy plz note anyone calling mobile co amp asks u type lt gt lt gt not disconnect call coz iz attempt terrorist make use sim card itz confirmd nokia n motorola n verified cnn ibn yo around friend mine lookin pick later tonight stupid auto correct phone double eviction week spiral michael good riddance world suffers lot not violence bad people silence good people ok thats cool either raglan rd edward rd behind cricket ground gim ring ur closeby see tuesday buy one egg da please started skye bookedthe hut also time way several sir u really pig leh sleep much dad wake 10 smth 2 eat lunch today home please call love hope not anything drastic nt dare sell pc phone reached home tired come tomorro life style garments account please lol wtf random btw lunch break sez hows u de arab boy hope u r good give love 2 evry1 love ya eshxxxxxxxxxxx lay man let know missed thought great day send bimbo ugo numbers ill appreciate safe detroit home snow enjoy okie aight chillin friend room text way toshiba portege m100 gd well welp sort semiobscure internet thing loosu go hospital de dont let careless much eighth omg joanna freaking looked thru friends find photos asking stuff myspace nt even logged like year send ur birthdate month year tel u ur life partner name method calculation reply must juz havent woke bit blur blur dad went liao cant cum oso clothes jewelry trips aah cuddle would lush need lots tea soup kind fumbling late sad story man last week bday wife didnt wish parents forgot n kids went work even colleagues not wish plans family set stone pls dont forget study never believe actually got taunton wow den weekdays got special price haiz cant eat liao cut nails oso muz wait finish drivin wat lunch still muz eat wat broke list reasons nobody town ca nt tell sarcastic faggy lt decimal gt not common car better buy china asia find less expensive ill holla greatest test courage earth bear defeat without losing heart gn tc sorry im stil fucked last nite went tobed 430 got 4 work 630 hey whats plan sat beauty sleep help ur pimples great hope using connections mode men also cos never know old friends lead today get kind missed train cos asthma attack nxt one half hr driving not sure park ball moving lotwill spin last difficult bat haiyoh maybe hamster jealous million please send aunty number glad following dreams reached home finally wn u r hurt prsn close 2 u fight wit dem coz somtimes dis fight saves relation bt quiet leaves nothin relation gud eveb u call science tells chocolate melt sunlight please nt walk sunlight bcoz nt want loss sweet friend yes come nyc audiitions trying relocate pocked congrats great wanted tell not tell score cos might make relax motivating thanks sharing wud never mind u dont miss u dont need u wil really hurt wen u need amp u dont tell take care hey mr whats name bill brison book one language words okay good problem thanx information ikea spelled caps not yelling thought left sitting bed among mess came said going got home class please nt try bullshit makes want listen less call u done gwr best watch say cause get drunk motherfucker hurt tease make cry end life die plz keep one rose grave say stupid miss u nice day bslvyl erm woodland avenue somewhere get parish magazine telephone number ta jobs available let know please cos really need start working aiyar hard 2 type u later free tell call n scold n tell u yup free good good billy mates gone jogging enjoy concert yo come carlos soon awww dat sweet think something nice time tonight ill probably txt u later cos im lonely xxx guess useless calling u 4 something important ha ha popped loo helloed hello dint tell anything angry told abi happens r 2waxsto wat want come ill get medical insurance able deliver basic care currently shopping right medical insurance give til friday morning thats ill see major person guide right insurance keep ten rs shelf buy two egg nt well babe swollen glands throat end ur changes 2 da report big cos already made changes 2 da previous report captain room ca nt speak bcaz mobile problem listen nt listen voice calls later hiya stu wot u 2im much truble home moment evone hates even u wot hell av done wont u tell text bck please luv dan take mokka players still playing gautham hey mr going sea view couple gays mean games give bell ya finish k jason says gon na around around lt gt sorry able get see morning aight well keep informed not number sir searching good dual sim mobile pa seems unnecessarily hostile dude got haircut breezy 1appledayno doctor 1tulsi leafdayno cancer 1lemondayno fat 1cup milkdayno bone problms 3 litres watrdayno diseases snd ths 2 u care thought king hill thing nope come online also tell said happy birthday bishan lei tot ì_ say lavender boo time u get u supposed take shopping today u sound like manky scouse boy steve like travelling da bus homewot u inmind 4 recreation dis eve fyi taking quick shower epsilon like lt gt min tuesday night r u 4 real yes appt got outta class gon na go gym want sent lt gt mesages today thats sorry hurts ìï write wat ha would nt say nt read anything way u seemed nt like 2 judgemental save fridays pub valentine game send dis msg ur friends 5 answers r someone really loves u ques colour suits best hi asked waheeda fathima leave enjoy urself tmr still around could use half8th give us back id proof lt gt rs wont allow work come home within days ìï bot notes oredi cos juz rem got yes rent expensive way save night ended another day morning come special way may smile like sunny rays leaves worries blue blue bay gud mrng hows pain dear r u smiling fun fact although would think armand would eventually build tolerance shit considering much smokes gets fucked like 2 hits sorry ca nt help great send account number hellogorgeous hows u fone charge lst nitw wen u texd hopeu ad nice wkend im sure u lookin 4ward 2 cin u 2mrw luv jaz ìï send contents page night sweet sleep well see exorcism emily rose may never sleep hugs snogs nt think u got think use got good ni8 ca nt right second got ta hit people first evry emotion ds nt hav wordsevry wish ds nt hav prayrs u smile world wit uothrwise even drop tear ds nt lik 2 stay wit uso b happy good morning keep smiling remember ujhhhhhhh computer shipped address sandiago parantella lane wtf poop mm yes dear look hugging p like dis sweater fr mango size already irritating 1 nt number 2 gon na massive pain ass rather not get involved possible anytime lor purity friendship two not smiling reading forwarded message smiling seeing name gud evng fine absolutly fine k sure nt consent forms v much torch 9ja nothing u not dinner w us checking done internet connection v slow canût send try later first thing tomo mathews tait edwards anderson yeah sure thing mate haunt got stuff sorted im going sound anyway promoting hex way dont know number joke need lar go engin cos sis arts today thanks honey still nt heard anything leave bit longer not 2 crowd try later great advice thanks hope cardiff still im snowboarding trip wondering planning get everyone together befor go meet greet kind affair cheers si watching live see christmassy k ready lt gt know god created gap fingers one made comes amp fills gaps holding hand love greatest test courage earth bear defeat without losing heart gn tc new years plans baaaaaaaabe wake miss crave need got message not ignoring yes shopping dear mood cant drive brother drive dad get back tell shola please go college medicine visit academic department tell academic secretary current situation ask transfer ask someone check sagamu thing lautech vital completes medical education nigeria less expensive much less expensive unless getting citizen rates new zealand yes finished watching days lives love juz go google n search 4 qet many times lose best ones bcoz good friends care close friends understand true friends stay forever beyond words beyond time gud ni8 getting back home sorry call later lt gt mins dun need use dial juz open da browser n surf awesome plan get time like lt gt text details wee bit take care sleep wellyou need learn change lifeyou need get convinced thati wait conversations usget convinced timeyour family many sensesrespect not overemphasiseor u role life also didnt get na hi hi hi hi hi ya cant display internal subs got ta extract said anything wrong sorry de sad story man last week bday wife didnt wish parents forgot n kids went work even colleagues not wish stupid say challenge godyou dont think write instead respond immed yeah able text ready meet v skint fancied bevieswaz gona go meet othrs spoon jst bin watchng planet earth sofa v comfey dont make hav gd night says quitting least5times day wud nt take much notice nah nt mind gon na see want come taunton tonight u tell get free call little darlings far week need coffee run tomo ca nt believe time week already û_ ok msg u b4 leave house still west coast haiz ìï take forever come back mmm fuck merry christmas alright thanks advice enjoy night ima try get sleep update face book status frequently saw messageit k da something u ate bank say money aiyar dun disturb u liao thk u lots 2 aft ur cupboard come hey r not watching movie tonight prob b home early yar lor u noe u used dat route 2mro not coming gym machan goodnight dont think need yellow card uk travel ask someone gone lt gt bucks u look 4 da lib got stuff havent finish yet sounds great im going sleep good night housemaid murderer coz man murdered lt gt th january public holiday govtinstituitions closed including post office understand come u got nothing nothing ever easy nt looking reason not take risk life love want grasp pretty booty got tea not sure flavour going 2 orchard laready reaching soon u reaching dear not denying words please know old dom told yesterday name roger got touch last night wants meet today 2 pm come back tampa ffffuuuuuuu 2 celebrate båõday else merry christmas u annie please tell special stock talking sent like awesome minute problem walk around julianaland oblivious going around say things constantly go one ear go whatever want not nt know upset nt listen tell going upset want surprised mad told everything stop dont let get dehydrated guess lt gt min home ard wat time u reach storming msg wen u lift phne u say hello u knw wt real meaning hello name girl yes u knw dat girl margaret hello girlfrnd f grahmbell invnted telphone moral one 4get name person want mapquest something look usf dogwood drive aight plan come later tonight die accidentally deleted e msg suppose 2 put e sim archive haiz sad wishing great day moji told offer always speechless offer easily go great lengths behalf stunning exam next friday keep touch sorry thanks reply today ur visa coming r u still buying gucci bags sister things not easy uncle john also bills really need think make money later sha sorry flaked last night shit seriously goin roommate tonight said look pretty wif long hair wat thk cutting quite short 4 leh ranjith cal drpd deeraj deepak 5min hold cheers callin babesozi culdnt talkbut wannatell u details later wenwecan chat properly x hey u still gym said u mind go bedroom minute ok sed sexy mood came 5 minuts latr wid cake n wife much better thanks lol nothing smsing u n xy lor sorry lor da guys neva c u person sort know u lor u wan 2 meet xy ask 2 bring u along 4 next meeting lem know swing pick free basically time 1 semester wa u efficient gee thanx not able sleep meet soon princess ttyl pick 515pm go taunton still want come oh 4 outside players allowed play know anything lor erutupalam thandiyachu cant u try new invention fly not joking ful song lyrics u reckon need 2 arrange transport u ca nt thanks true lov n care wil nevr go unrecognized though somone often makes mistakes valuing definitly undrstnd start missing shopping eh ger toking abt syd leh haha not standing good weekend miss call miss call khelate kintu opponenter miss call dhorte lage thats rule one great phone receiving quality wins call get chance plz lt 3 new deus ex game comin early next yr computer fried essential part nt keep spares fucking idiot roommates looovvve leaving thing running full lt gt 7 friend studying warwick planned go shopping concert tmw may canceled hav nt seen ages yeah get together sometime probably couple hours tops lol grins not babe thanks thinking man bus slow think gon na get hope text meets smiling not let text give reason smile beautiful day case wake wondering forgot take care something grandma today done parade ok nvm take ur time wat da decision wot u 2 bitch stupidits not possible told hr want posting chennai working guys leaving neva grumble sad lor hee buy tmr lor aft lunch still meetin 4 lunch tmr not neva hear fr lei ìï got lot work ar not able anything ìï takin linear algebra today weekend fine excuse not much decorating sorry missed babe late slept hope enjoy driving lesson boytoy miss teasing kiss project pa come sure whenever show fuck gt random saw old roomate campus graduated men always needs beautiful intelligent caring loving adjustable cooperative wife law allows one wife sucks got planned yo valentine yo valentine nt got part nottingham 3 hrs 63miles good thing love man much 40mph hey ho think one saying clearly ok leave need ask go come not hi good mornin thanku wish u u want 2 meet 2morro actually decided hungry nt left yet v sent ì_ part cos shopping wif darren jus n called 2 ask wat present wan lor started guessing wif n finally guessed darren lor understand loss gain work school u missed u havent 2 much bit bored holiday want 2 go bak 2 college sad isnt xx hiya probably coming home weekend next nt forget though love walk beside watching keeping heart warm wish things different wonder able show much value pls continue brisk walks drugs without askin please find things laugh love dearly ok days making dinner tonite invited money 4 steve mate im late tellmiss im way never blame day ur life good days give u happiness bad days give u experience essential life gods blessings good morning normally use drink water daily dare ask luck sorting car party place usf charge contribute way greatly appreciated yeah got room one urgh coach hot smells chip fat thanks especially duvet not predictive text word hiya last night naughty bought clothes little ready shopping tho kind time wan na meet trying reach without success derek done class never lei v lazy got wat dat day ì_ send da url cant work one never try alone take weight tear comes ur heart falls ur eyes always remember stupid friend share bslvyl hey mate spoke mag people weûre deliver end month deliver 24th sept talk later hope good week checking haha friend tyler literally asked could get dubsack hey u fancy meetin 4 cha åð hav lil beverage not txt ring meet l8r quite tired got 3 vpist love pete x x x great safe trip dont panic surrender symptoms u love 1u like listening songs 2u get stopped u see name beloved 3u wo nt get angry sun ah thk mayb dun anythin thk book e lesson e pilates orchard mrt u noe hor try something dear read something exams 7 wonders world 7th 6th ur style 5th ur smile 4th ur personality 3rd ur nature 2nd ur sms 1st ur lovely friendship good morning dear gettin rdy ship comp hospital da return home evening piss talking someone realise u point read backwards think da wil awake oh good afternoon boytoy goes walking day get police abstract still wake miss babe much u trying get come around lt decimal gt pm vikky otside nw il come tht time tell address honeybee said sweetest world god laughed amp said wait u havnt met person reading msg moral even god crack jokes gmgngegn buy blackberry bold 2 torch buy new used let know plus saying buy lt gt g wifi ipad saying lt gt g together thinkin hiya hows going sunny africa hope u r avin good time give big old silver back big kiss time come tomorrow cha quiteamuzing thatåõscool babe omg u know ate not not directly behind abt 4 rows behind ì_ plans yet hi engagement fixd lt gt th next month know really shocking bt hmm njan vilikkam ws al sudn not course maths one day one chapter one month finish wow nt think common take back ur not freak unless u chop noooooooo please last thing need stress life fair see swing bit got things take care firsg wanted wish happy new year wanted talk legal advice gary split person make trip ptbo hope everything good babe love ya not finished work yet something tomorrow not going theatre come wherever u call tell come tomorrow right wasnt phoned someone number like ok wun b angry msg u aft come home tonight good time nice something bit different weekends change see ya soon yo sorry shower sup carlos pick swing usf little bit full heat pa applyed oil pa stuck da middle da row da right hand side da lt laid airtel line rest hi u decide wot 2 get 4 bday not ill prob jus get voucher frm virgin sumfing hey j r u feeling better nt plan staying night prolly wo nt back til late thanx 4 puttin da fone need 8th campus atm could pick hour two oh haha den shld went today gee nvm la kaiez dun mind goin jazz oso scared hiphop open cant catch running managed 5 minutes needed oxygen might resort roller option live next lt gt mins de asking like glad talking wat time ì_ finish sorry da gone mad many pending works much got cleaning hows favourite person today r u workin hard could nt sleep last nite nearly rang u 430 ìï called dad oredi good think could send pix would love see top bottom nvm going wear sport shoes anyway going late leh sorry call later meeting long fuckin showr received understood n acted upon finally came fix ceiling u need presnts always bcz u cant mis love jeevithathile irulinae neekunna prakasamanu sneham prakasam ennal prabha mns prabha islove got dont mis jus finish blowing hair u finish dinner already bus love lol knew saw dollar store saturday sunday holiday difficult everybody fun evening miss got hella gas money want go grand nature adventure galileo little bit meeting call later oh wow thats gay firmware update help wo nt move morphine come din c ì_ yup cut hair k k pa lunch aha oh ho first time u use type words captain vijaykanth comedy captain tv drunken course guess god got hold right hide anythiing keeping distance havent sorry din lock keypad u got persons story planning come chennai god created gap btwn ur fingers dat sum1 vry special fill gaps holding ur hands plz dont ask created much gap legs okay going sleep later please protect ethreats sib never asks sensitive information like passwords atmsms pin thru email never share password anybody finally happened aftr decades beer cheaper petrol goverment expects us drink nt drive r e meeting tmr lol yes add spice day hope great day prasanth ettans mother passed away last night pray family k work something message great doctor india 1 not drink appy fizz contains cancer causing age cant pick phone right pls send message call tell infront call ok prob ladies first genus second k yes please swimming mum not going robinson already ok set let u noe e details later not tel software name send print outs da im realy soz imat mums 2nite 2moro born god said oh another idiot born didnt get ur full msg sometext missing send probably not almost gas get cash tomorrow forgot 2 ask ì_ smth card da present lei ìï want 2 write smth sign leaving house ìï ready call wewa 130 iriver 255 128 mb good thing getting connection bw sry da jst nw came home cool night lem know around staying town haha yeah 2 oz kind shitload ok u take shopping u get paid life means lot not love life love people life world calls friends call world ge alright bring see like lt gt mins pls dont play others life eatin lunch hmmmbut give one day nt try g decided not head ok prob surly ill give coming review march ending ready call sure problem capital never complete far work ladies tessy pls favor pls convey birthday wishes nimya pls dnt forget today birthday shijas pls give food preferably pap slowly loads sugar take hour give water slowly guy gets used dumb realize okey dokey iûll bit sorting stuff da whats plan yes fine liked new mobile anytime mmmmmmm snuggles deep contented sigh whispers fucking love much barely stand yar say got error hey anyway wow healthy old airport rd lor cant thk anything else b bathing dog later wif family booking tour package say bold torch later one torch 2bold haha awesome might need take doin tonight ya knw u vl giv ok thanks kano anyway enjoy wit ur family wit 1st salary huh slow tot u reach long ago liao u 2 days 4 leh thats cool princess cover face hot sticky cum big brotherûs really scraped barrel shower social misfits oops thk dun haf enuff go check tell ì_ 8 min go lunch hey happened u switch ur cell whole day isnt good u care give call tomorrow k addie amp art get home uncles atlanta wish guys great semester aiyo lesson early still sleepin haha okie u go home liao den confirm w lor forgot tell ì_ smth ì_ like number sections clearer yup anything lor u dun wan ok home love still awake loving kiss hello peach cake tasts lush minor shindig place later tonight interested jason says cool pick place like hour career tel added u contact indyarockscom send free sms remove phonebook sms lt gt reached already dont know ask brother nothing problem thing told k eng rocking ashes wat time r ì_ going xin hostel good morning dear shijutta great amp successful day oh k placement ah not possession especially not first offense nt driving even many reasons called bbd thts chikku hw abt dvg cold heard tht vinobanagar violence hw condition hw ru problem bought test yesterday something lets know exact day u ovulatewhen get 2u 2 3wks pls pls dont fret know u r worried pls relax also anything ur past history u need tell pizza u want keep seeing weird shit bein woah realising actually reasonable oh many happy returns day wish happy birthday ya nice ready thursday hospital da return home evening thinking u x orh tot u say still dun believe put sign choose number pin show right beauty life next second hides thousands secrets wish every second wonderful ur life gud n8 thanx u darlin im cool thanx bday drinks 2 nite 2morrow take care c u soonxxx still maybe leave credit card get gas get back like told well boy glad g wasted night applebees nothing ok lor u wan go look 4 u u wan 2 haf lunch da canteen nt make life stressfull always find time laugh may not add years life surely adds life ur years gud ni8 swt dreams hey looks like wrong one kappa guys numbers still phone want text see around home doc gave pain meds says everything fine ì 140 ard ìä rest ard 180 least ì price 4 ì 2 bedrm 900 lovely night xxx prepare pleasured hi technical supportproviding assistance us customer call email text way cup stop work bus whens radio show not sure still available though watever relation u built dis world thing remains atlast iz lonlines lotz n lot memories feeling cheers lou yeah goodnite shame u neva came c ya gailxx hi got money da hi mobile lt gt added contact list wwwfullonsmscom great place send free sms people visit fullonsmscom ok u tell wat time u coming later lor u repeat e instructions wat e road name ur house many people seems special first sight remain special till last sight maintain till life ends sh jas quite lor dun tell wait get complacent sorry completely forgot pop em round week still u r beautiful girl ive ever seen u r baby come c common room cant see join denis mina denis want alone time sen told going join uncle finance cbe yup hey one day fri ask miwa jiayin take leave go karaoke call senthil hsbc especially since talk boston personal statement lol woulda changed realized said nyc says boston indeed way either not holy living christ taking long ìï thk wat eat tonight thanx yup coming back sun finish dinner going back 2 hotel time flies tog 4 exactly mth today hope haf many mths come opposite side dropped yup izzit still raining heavily cos e mrt ca nt c outside send resume gd luck 4 ur exams u ask next sat not make ok lor sorry uncle ill keep touch saw guys dolls last night patrick swayze great come home nt want u miserable dont know shes not getting messages cool tyler take gon na buy drop place later tonight total order quarter got enough guy car shop flirting got phone number paperwork called texted nervous course may address call boss tell knowing may get fired reverse cheating not mathematics plan manage er hello things didnût quite go plan ûò limping slowly home followed aa exhaust hanging sorry delay yes masters call u finish come n pick u oga left phone home saw ur messages hope good great weekend nt worry though understand important put place poorly thought punishment face worst thing ever happened brb gon na go kill honey pls find much sell predicte nigeria many times used important reply monday e admin building might b slightly earlier call u reaching fyi usf swing room whenever call lt gt min thats ok ummmmmaah many many happy returns day dear sweet heart happy birthday dear ìï home work meh anything valuable 2 situations first getting second loosing mark taking forever pick prescription pain coming back ur paper got smaller capacity one quite ex im good thinking  not thought bout drink tap spile seven pub gas st broad st canal ok going sleep tired travel haha thinkin yup not giving problems mayb jus leave lol trying make day little interesting long get reply defer admission til next semester word checkmate chess comes persian phrase shah maat means king dead goodmorning good day po de need job aha rats hey u ever vote next themes hope pee burns tonite oh rite well im best mate pete went 4 week 2geva longer week yay ca nt wait party together photoshop makes computer shut boys made fun today ok problem sent one message fun one issues california okay snow manageable hmmm mayb try e shoppin area one forgot e name hotel awesome gon na soon later tonight need details online job missing toopray inshah allah pls help tell ashley cant find number oh escape theatre going watch kavalan minutes sthis increase chance winning either way works lt gt years old hope doesnt bother maybe find something else instead gain rights wifedont demand iti trying husband toolets see liked new house fine hope also also north carolina texas atm would go gre site pay test results sent u yes baby need stretch open pussy thanks bomb date phone wanted say ok hey guy know breathing neck get bud anyway able get half track usf tonight response one powerful weapon 2 occupy place others heart nokia phone lovly sorry da today wont come play driving clas really sorry lit hair fire oh shit thought trip loooooool makes much sense grins sofa reference sleep couch link sent nt went trip oh nt babe go celebration rents okey dokey swashbuckling stuff oh watching cartoon listening music amp eve go temple amp church u 1 tension face 2 smiling face 3 waste face 4 innocent face 5terror face 6cruel face 7romantic face 8lovable face 9decent face lt gt joker face dip cell dead coming u better respond else shall come back well know mean texting hi dis yijue would happy work wif ì_ gek1510 lol oops sorry fun wat happened cruise thing know dat feelin pete wuld get em nuther place nuther time mayb world happiest frnds never characters dey best understanding differences yeah open chat click friend lists make list easy pie alright tyler got minor crisis home sooner thought asap whenwhere pick usual u call ard 10 smth new theory argument wins situation loses person dont argue ur friends kick amp say always correct many things antibiotic used chest abdomen gynae infections even bone infections poor girl ca nt go one day lmao 6times pls make note shes exposed also find school anyone else vomiting dog cat house let know later japanese proverb one u none u must indian version one let none leave finally kerala version one stop none make strike sounds like could lot time spent chastity device boy grins take beatings like good dog going lounge nice long bath worse uses half way stops better complete miserable nt tell u side effects birth control massive gut wrenching cramps first 2 months nt sleep last night send new number convey regards 2 half years missed friendship cant pick phone right pls send message oh fuck sake like tallahassee haha first person gon na ask taka lor wat time u wan 2 come n look 4 us reaching another 2 stops nt mean post wrote like many times ritten stuff let sit feeling time angry left hit send stop nt checked phone got car nt said nt sleep bored would nt time clean fold laundry etc least make bed come online today night anything special solihull want anything good day regret inform u nhs made mistakeu never actually bornplease report 2 yor local hospital 2b terminatedwe r sorry 4 inconvenience love holiday monday feeling even go dentists hour way tirupur already got flaky parent itsnot supposed child job support parent not ride age anyway supposed support hurt unintentional hurt nonetheless took hooch walk toaday fell splat grazed knees everything stayed home see tomorrow dropped em omw back sitting mu waiting everyone get suite take shower call nt see facebook huh g says never answer texts confirmdeny common hearin r u wat r u ur day let ask u something different u smile today not gud evng hi dear call urgnt nt know whats problem nt want work problem least tell wating reply oh yah never cancel leh haha go 4 e normal pilates intro ok let u noe leave house oh yes like torture watching england wan na art hopeing wasnût pissed remember gone sisters something good morning boytoy yummy lips sexy buns think crave need match startedindia lt gt 2 free call sir hey want anything buy hey babe going ever figure going new years k k congratulation g wants know fuck cancelled yeah baby well sounds important understand darlin give ring later fone love kate x tomarrow want got court lt decimal gt come bus stand 9 ìï go home liao ask dad pick 6 omg make wedding chapel frontierville get good stuff eatin lor goin back work soon e mountain deer show huh watch b4 liao nice check maili mailed varma kept copy regarding membershiptake careinsha allah wrong phone phone answer one assume people nt well anyway nt think secure anything lem know want drive south chill already back home probably not bus way calicut hi probably much fun get message thought id txt u cos im bored james farting night hi baby im sat bloody bus mo wont home 730 wan na somethin later call later ortxt back jess xx lost 4 pounds since doc visit last week woot woot gon na celebrate stuffing face u coming back 4 dinner rite dad ask confirm wif u masters buy bb cos sale bf ahhhh woken bad dream u tho dont like u right didnt know anything comedy night guess im vivek got call number nt u call lunch mean left early check cos working 96 want lt gt rs da bit ur smile hppnss drop ur tear sorrow part ur heart life heart like mine wil care u forevr goodfriend yup ok want see pretty pussy people game mall iouri kaila future not planned tomorrow result today best present enjoy future cme want go hos 2morow wil cme got dear didnt say time supposed meet discuss abt trip thought xuhui told afternoon thought go lesson hey come online use msn fine hope good take care oops shower u called hey parking garage collapsed university hospital see not crazy stuff like happen aiyo u poor thing u dun wan 2 eat u bathe already yar tot u knew dis would happen long ago already gorgeous keep pix cumming thank boy late 2 home father power frndship jade paul didnåõt u txt u remember barmed want 2 talk 2 u txt spending new years brother family lets plan meet next week ready spoiled u today said okay sorry slept thinkthis time lt gt pm not dangerous networking job dont let studying stress l8r u haf 2 keep busy rushing not working school rush go hungry channel telling coulda real valentine nt u never pick nothing made eta taunton 1230 planned hope thatûs still okday good see xx hungry buy smth home hey kate drive read need write looked addie goes back monday sucks happy new year hope good semester esplanade lor else talk hmph go head big baller well not like actually called someone punto woulda worse nope since ayo travelled forgotten guy still around looking pick later someone year lt gt toyota camry like mr olayiwola mileage lt gt kits clean need know much sell raise dough soon landing sell holla back guess pub im im happy pig clover whatever saying ill b soon oh k come tomorrow go fool dont cheat others ok mobile numberpls sms ur mail idconvey regards achan ammarakheshqatar way rencontre meet mountains dont u attend ur driving lesson many times wk n day uncle g checking rewarding month hello boytoy geeee missing today like send tm remind thinking loved loving kiss think two still need get cash def ready 9 hey gals u wan na meet 4 dinner nìâte babe talking think good boy missing love great office today cool last little getting time soon sad puppy noise yes possible dint try pls dont tell one k anyway holla whenever around need excuse go creep people sarasota happen gon na ask lol think 7 go chase run crossing street coming friday leave pongal get news work place hey inconvenient sis not huh ok vl u know got adsense approved really good see day dudette missing want go perumbavoor many times told stage use laugh not listen aha nt hear thanks talk saturday dear cherish brother role model pls clarify back open return ticket preponed go back kerala ran younger man make pretty babies together ic lol play 9 doors sometime yo dunno dad said coming home 2 bring us 4 lunch yup go w u lor call u reach school lor sent jd customer service cum accounts executive ur mail id details contact us desires u going doctor 4 liver get bit stylish get ur hair managed thats hmmmstill dont opener yeah basically time next week get away mom amp get 3 edison rightly said fool ask questions wise man answer know us speechless viva gm vote wherever heart guides sis lor juz watched italian job tick tick tick could die loneliness know pouts stomps feet need lmao know well train back northampton afraid not staying skyving today ho ho around wednesday though fancy comedy club week way goodnight da thangam really miss u dear hey next sun 1030 basic yoga course bugis go pilates intro next sat tell time r free geeeee internet really bad today eh think disturbing da sorry call later meeting sir havent stuck orchard dad car going 4 dinner u leh r free tonight ok also wan 2 watch e 9 pm show dunno lei like dun haf brother transfered lt gt lt gt pa calls later afternoon onwords mtnl service get problem south mumbai hear nt listen talk g x hai dear friends new amp present number rajitha raj ranju different styles gud ni8 dear slp well take care swt dreams muah want sent lt gt mesages today thats sorry hurts well glad nt find totally disagreeable lol guy flash go call call madam take care oh mark works tomorrow gets 5 work house meet u afterwards keep ur problems ur heart yeah give call got minute hi babe uawake feellikw shitjustfound via aletter thatmum gotmarried 4thnovbehind ourbacks åð fuckinnice selfish amazing rearrange letters gives meaning dormitory dirty room astronomer moon starer eyes see election results lies lets recount motherinlaw woman hitler eleven plus two twelve plus one amazing aiya discuss later lar pick ì_ 4 hey happy birthday sorry missed call please call back omg not one thing another cat worms bad day end good morning im suffering fever dysentry not able come office today wont anything de type stuff sing st andre virgil cream check rooms befor activities fri ah okie lor goin 4 drivin den go shoppin tt gokila talking aha hi shanil rakhesh herethanks exchanged uncut diamond stuffleaving back excellent service dino prem kkthis month kotees birthday know really really broke oh amount small even lt gt sorry mates phone didnt write love kate ah well confuses things doesnt thought friends maybe wrong thing already sort invited tho may not come cos money aight call close nope thats fine might nap tho news hassling get weed week andres money haughaighgtujhyguj boy loved gal propsd bt didnt mind gv lv lttrs bt frnds threw thm boy decided 2 aproach gal dt time truck speeding towards gal wn 2 hit girl boy ran like hell n saved asked hw cn u run fast boy replied boost secret energy n instantly girl shouted energy n thy lived happily 2gthr drinking boost evrydy moral story hv free msgs gud ni8 wnt buy bmw car urgently vry urgentbut hv shortage lt gt lacsthere source arng dis amt lt gt lacs thats prob ding ya break fassyole blacko londn really need 2 kiss u miss u baby ur baby 4eva sign maturity not start saying big things actually start understanding small things nice evening bslvyl oh got many responsibilities reached sch already u definitely need module e humanities dis sem izzit u wan 2 take modules 1st argh fuck nobody town _ thanks fills complete calm reassurance aslamalaikkum insha allah tohar beeen muht albi mufti mahfuuz meaning driving training lol real told dad cancer oops lt gt not enufcredeit tocallshall ileave uni 6 get bus yor house hi chikku send nice msgs impossible argue always treats like sub like never released remind necessary work ah den 6 plus lor u workin oso rite den go orchard lor place go liao wonderful okors great month cherish guys wish well day mojibiola cuz ibored wan na study wot wed nite 3 til 9 rose red red blood blood heart heart u u send tis ur friends including u like u get back 1u r poor relation 2u need 1 support 3u r frnd 2 many 4some1 luvs u 5 some1 praying god marry u try way sucks go u hair free right still not working time also tried adding zeros savings checking lt gt hmm dunno leh mayb bag 4 goigng dat not small jus anything except perfume smth dat keep sday joinedso training started today sorry grocers nice pubs near frankie n bennys near warner cinema yup havent want go yoga call book oh shut omg yesterday dream 2 kids boys pissed not kids boys even told mark dream changing diapers cause not getting owed face yeah imagine would really gentle unlike docs treat patients like turkeys started dont stop pray good ideas anything see help guys ill forward link hi darlin im helens fone im gon na b princes 2 nite please come tb love kate office da aiyar u poor thing give u support k jia think u oh unintentionally not bad timing great fingers trains play along give fifteen min warning k come wenever u lik come also tel vikky come getting free time pls call da happen happy new year u ur family may new year bring happiness stability tranquility ur vibrant colourful life problem renewal ill right away dont know details idk sitting stop shop parking lot right bawling eyes feel like failure everything nobody wants feel like failing nt left yet probably gon na til dinner like lt gt question new years eve ok went party boyfriend si hey sir need velusamy sir date birth company bank facilities details k k sms chat come karnan car please wait till 6pm directly goto doctor bluray player ok r meeting later lol need cash nitros hurry come crash send text skype later ok leave need ask ìï still got lessons ìï sch dun believe leh tot told true already thk muz c us tog believe oh charge camera iûve got salt rub open wounds like going lunch school n da lab stuff give call ì_ r done oh k come tomorrow aight text tonight see u 2 water logging desert geoenvironmental implications raji pls favour pls convey birthday wishes nimya pls today birthday company goodenvironment terrific food really nice strange watching 2nd one bed sweet dreams miss u hi hope u r ok said would text nt u seen let gently please babe fucking love know fuck good hear voice need crave ca nt get enough adore ahmad kisses k sure relatives home sms de pls sent like fuuuuck need stop sleepin sup town jus take mrt later cooked rather nice salmon la uploaded mine facebook time u wrkin okie sorry call later oh oh den muz change plan liao go back yan jiu wylie tampa sarasota ok take ur time n enjoy ur dinner darren saying dat u meeting da ge den dun meet 4 dinner cos later u leave xy feel awkward den u meet 4 lunch lor like cheap iûm happy splash wine makes feel better shes fine difficulties phone works mine pls send another friend request ugh leg hurts musta overdid mon wot student discount u get books fine absolutly fine come get b quite diff guess rite reach ur home lt gt minutes babe answering ca nt see maybe better reboot ym got photo great hiwhat think match know thinkin malaria relax children cant handle malaria would worse gastroenteritis takes enough replace loss temp reduce give malaria meds vomit self limiting illness means days completely stop dai downloaded exe file run exe installing yesterday true true kkhow business 3 pa not selected keep ten rs shelf buy two egg late well thats nice bad cant eat accidentally brought em home box pls needs dat slowly vomit take exam march 3 jane babes not goin 2 wrk feel ill lst nite foned already cover 4 chuck 5 nights nt staying port step liao ex die want u stuffs oh fuck juswoke bed boatin docks slept wid 25 year old spinout giv u da gossip l8r xxx smile pleasure smile pain smile trouble pours like rain smile sum1 hurts u smile becoz someone still loves see u smiling prabha soryda realy frm heart sory remet alex nichols middle school turns dealing means u could not keep ur words nope still market realise busy guy trying not bother get exams outta way try cars gr8 day hey project started aha da ok cool see ya uworld site buying qbank buying self assessment also opinion 1 2 jada 3 kusruthi 4 lovable 5 silent 6 spl character 7 not matured 8 stylish 9 simple pls reply yeah still give ride jay wants work first 4 sound gud gud k chikku tke care sleep well gud nyt part checking iq hmm thinking lor course nt tease know simply must see grins keep posted prey loving smile devouring kiss thanks temales wonderful thank great week thank princess want see nice juicy booty nt eaten day sitting staring juicy pizza ca nt eat meds ruining life gud ni8 dear slp well take care swt dreams muah u come n search tat vid not finishd k leaving soon little 9 yeah work fine started last week stuff dull easy guys fun studies alone without anyones help cant need study please tell not car keys purse didnt get anything da ok sweet dreams well big surprise usual iam fine happy amp well 1 cbe 2 chennai help u swoop picking u wherever ur birds r meeting u want anyone calls treadmill say buy make sure working found ad craigslist selling lt gt absolutely love south park recently started watching office see film pls speak wont ask anything friendship storming msg wen u lift phne u say hello u knw wt real meaning hello name girl yes u knw dat girl margaret hello girlfrnd f grahmbell invnted telphone moral one 4get name person gud ni8swt drmstake care hi darlin kate u doin somethin tonight im going pub called swan something parents one drink phone u anything lar ì_ not going home 4 dinner er u fix teeth not asapok take care u wan 2 come dinner tonight not hellohow u u 2 u b moving flat cos need arrange pick lamp etc take care hello caroline late kwish hi hope ur day good back walk table booked half eight let know ur coming oh yeah clearly fault dunno leh cant remember mayb lor wat time r meeting tmr best msg hard person u know one step foward make u fall love amp one step back ruin ur friendship good night helloooo wake sweet morning welcomes enjoy day full joy gud mrng vikky come around lt time gt princess gone get info bt dont know yeah probably sent ur email id soon still pretty weak today bad day hey nt forget mine possession property mmm childish smile excellent thought misundrstud frnd knw u hate bt day wen u knw truth u hate urself gn hey congrats 2u2 id luv 2 ive 2 go home dear call xy trying smth u eat already havent donno genes something alex says not ok not ok u coming funeral home darling sister school resuming minimum wait period reapply take care ill hand phone chat wit u well good morning mr hows london treatin ya treacle ca nt make tonight time come tomorrow lt gt bucks banks fees fixed better call bank find tell quite long cos nt finish film yet pls ask macho much budget bb bold 2 cos saw new one lt gt dollars hi missed call mumhas beendropping red wine theplace adress ill 3 mins look leave coming back thursday yay gon na ok get money cheers oh yeah everything alright hows school call work jolly good way give u tickets sat eve 730 speak x yeah thinking kk going tirunelvali week see uncle already spend amount taking dress want moneyi give feb 1 got ur favorite oyster n got favorite sashimi ok lar dun say already wait ur stomach start rumbling sister going earn da hahaha use brain dear jus finish watching tv u k fyi back parents place south tampa might need deal somewhere else good morning love go sleep wish great day full feeling better opportunity last thought babe love kiss kothi print marandratha havent got da topic yet rite ok problem yup going sch 4 rem correctly thanks keep mind aah bless arm dear sir salam alaikkumpride pleasure meeting today tea shopwe pleased send contact number qatarrakhesh indianpls save numberrespectful regards gal n boy walking park galcan hold ur hand boyy u think would run away galno jst wana c feels walking heaven prince gn makes happy wishing wonderful week sweet heart sir waiting letter dude im longer pisces im aquarius x course 2yrs messages messenger lik r sending think steyn surely get one wicket neither sterm voice studying fine not sure thing resolved tho anyway fab hols garbage bags eggs jam bread hannaford wheat chex not pride almost lt gt years old nt takin money kid not supposed deal stuff grownup stuff nt tell sounds better evening im costume im not sure time finish tomorrow txt end birthday feb lt gt da wan na gym like would nt jerk u awake snow course make stink go openings room til thanksgiving without upcharge guys planning coming wat ì_ parents kidz friends n colleagues screaming surprise waiting sofa naked sir 8hr trip bus last week another audition next wednesday think might drive time thought put back box home one interested may business plan yup paragon havent decided whether 2 cut yet hee good morning princess great day guai ìï shd haf seen naughty ìï free today go jogging aiyo cos sms ì_ ì_ neva reply wait 4 ì_ reply lar tot ì_ havent finish ur lab wat living simple loving also simple laughing simple winning tooo simple simple difficult tell something thats okay ok hmm shall bring bottle wine keep us amused joking still bring bottle red white see tomorrow ur face test 1 2 3 4 5 6 7 8 9 lt gt select number tell ur face astrology waiting quick reply hey iouri gave number wylie ryan friend yep get program slacking inside office still filling formsdon know leave think mentor not 100 percent sure trying figure suppose see couple different people week said get together nt set dates hi mom might back later lt gt lol oh got friend dog ok problem u frm wats matter k head mins see u konw waht rael friendship im gving yuo exmpel jsut ese tihs msg evrey splleing tihs msg wrnog bt sitll yuo raed wihtuot ayn mitsake goodnight amp nice sleep sweet dreams cant pick phone right pls send message nt want leave barely stay sane fighting constantly nt helping somebody set website play hold em using eve online spacebucks sunny california weather cool make squeezed lt gt bucks dad good day toopray meremove teeth painful maintaining stuff babes hope ok shit nights sleep fell asleep 5iåõm knackered iåõm dreading work tonight thou upto tonight x friends help us problems give stupid suggestion lands us another problem helps us forgt previous problem work please call gentle baby soon taking lt gt inches deep inside tight pussy not much fights good nite okok ok whats ur todays plan nt joking seriously told watching ajith film ah ooooooh forgot tell u get yoville phone done handed nt know mega shop asda counts celebration thats dont know exactly could ask chechi dunno lei shd b driving lor cos go sch 1 hr oni want custom officer discount oh necessarily respectful hi hope good day better night apparently bffs carly quick hard true much show amp express love someone much hurt leave get seperated öó_ ûud evening babes think got ur brolly left english wil bring 2mrw 4 u luv franxx hi babe thanks coming even though didnt go well wanted bed hope see soon love kisses xxx gd got free ice cream oso wan pls give prometazine syrup 5mls lt gt mins later feed many days since dear angry busy dear yup msg tat yijue tot group mate cos meeting today mah askin ì_ leaving earlier wat mah cos mayb ì_ haf walk v far pub first time everything daddy shu shu looking 4 u u wan 2 tell u not singapore wat ask u meeting da ge tmr nite gr8 handle victoria island traffic plus album due nite nite pocay wocay luv u n e thing 4eva promise ring u 2morrowxxxx east coast get chicken broth want ramen unless nt know slave want take 2 3 pictures today bright light cell phone bright light nope forgot show next week really masters bruce amp fowler mom car ca nt park long story dont know oh hopefully month hi elaine today meeting confirmed ok k sry knw 2 siva tats askd sorry call later u horrible gal u knew dat going wif yest n u still come n ask otherwise part time job natuition oh yeah diet flew window didnt complete gist oh er yeah b 1526 sorry tell pubcafe sit come wen u make time tonight whenever cool text whenever around nt paying attention thanx lot 4 ur help gon na way specific jesus armand really trying tell everybody find wif buying tix lar mode men left slow using biola fne youdoing later sar xxx hey booked 2 lessons sun liao thank generally date brothas way make sure u get train worc foregate street not shrub hill fun night x thought get watch cos thats kind thing u get4an18th loves much good morning repair shop reason hour fine got enough bud last night least back good journey let know need receipts shall tell like pendent takes away money worries aight pick open tonight sac needs carry sing hu think also important find someone female know place well preferably citizen also smart help navigate even things like choosing phone plan require guidance doubt ask especially girls hello wats talks email address except theres chick huge boobs im wondering right wishing beautiful day moment revealing even things keep smiling enjoy arun u transfr amt sorry call later hear loud scream lt gt minutes cause gyno shoving things nt belong ok thk got u wan 2 come wat u goin 2nite treasure every moment spend together shall bring us bottle wine keep us amused joking iûll bring one anyway ok lor thought slide enough yup well obviously not people cool college life went home _ ok lor ì_ reaching message mummy boy good bad positive negative mummy made wait hmmmm dhoni luck win big titleso win yes princess want please every night wish command todaysunday sunday holiday work probably lt gt really hope work doesnt get stressful gr8 day seen back holby shall call dear food li hai bored da lecturer repeating last weeks stuff waste time picking various points going 2 yeovil motor project 4 3 hours u take home 12 2 530 max easy also fuck family going rhode island wherever fuck leaving alone week new bong gt ofcourse also upload songs k sent oh thanks lot already bought 2 eggs k sent u studying sch going home anyway b going 2 sch later think rule tamilnadu tough people cool shall go see go tip anyway home got something drop later lets go town tonight maybe mum take us good afternoon love goes day sleep hope well boytoy think yes trust u buy new stuff asap try wake gt get step 2 outta way congrats love one law make happy person love way friendship one law never make ur friend feel alone alive gud night apo mokka players perhaps much easy give account identification tomorrow uni wait msg lt gt min told tell stupid hear wont tell anything dad called brother spoken not god love limit god grace measure god power boundaries may u god endless blessings always ur life gud ni8 want inside every night machan go gym tomorrow wil come late goodnight lol mad first woke gave went project centre itûs reassuring crazy world making dinner yes please leave lt gt lt gt leave oh okie lor go sat great role model giving much really wish day miracle god reason everything must say wish knew dont looked since young still great day ya referin mei ex wat ah waitin 4 u treat somebody shld b rich liao gd den u dun work frm tmr onwards miles smiles r made frm letters u know difference smile ur face keeps happy even though miles away u keep smiling good nyt way put skip right outside front house see house pull pls send company name saibaba colany dont want hear anything big chic common declare thats cool want please going join tomorrow want tell bad feel basically times text lately need drugs total disappointment texted craziest shit got effect irritation ignore one think tantrum finished yeah point compliments away system side happened adventuring hey chief give bell get need talk royal visit 1st june ok another number know thinkin malaria relax children cant handle malaria would worse gastroenteritis takes enough replace loss temp reduce give malaria meds vomit self limiting illness means days completely stop aiyah ok wat long got improve already wat ca nt believe attached seeing every day know best get babe go teach class midnight sleeping surfing yeah jus rite armand says get ass epsilon u still havent got urself jacket ah taking derek amp taylor walmart not back time done leave mouse desk text priscilla ready hi durban still number ic lotta childporn cars trying weekend v know wot people wear shirts jumpers hat belt know r cribbs cool time think get wen get spiritual deep great safe trip nigeria wish happiness soon company share moments hahaha use brain dear well keep mind got enough gas one round trip barring sudden influx cash yeh indians nice tho kane bit shud go 4 drink sometime soon mite hav 2 go 2 da works 4 laugh soon love pete x x yes u texted pshew missing much meant calculation lt gt units lt gt school really expensive started practicing accent important decided 4years dental school nmde exam sorry call later nt next lt gt hours imma flip shit anything lor juz us lor get dump heap mom decided come lowes boring ok lor sony ericsson salesman ask shuhui say quite gd 2 use considering ard 6 like dat lor nt wait til least wednesday see get huh lei ì_ b going esplanade fr home pity mood suggestions guy bitching acted like interested buying something else next week gave us free rofl true name'"
            ],
            "application/vnd.google.colaboratory.intrinsic+json": {
              "type": "string"
            }
          },
          "metadata": {},
          "execution_count": 13
        }
      ]
    },
    {
      "cell_type": "code",
      "source": [
        "from collections import Counter\n",
        "ham=ham.split()"
      ],
      "metadata": {
        "id": "hHX4PK3DxLPQ"
      },
      "execution_count": null,
      "outputs": []
    },
    {
      "cell_type": "code",
      "source": [
        "counter_ham=Counter(ham).most_common(30)\n",
        "counter_ham"
      ],
      "metadata": {
        "colab": {
          "base_uri": "https://localhost:8080/"
        },
        "id": "CfsrUGxQ6YBi",
        "outputId": "37334bff-ce80-4e1a-c639-9c3da114a543"
      },
      "execution_count": null,
      "outputs": [
        {
          "output_type": "execute_result",
          "data": {
            "text/plain": [
              "[('u', 1004),\n",
              " ('not', 417),\n",
              " ('nt', 360),\n",
              " ('gt', 318),\n",
              " ('lt', 316),\n",
              " ('2', 309),\n",
              " ('get', 303),\n",
              " ('ok', 279),\n",
              " ('go', 248),\n",
              " ('got', 244),\n",
              " ('ur', 241),\n",
              " ('know', 236),\n",
              " ('like', 231),\n",
              " ('call', 231),\n",
              " ('good', 229),\n",
              " ('come', 227),\n",
              " ('time', 197),\n",
              " ('day', 192),\n",
              " ('love', 191),\n",
              " ('4', 172),\n",
              " ('going', 169),\n",
              " ('one', 167),\n",
              " ('want', 163),\n",
              " ('lor', 162),\n",
              " ('home', 161),\n",
              " ('need', 156),\n",
              " ('sorry', 156),\n",
              " ('da', 149),\n",
              " ('still', 148),\n",
              " ('n', 139)]"
            ]
          },
          "metadata": {},
          "execution_count": 15
        }
      ]
    },
    {
      "cell_type": "code",
      "source": [
        "spam_df=df[df['type']=='spam']"
      ],
      "metadata": {
        "id": "dmH0yFdQ05Kp"
      },
      "execution_count": null,
      "outputs": []
    },
    {
      "cell_type": "code",
      "source": [
        "spam=spam_df['cleaned_message']\n",
        "spam=\" \".join(spam)\n",
        "spam=spam.split()"
      ],
      "metadata": {
        "id": "BS-8IfpO3KlA"
      },
      "execution_count": null,
      "outputs": []
    },
    {
      "cell_type": "code",
      "source": [
        "counter_spam=Counter(spam).most_common(30)\n",
        "counter_spam"
      ],
      "metadata": {
        "colab": {
          "base_uri": "https://localhost:8080/"
        },
        "id": "OO1e50eG3Vk5",
        "outputId": "755045f4-7b27-4f20-a0b2-60a1861686e2"
      },
      "execution_count": null,
      "outputs": [
        {
          "output_type": "execute_result",
          "data": {
            "text/plain": [
              "[('call', 347),\n",
              " ('free', 219),\n",
              " ('2', 176),\n",
              " ('u', 159),\n",
              " ('txt', 156),\n",
              " ('ur', 144),\n",
              " ('mobile', 123),\n",
              " ('4', 123),\n",
              " ('text', 121),\n",
              " ('stop', 116),\n",
              " ('claim', 113),\n",
              " ('reply', 104),\n",
              " ('prize', 92),\n",
              " ('get', 84),\n",
              " ('new', 69),\n",
              " ('send', 68),\n",
              " ('nokia', 65),\n",
              " ('urgent', 63),\n",
              " ('cash', 62),\n",
              " ('win', 60),\n",
              " ('contact', 56),\n",
              " ('service', 55),\n",
              " ('please', 54),\n",
              " ('week', 53),\n",
              " ('c', 52),\n",
              " ('guaranteed', 50),\n",
              " ('customer', 49),\n",
              " ('16', 49),\n",
              " ('tone', 48),\n",
              " ('per', 46)]"
            ]
          },
          "metadata": {},
          "execution_count": 18
        }
      ]
    },
    {
      "cell_type": "code",
      "source": [
        "spam_count_df=pd.DataFrame.from_dict(counter_spam)\n",
        "spam_count_df=spam_count_df.rename(columns={0:'words',1:'count'})\n",
        "spam_count_df.head()"
      ],
      "metadata": {
        "colab": {
          "base_uri": "https://localhost:8080/",
          "height": 206
        },
        "id": "zRcTh56T3iHo",
        "outputId": "38bea537-8c5d-4ec8-b72c-df433f51a828"
      },
      "execution_count": null,
      "outputs": [
        {
          "output_type": "execute_result",
          "data": {
            "text/plain": [
              "  words  count\n",
              "0  call    347\n",
              "1  free    219\n",
              "2     2    176\n",
              "3     u    159\n",
              "4   txt    156"
            ],
            "text/html": [
              "\n",
              "\n",
              "  <div id=\"df-d4b1440b-bbae-4665-81bc-34d5bdcaa6af\">\n",
              "    <div class=\"colab-df-container\">\n",
              "      <div>\n",
              "<style scoped>\n",
              "    .dataframe tbody tr th:only-of-type {\n",
              "        vertical-align: middle;\n",
              "    }\n",
              "\n",
              "    .dataframe tbody tr th {\n",
              "        vertical-align: top;\n",
              "    }\n",
              "\n",
              "    .dataframe thead th {\n",
              "        text-align: right;\n",
              "    }\n",
              "</style>\n",
              "<table border=\"1\" class=\"dataframe\">\n",
              "  <thead>\n",
              "    <tr style=\"text-align: right;\">\n",
              "      <th></th>\n",
              "      <th>words</th>\n",
              "      <th>count</th>\n",
              "    </tr>\n",
              "  </thead>\n",
              "  <tbody>\n",
              "    <tr>\n",
              "      <th>0</th>\n",
              "      <td>call</td>\n",
              "      <td>347</td>\n",
              "    </tr>\n",
              "    <tr>\n",
              "      <th>1</th>\n",
              "      <td>free</td>\n",
              "      <td>219</td>\n",
              "    </tr>\n",
              "    <tr>\n",
              "      <th>2</th>\n",
              "      <td>2</td>\n",
              "      <td>176</td>\n",
              "    </tr>\n",
              "    <tr>\n",
              "      <th>3</th>\n",
              "      <td>u</td>\n",
              "      <td>159</td>\n",
              "    </tr>\n",
              "    <tr>\n",
              "      <th>4</th>\n",
              "      <td>txt</td>\n",
              "      <td>156</td>\n",
              "    </tr>\n",
              "  </tbody>\n",
              "</table>\n",
              "</div>\n",
              "      <button class=\"colab-df-convert\" onclick=\"convertToInteractive('df-d4b1440b-bbae-4665-81bc-34d5bdcaa6af')\"\n",
              "              title=\"Convert this dataframe to an interactive table.\"\n",
              "              style=\"display:none;\">\n",
              "\n",
              "  <svg xmlns=\"http://www.w3.org/2000/svg\" height=\"24px\"viewBox=\"0 0 24 24\"\n",
              "       width=\"24px\">\n",
              "    <path d=\"M0 0h24v24H0V0z\" fill=\"none\"/>\n",
              "    <path d=\"M18.56 5.44l.94 2.06.94-2.06 2.06-.94-2.06-.94-.94-2.06-.94 2.06-2.06.94zm-11 1L8.5 8.5l.94-2.06 2.06-.94-2.06-.94L8.5 2.5l-.94 2.06-2.06.94zm10 10l.94 2.06.94-2.06 2.06-.94-2.06-.94-.94-2.06-.94 2.06-2.06.94z\"/><path d=\"M17.41 7.96l-1.37-1.37c-.4-.4-.92-.59-1.43-.59-.52 0-1.04.2-1.43.59L10.3 9.45l-7.72 7.72c-.78.78-.78 2.05 0 2.83L4 21.41c.39.39.9.59 1.41.59.51 0 1.02-.2 1.41-.59l7.78-7.78 2.81-2.81c.8-.78.8-2.07 0-2.86zM5.41 20L4 18.59l7.72-7.72 1.47 1.35L5.41 20z\"/>\n",
              "  </svg>\n",
              "      </button>\n",
              "\n",
              "\n",
              "\n",
              "    <div id=\"df-1b4952e8-e187-4626-afb9-4a7ee0d165c4\">\n",
              "      <button class=\"colab-df-quickchart\" onclick=\"quickchart('df-1b4952e8-e187-4626-afb9-4a7ee0d165c4')\"\n",
              "              title=\"Suggest charts.\"\n",
              "              style=\"display:none;\">\n",
              "\n",
              "<svg xmlns=\"http://www.w3.org/2000/svg\" height=\"24px\"viewBox=\"0 0 24 24\"\n",
              "     width=\"24px\">\n",
              "    <g>\n",
              "        <path d=\"M19 3H5c-1.1 0-2 .9-2 2v14c0 1.1.9 2 2 2h14c1.1 0 2-.9 2-2V5c0-1.1-.9-2-2-2zM9 17H7v-7h2v7zm4 0h-2V7h2v10zm4 0h-2v-4h2v4z\"/>\n",
              "    </g>\n",
              "</svg>\n",
              "      </button>\n",
              "    </div>\n",
              "\n",
              "<style>\n",
              "  .colab-df-quickchart {\n",
              "    background-color: #E8F0FE;\n",
              "    border: none;\n",
              "    border-radius: 50%;\n",
              "    cursor: pointer;\n",
              "    display: none;\n",
              "    fill: #1967D2;\n",
              "    height: 32px;\n",
              "    padding: 0 0 0 0;\n",
              "    width: 32px;\n",
              "  }\n",
              "\n",
              "  .colab-df-quickchart:hover {\n",
              "    background-color: #E2EBFA;\n",
              "    box-shadow: 0px 1px 2px rgba(60, 64, 67, 0.3), 0px 1px 3px 1px rgba(60, 64, 67, 0.15);\n",
              "    fill: #174EA6;\n",
              "  }\n",
              "\n",
              "  [theme=dark] .colab-df-quickchart {\n",
              "    background-color: #3B4455;\n",
              "    fill: #D2E3FC;\n",
              "  }\n",
              "\n",
              "  [theme=dark] .colab-df-quickchart:hover {\n",
              "    background-color: #434B5C;\n",
              "    box-shadow: 0px 1px 3px 1px rgba(0, 0, 0, 0.15);\n",
              "    filter: drop-shadow(0px 1px 2px rgba(0, 0, 0, 0.3));\n",
              "    fill: #FFFFFF;\n",
              "  }\n",
              "</style>\n",
              "\n",
              "    <script>\n",
              "      async function quickchart(key) {\n",
              "        const containerElement = document.querySelector('#' + key);\n",
              "        const charts = await google.colab.kernel.invokeFunction(\n",
              "            'suggestCharts', [key], {});\n",
              "      }\n",
              "    </script>\n",
              "\n",
              "      <script>\n",
              "\n",
              "function displayQuickchartButton(domScope) {\n",
              "  let quickchartButtonEl =\n",
              "    domScope.querySelector('#df-1b4952e8-e187-4626-afb9-4a7ee0d165c4 button.colab-df-quickchart');\n",
              "  quickchartButtonEl.style.display =\n",
              "    google.colab.kernel.accessAllowed ? 'block' : 'none';\n",
              "}\n",
              "\n",
              "        displayQuickchartButton(document);\n",
              "      </script>\n",
              "      <style>\n",
              "    .colab-df-container {\n",
              "      display:flex;\n",
              "      flex-wrap:wrap;\n",
              "      gap: 12px;\n",
              "    }\n",
              "\n",
              "    .colab-df-convert {\n",
              "      background-color: #E8F0FE;\n",
              "      border: none;\n",
              "      border-radius: 50%;\n",
              "      cursor: pointer;\n",
              "      display: none;\n",
              "      fill: #1967D2;\n",
              "      height: 32px;\n",
              "      padding: 0 0 0 0;\n",
              "      width: 32px;\n",
              "    }\n",
              "\n",
              "    .colab-df-convert:hover {\n",
              "      background-color: #E2EBFA;\n",
              "      box-shadow: 0px 1px 2px rgba(60, 64, 67, 0.3), 0px 1px 3px 1px rgba(60, 64, 67, 0.15);\n",
              "      fill: #174EA6;\n",
              "    }\n",
              "\n",
              "    [theme=dark] .colab-df-convert {\n",
              "      background-color: #3B4455;\n",
              "      fill: #D2E3FC;\n",
              "    }\n",
              "\n",
              "    [theme=dark] .colab-df-convert:hover {\n",
              "      background-color: #434B5C;\n",
              "      box-shadow: 0px 1px 3px 1px rgba(0, 0, 0, 0.15);\n",
              "      filter: drop-shadow(0px 1px 2px rgba(0, 0, 0, 0.3));\n",
              "      fill: #FFFFFF;\n",
              "    }\n",
              "  </style>\n",
              "\n",
              "      <script>\n",
              "        const buttonEl =\n",
              "          document.querySelector('#df-d4b1440b-bbae-4665-81bc-34d5bdcaa6af button.colab-df-convert');\n",
              "        buttonEl.style.display =\n",
              "          google.colab.kernel.accessAllowed ? 'block' : 'none';\n",
              "\n",
              "        async function convertToInteractive(key) {\n",
              "          const element = document.querySelector('#df-d4b1440b-bbae-4665-81bc-34d5bdcaa6af');\n",
              "          const dataTable =\n",
              "            await google.colab.kernel.invokeFunction('convertToInteractive',\n",
              "                                                     [key], {});\n",
              "          if (!dataTable) return;\n",
              "\n",
              "          const docLinkHtml = 'Like what you see? Visit the ' +\n",
              "            '<a target=\"_blank\" href=https://colab.research.google.com/notebooks/data_table.ipynb>data table notebook</a>'\n",
              "            + ' to learn more about interactive tables.';\n",
              "          element.innerHTML = '';\n",
              "          dataTable['output_type'] = 'display_data';\n",
              "          await google.colab.output.renderOutput(dataTable, element);\n",
              "          const docLink = document.createElement('div');\n",
              "          docLink.innerHTML = docLinkHtml;\n",
              "          element.appendChild(docLink);\n",
              "        }\n",
              "      </script>\n",
              "    </div>\n",
              "  </div>\n"
            ]
          },
          "metadata": {},
          "execution_count": 19
        }
      ]
    },
    {
      "cell_type": "code",
      "source": [
        "plt.figure(figsize=(20,7))\n",
        "plt.xticks(rotation=90)\n",
        "sns.barplot(x=spam_count_df['words'],y=spam_count_df['count'])"
      ],
      "metadata": {
        "colab": {
          "base_uri": "https://localhost:8080/",
          "height": 547
        },
        "id": "YW422mMY4f99",
        "outputId": "9baa939a-4a30-47d1-dc6a-f3ecb854175f"
      },
      "execution_count": null,
      "outputs": [
        {
          "output_type": "execute_result",
          "data": {
            "text/plain": [
              "<Axes: xlabel='words', ylabel='count'>"
            ]
          },
          "metadata": {},
          "execution_count": 20
        },
        {
          "output_type": "display_data",
          "data": {
            "text/plain": [
              "<Figure size 2000x700 with 1 Axes>"
            ],
            "image/png": "[encoded data removed]"
          },
          "metadata": {}
        }
      ]
    },
    {
      "cell_type": "code",
      "source": [
        "ham_count_df=pd.DataFrame.from_dict(counter_ham)\n",
        "ham_count_df=ham_count_df.rename(columns={0:'words',1:'count'})\n",
        "ham_count_df.head()"
      ],
      "metadata": {
        "colab": {
          "base_uri": "https://localhost:8080/",
          "height": 206
        },
        "id": "eoXsDQLU5NJo",
        "outputId": "4f86daa9-dcea-4604-cc26-639295791b4d"
      },
      "execution_count": null,
      "outputs": [
        {
          "output_type": "execute_result",
          "data": {
            "text/plain": [
              "  words  count\n",
              "0     u   1004\n",
              "1   not    417\n",
              "2    nt    360\n",
              "3    gt    318\n",
              "4    lt    316"
            ],
            "text/html": [
              "\n",
              "\n",
              "  <div id=\"df-9715a2b6-fb4f-4e6a-ac49-d3d2c9e41ca0\">\n",
              "    <div class=\"colab-df-container\">\n",
              "      <div>\n",
              "<style scoped>\n",
              "    .dataframe tbody tr th:only-of-type {\n",
              "        vertical-align: middle;\n",
              "    }\n",
              "\n",
              "    .dataframe tbody tr th {\n",
              "        vertical-align: top;\n",
              "    }\n",
              "\n",
              "    .dataframe thead th {\n",
              "        text-align: right;\n",
              "    }\n",
              "</style>\n",
              "<table border=\"1\" class=\"dataframe\">\n",
              "  <thead>\n",
              "    <tr style=\"text-align: right;\">\n",
              "      <th></th>\n",
              "      <th>words</th>\n",
              "      <th>count</th>\n",
              "    </tr>\n",
              "  </thead>\n",
              "  <tbody>\n",
              "    <tr>\n",
              "      <th>0</th>\n",
              "      <td>u</td>\n",
              "      <td>1004</td>\n",
              "    </tr>\n",
              "    <tr>\n",
              "      <th>1</th>\n",
              "      <td>not</td>\n",
              "      <td>417</td>\n",
              "    </tr>\n",
              "    <tr>\n",
              "      <th>2</th>\n",
              "      <td>nt</td>\n",
              "      <td>360</td>\n",
              "    </tr>\n",
              "    <tr>\n",
              "      <th>3</th>\n",
              "      <td>gt</td>\n",
              "      <td>318</td>\n",
              "    </tr>\n",
              "    <tr>\n",
              "      <th>4</th>\n",
              "      <td>lt</td>\n",
              "      <td>316</td>\n",
              "    </tr>\n",
              "  </tbody>\n",
              "</table>\n",
              "</div>\n",
              "      <button class=\"colab-df-convert\" onclick=\"convertToInteractive('df-9715a2b6-fb4f-4e6a-ac49-d3d2c9e41ca0')\"\n",
              "              title=\"Convert this dataframe to an interactive table.\"\n",
              "              style=\"display:none;\">\n",
              "\n",
              "  <svg xmlns=\"http://www.w3.org/2000/svg\" height=\"24px\"viewBox=\"0 0 24 24\"\n",
              "       width=\"24px\">\n",
              "    <path d=\"M0 0h24v24H0V0z\" fill=\"none\"/>\n",
              "    <path d=\"M18.56 5.44l.94 2.06.94-2.06 2.06-.94-2.06-.94-.94-2.06-.94 2.06-2.06.94zm-11 1L8.5 8.5l.94-2.06 2.06-.94-2.06-.94L8.5 2.5l-.94 2.06-2.06.94zm10 10l.94 2.06.94-2.06 2.06-.94-2.06-.94-.94-2.06-.94 2.06-2.06.94z\"/><path d=\"M17.41 7.96l-1.37-1.37c-.4-.4-.92-.59-1.43-.59-.52 0-1.04.2-1.43.59L10.3 9.45l-7.72 7.72c-.78.78-.78 2.05 0 2.83L4 21.41c.39.39.9.59 1.41.59.51 0 1.02-.2 1.41-.59l7.78-7.78 2.81-2.81c.8-.78.8-2.07 0-2.86zM5.41 20L4 18.59l7.72-7.72 1.47 1.35L5.41 20z\"/>\n",
              "  </svg>\n",
              "      </button>\n",
              "\n",
              "\n",
              "\n",
              "    <div id=\"df-0d7625fc-aef5-453d-b509-8e3b43afc269\">\n",
              "      <button class=\"colab-df-quickchart\" onclick=\"quickchart('df-0d7625fc-aef5-453d-b509-8e3b43afc269')\"\n",
              "              title=\"Suggest charts.\"\n",
              "              style=\"display:none;\">\n",
              "\n",
              "<svg xmlns=\"http://www.w3.org/2000/svg\" height=\"24px\"viewBox=\"0 0 24 24\"\n",
              "     width=\"24px\">\n",
              "    <g>\n",
              "        <path d=\"M19 3H5c-1.1 0-2 .9-2 2v14c0 1.1.9 2 2 2h14c1.1 0 2-.9 2-2V5c0-1.1-.9-2-2-2zM9 17H7v-7h2v7zm4 0h-2V7h2v10zm4 0h-2v-4h2v4z\"/>\n",
              "    </g>\n",
              "</svg>\n",
              "      </button>\n",
              "    </div>\n",
              "\n",
              "<style>\n",
              "  .colab-df-quickchart {\n",
              "    background-color: #E8F0FE;\n",
              "    border: none;\n",
              "    border-radius: 50%;\n",
              "    cursor: pointer;\n",
              "    display: none;\n",
              "    fill: #1967D2;\n",
              "    height: 32px;\n",
              "    padding: 0 0 0 0;\n",
              "    width: 32px;\n",
              "  }\n",
              "\n",
              "  .colab-df-quickchart:hover {\n",
              "    background-color: #E2EBFA;\n",
              "    box-shadow: 0px 1px 2px rgba(60, 64, 67, 0.3), 0px 1px 3px 1px rgba(60, 64, 67, 0.15);\n",
              "    fill: #174EA6;\n",
              "  }\n",
              "\n",
              "  [theme=dark] .colab-df-quickchart {\n",
              "    background-color: #3B4455;\n",
              "    fill: #D2E3FC;\n",
              "  }\n",
              "\n",
              "  [theme=dark] .colab-df-quickchart:hover {\n",
              "    background-color: #434B5C;\n",
              "    box-shadow: 0px 1px 3px 1px rgba(0, 0, 0, 0.15);\n",
              "    filter: drop-shadow(0px 1px 2px rgba(0, 0, 0, 0.3));\n",
              "    fill: #FFFFFF;\n",
              "  }\n",
              "</style>\n",
              "\n",
              "    <script>\n",
              "      async function quickchart(key) {\n",
              "        const containerElement = document.querySelector('#' + key);\n",
              "        const charts = await google.colab.kernel.invokeFunction(\n",
              "            'suggestCharts', [key], {});\n",
              "      }\n",
              "    </script>\n",
              "\n",
              "      <script>\n",
              "\n",
              "function displayQuickchartButton(domScope) {\n",
              "  let quickchartButtonEl =\n",
              "    domScope.querySelector('#df-0d7625fc-aef5-453d-b509-8e3b43afc269 button.colab-df-quickchart');\n",
              "  quickchartButtonEl.style.display =\n",
              "    google.colab.kernel.accessAllowed ? 'block' : 'none';\n",
              "}\n",
              "\n",
              "        displayQuickchartButton(document);\n",
              "      </script>\n",
              "      <style>\n",
              "    .colab-df-container {\n",
              "      display:flex;\n",
              "      flex-wrap:wrap;\n",
              "      gap: 12px;\n",
              "    }\n",
              "\n",
              "    .colab-df-convert {\n",
              "      background-color: #E8F0FE;\n",
              "      border: none;\n",
              "      border-radius: 50%;\n",
              "      cursor: pointer;\n",
              "      display: none;\n",
              "      fill: #1967D2;\n",
              "      height: 32px;\n",
              "      padding: 0 0 0 0;\n",
              "      width: 32px;\n",
              "    }\n",
              "\n",
              "    .colab-df-convert:hover {\n",
              "      background-color: #E2EBFA;\n",
              "      box-shadow: 0px 1px 2px rgba(60, 64, 67, 0.3), 0px 1px 3px 1px rgba(60, 64, 67, 0.15);\n",
              "      fill: #174EA6;\n",
              "    }\n",
              "\n",
              "    [theme=dark] .colab-df-convert {\n",
              "      background-color: #3B4455;\n",
              "      fill: #D2E3FC;\n",
              "    }\n",
              "\n",
              "    [theme=dark] .colab-df-convert:hover {\n",
              "      background-color: #434B5C;\n",
              "      box-shadow: 0px 1px 3px 1px rgba(0, 0, 0, 0.15);\n",
              "      filter: drop-shadow(0px 1px 2px rgba(0, 0, 0, 0.3));\n",
              "      fill: #FFFFFF;\n",
              "    }\n",
              "  </style>\n",
              "\n",
              "      <script>\n",
              "        const buttonEl =\n",
              "          document.querySelector('#df-9715a2b6-fb4f-4e6a-ac49-d3d2c9e41ca0 button.colab-df-convert');\n",
              "        buttonEl.style.display =\n",
              "          google.colab.kernel.accessAllowed ? 'block' : 'none';\n",
              "\n",
              "        async function convertToInteractive(key) {\n",
              "          const element = document.querySelector('#df-9715a2b6-fb4f-4e6a-ac49-d3d2c9e41ca0');\n",
              "          const dataTable =\n",
              "            await google.colab.kernel.invokeFunction('convertToInteractive',\n",
              "                                                     [key], {});\n",
              "          if (!dataTable) return;\n",
              "\n",
              "          const docLinkHtml = 'Like what you see? Visit the ' +\n",
              "            '<a target=\"_blank\" href=https://colab.research.google.com/notebooks/data_table.ipynb>data table notebook</a>'\n",
              "            + ' to learn more about interactive tables.';\n",
              "          element.innerHTML = '';\n",
              "          dataTable['output_type'] = 'display_data';\n",
              "          await google.colab.output.renderOutput(dataTable, element);\n",
              "          const docLink = document.createElement('div');\n",
              "          docLink.innerHTML = docLinkHtml;\n",
              "          element.appendChild(docLink);\n",
              "        }\n",
              "      </script>\n",
              "    </div>\n",
              "  </div>\n"
            ]
          },
          "metadata": {},
          "execution_count": 21
        }
      ]
    },
    {
      "cell_type": "code",
      "source": [
        "plt.figure(figsize=(15,7))\n",
        "plt.xticks(rotation=90)\n",
        "sns.barplot(x=ham_count_df['words'],y=ham_count_df['count'])"
      ],
      "metadata": {
        "colab": {
          "base_uri": "https://localhost:8080/",
          "height": 660
        },
        "id": "pLEvDUNF657B",
        "outputId": "c63d233e-a41a-472c-dcdc-7006fa85414f"
      },
      "execution_count": null,
      "outputs": [
        {
          "output_type": "execute_result",
          "data": {
            "text/plain": [
              "<Axes: xlabel='words', ylabel='count'>"
            ]
          },
          "metadata": {},
          "execution_count": 22
        },
        {
          "output_type": "display_data",
          "data": {
            "text/plain": [
              "<Figure size 1500x700 with 1 Axes>"
            ],
            "image/png": "[encoded data removed]"
          },
          "metadata": {}
        }
      ]
    },
    {
      "cell_type": "code",
      "source": [
        "df['type']=df['type'].map({'spam':1,'ham':0})"
      ],
      "metadata": {
        "id": "NdoQpY5g7Pzr"
      },
      "execution_count": null,
      "outputs": []
    },
    {
      "cell_type": "code",
      "source": [
        "from sklearn.feature_extraction.text import CountVectorizer\n",
        "from sklearn.model_selection import train_test_split\n",
        "X=df.drop(['type','message'],axis=1)\n",
        "Y=df['type']"
      ],
      "metadata": {
        "id": "I0hZSh9o-2Np"
      },
      "execution_count": null,
      "outputs": []
    },
    {
      "cell_type": "code",
      "source": [
        "# vectorize function needs only 1 pos argument it means it can accept series ,we need to give 1 d\n",
        "vec=CountVectorizer()"
      ],
      "metadata": {
        "id": "8YQVvSGYTMSN"
      },
      "execution_count": null,
      "outputs": []
    },
    {
      "cell_type": "code",
      "source": [
        "X=vec.fit_transform(X['cleaned_message'])\n",
        "X.shape"
      ],
      "metadata": {
        "colab": {
          "base_uri": "https://localhost:8080/"
        },
        "id": "ktz1idvMR8po",
        "outputId": "97d77b07-8c4f-4173-de2f-97c4634e7917"
      },
      "execution_count": null,
      "outputs": [
        {
          "output_type": "execute_result",
          "data": {
            "text/plain": [
              "(5572, 8952)"
            ]
          },
          "metadata": {},
          "execution_count": 26
        }
      ]
    },
    {
      "cell_type": "code",
      "source": [
        "X_train,X_test,Y_train,Y_test=train_test_split(X,Y,test_size=0.2)"
      ],
      "metadata": {
        "id": "W3EGpPAQQYye"
      },
      "execution_count": null,
      "outputs": []
    },
    {
      "cell_type": "code",
      "source": [
        "print(X_train.shape)\n",
        "X_test.shape"
      ],
      "metadata": {
        "colab": {
          "base_uri": "https://localhost:8080/"
        },
        "id": "AshqBEZ7SPkO",
        "outputId": "b8105b39-2333-4383-8131-21f70a8febca"
      },
      "execution_count": null,
      "outputs": [
        {
          "output_type": "stream",
          "name": "stdout",
          "text": [
            "(4457, 8952)\n"
          ]
        },
        {
          "output_type": "execute_result",
          "data": {
            "text/plain": [
              "(1115, 8952)"
            ]
          },
          "metadata": {},
          "execution_count": 28
        }
      ]
    },
    {
      "cell_type": "code",
      "source": [
        "print(len(vec.get_feature_names_out()))"
      ],
      "metadata": {
        "colab": {
          "base_uri": "https://localhost:8080/"
        },
        "id": "k88N5anFKput",
        "outputId": "196a43d3-4e2b-41b9-a892-d9d4a77aa913"
      },
      "execution_count": null,
      "outputs": [
        {
          "output_type": "stream",
          "name": "stdout",
          "text": [
            "8952\n"
          ]
        }
      ]
    },
    {
      "cell_type": "code",
      "source": [
        "from sklearn.naive_bayes import MultinomialNB"
      ],
      "metadata": {
        "id": "pU07VrpLNLqx"
      },
      "execution_count": null,
      "outputs": []
    },
    {
      "cell_type": "code",
      "source": [
        "mnb=MultinomialNB()\n",
        "from sklearn.model_selection import GridSearchCV"
      ],
      "metadata": {
        "id": "AC6kexe7NQH-"
      },
      "execution_count": null,
      "outputs": []
    },
    {
      "cell_type": "code",
      "source": [],
      "metadata": {
        "id": "N8Wi_Mv8PZjD"
      },
      "execution_count": null,
      "outputs": []
    },
    {
      "cell_type": "code",
      "source": [
        "params={'alpha':[0.001,0.01,0.1,1,10,100]}\n",
        "n_folds=3\n",
        "model_cv=GridSearchCV(estimator=mnb,param_grid=params,cv=3,verbose=1,return_train_score=True,n_jobs=-1,scoring='accuracy')\n",
        "model_cv.fit(X_train,Y_train)"
      ],
      "metadata": {
        "colab": {
          "base_uri": "https://localhost:8080/",
          "height": 135
        },
        "id": "RXyCDH3COIH5",
        "outputId": "82e70c8a-d998-4632-cb79-fd04a484a314"
      },
      "execution_count": null,
      "outputs": [
        {
          "output_type": "stream",
          "name": "stdout",
          "text": [
            "Fitting 3 folds for each of 6 candidates, totalling 18 fits\n"
          ]
        },
        {
          "output_type": "execute_result",
          "data": {
            "text/plain": [
              "GridSearchCV(cv=3, estimator=MultinomialNB(), n_jobs=-1,\n",
              "             param_grid={'alpha': [0.001, 0.01, 0.1, 1, 10, 100]},\n",
              "             return_train_score=True, scoring='accuracy', verbose=1)"
            ],
            "text/html": [
              "<style>#sk-container-id-1 {color: black;background-color: white;}#sk-container-id-1 pre{padding: 0;}#sk-container-id-1 div.sk-toggleable {background-color: white;}#sk-container-id-1 label.sk-toggleable__label {cursor: pointer;display: block;width: 100%;margin-bottom: 0;padding: 0.3em;box-sizing: border-box;text-align: center;}#sk-container-id-1 label.sk-toggleable__label-arrow:before {content: \"▸\";float: left;margin-right: 0.25em;color: #696969;}#sk-container-id-1 label.sk-toggleable__label-arrow:hover:before {color: black;}#sk-container-id-1 div.sk-estimator:hover label.sk-toggleable__label-arrow:before {color: black;}#sk-container-id-1 div.sk-toggleable__content {max-height: 0;max-width: 0;overflow: hidden;text-align: left;background-color: #f0f8ff;}#sk-container-id-1 div.sk-toggleable__content pre {margin: 0.2em;color: black;border-radius: 0.25em;background-color: #f0f8ff;}#sk-container-id-1 input.sk-toggleable__control:checked~div.sk-toggleable__content {max-height: 200px;max-width: 100%;overflow: auto;}#sk-container-id-1 input.sk-toggleable__control:checked~label.sk-toggleable__label-arrow:before {content: \"▾\";}#sk-container-id-1 div.sk-estimator input.sk-toggleable__control:checked~label.sk-toggleable__label {background-color: #d4ebff;}#sk-container-id-1 div.sk-label input.sk-toggleable__control:checked~label.sk-toggleable__label {background-color: #d4ebff;}#sk-container-id-1 input.sk-hidden--visually {border: 0;clip: rect(1px 1px 1px 1px);clip: rect(1px, 1px, 1px, 1px);height: 1px;margin: -1px;overflow: hidden;padding: 0;position: absolute;width: 1px;}#sk-container-id-1 div.sk-estimator {font-family: monospace;background-color: #f0f8ff;border: 1px dotted black;border-radius: 0.25em;box-sizing: border-box;margin-bottom: 0.5em;}#sk-container-id-1 div.sk-estimator:hover {background-color: #d4ebff;}#sk-container-id-1 div.sk-parallel-item::after {content: \"\";width: 100%;border-bottom: 1px solid gray;flex-grow: 1;}#sk-container-id-1 div.sk-label:hover label.sk-toggleable__label {background-color: #d4ebff;}#sk-container-id-1 div.sk-serial::before {content: \"\";position: absolute;border-left: 1px solid gray;box-sizing: border-box;top: 0;bottom: 0;left: 50%;z-index: 0;}#sk-container-id-1 div.sk-serial {display: flex;flex-direction: column;align-items: center;background-color: white;padding-right: 0.2em;padding-left: 0.2em;position: relative;}#sk-container-id-1 div.sk-item {position: relative;z-index: 1;}#sk-container-id-1 div.sk-parallel {display: flex;align-items: stretch;justify-content: center;background-color: white;position: relative;}#sk-container-id-1 div.sk-item::before, #sk-container-id-1 div.sk-parallel-item::before {content: \"\";position: absolute;border-left: 1px solid gray;box-sizing: border-box;top: 0;bottom: 0;left: 50%;z-index: -1;}#sk-container-id-1 div.sk-parallel-item {display: flex;flex-direction: column;z-index: 1;position: relative;background-color: white;}#sk-container-id-1 div.sk-parallel-item:first-child::after {align-self: flex-end;width: 50%;}#sk-container-id-1 div.sk-parallel-item:last-child::after {align-self: flex-start;width: 50%;}#sk-container-id-1 div.sk-parallel-item:only-child::after {width: 0;}#sk-container-id-1 div.sk-dashed-wrapped {border: 1px dashed gray;margin: 0 0.4em 0.5em 0.4em;box-sizing: border-box;padding-bottom: 0.4em;background-color: white;}#sk-container-id-1 div.sk-label label {font-family: monospace;font-weight: bold;display: inline-block;line-height: 1.2em;}#sk-container-id-1 div.sk-label-container {text-align: center;}#sk-container-id-1 div.sk-container {/* jupyter's `normalize.less` sets `[hidden] { display: none; }` but bootstrap.min.css set `[hidden] { display: none !important; }` so we also need the `!important` here to be able to override the default hidden behavior on the sphinx rendered scikit-learn.org. See: https://github.com/scikit-learn/scikit-learn/issues/21755 */display: inline-block !important;position: relative;}#sk-container-id-1 div.sk-text-repr-fallback {display: none;}</style><div id=\"sk-container-id-1\" class=\"sk-top-container\"><div class=\"sk-text-repr-fallback\"><pre>GridSearchCV(cv=3, estimator=MultinomialNB(), n_jobs=-1,\n",
              "             param_grid={&#x27;alpha&#x27;: [0.001, 0.01, 0.1, 1, 10, 100]},\n",
              "             return_train_score=True, scoring=&#x27;accuracy&#x27;, verbose=1)</pre><b>In a Jupyter environment, please rerun this cell to show the HTML representation or trust the notebook. <br />On GitHub, the HTML representation is unable to render, please try loading this page with nbviewer.org.</b></div><div class=\"sk-container\" hidden><div class=\"sk-item sk-dashed-wrapped\"><div class=\"sk-label-container\"><div class=\"sk-label sk-toggleable\"><input class=\"sk-toggleable__control sk-hidden--visually\" id=\"sk-estimator-id-1\" type=\"checkbox\" ><label for=\"sk-estimator-id-1\" class=\"sk-toggleable__label sk-toggleable__label-arrow\">GridSearchCV</label><div class=\"sk-toggleable__content\"><pre>GridSearchCV(cv=3, estimator=MultinomialNB(), n_jobs=-1,\n",
              "             param_grid={&#x27;alpha&#x27;: [0.001, 0.01, 0.1, 1, 10, 100]},\n",
              "             return_train_score=True, scoring=&#x27;accuracy&#x27;, verbose=1)</pre></div></div></div><div class=\"sk-parallel\"><div class=\"sk-parallel-item\"><div class=\"sk-item\"><div class=\"sk-label-container\"><div class=\"sk-label sk-toggleable\"><input class=\"sk-toggleable__control sk-hidden--visually\" id=\"sk-estimator-id-2\" type=\"checkbox\" ><label for=\"sk-estimator-id-2\" class=\"sk-toggleable__label sk-toggleable__label-arrow\">estimator: MultinomialNB</label><div class=\"sk-toggleable__content\"><pre>MultinomialNB()</pre></div></div></div><div class=\"sk-serial\"><div class=\"sk-item\"><div class=\"sk-estimator sk-toggleable\"><input class=\"sk-toggleable__control sk-hidden--visually\" id=\"sk-estimator-id-3\" type=\"checkbox\" ><label for=\"sk-estimator-id-3\" class=\"sk-toggleable__label sk-toggleable__label-arrow\">MultinomialNB</label><div class=\"sk-toggleable__content\"><pre>MultinomialNB()</pre></div></div></div></div></div></div></div></div></div></div>"
            ]
          },
          "metadata": {},
          "execution_count": 32
        }
      ]
    },
    {
      "cell_type": "code",
      "source": [
        "results=model_cv.cv_results_\n",
        "results=pd.DataFrame(results)\n",
        "results"
      ],
      "metadata": {
        "colab": {
          "base_uri": "https://localhost:8080/",
          "height": 406
        },
        "id": "hZmRy3ElOpjN",
        "outputId": "cd1cab25-02a6-4f6b-e283-55c0b5f72f28"
      },
      "execution_count": null,
      "outputs": [
        {
          "output_type": "execute_result",
          "data": {
            "text/plain": [
              "   mean_fit_time  std_fit_time  mean_score_time  std_score_time param_alpha  \\\n",
              "0       0.014474      0.008069         0.002032        0.000266       0.001   \n",
              "1       0.006141      0.002433         0.002163        0.000984        0.01   \n",
              "2       0.018217      0.010416         0.003340        0.002217         0.1   \n",
              "3       0.004467      0.000124         0.001998        0.000871           1   \n",
              "4       0.007053      0.002654         0.005268        0.005242          10   \n",
              "5       0.006656      0.001474         0.004371        0.001941         100   \n",
              "\n",
              "             params  split0_test_score  split1_test_score  split2_test_score  \\\n",
              "0  {'alpha': 0.001}           0.977793           0.973755           0.969697   \n",
              "1   {'alpha': 0.01}           0.975774           0.973755           0.971717   \n",
              "2    {'alpha': 0.1}           0.974428           0.971063           0.972391   \n",
              "3      {'alpha': 1}           0.979139           0.981157           0.974411   \n",
              "4     {'alpha': 10}           0.966353           0.970390           0.962290   \n",
              "5    {'alpha': 100}           0.893674           0.892328           0.897643   \n",
              "\n",
              "   mean_test_score  std_test_score  rank_test_score  split0_train_score  \\\n",
              "0         0.973748        0.003305                3            0.996298   \n",
              "1         0.973749        0.001656                2            0.996298   \n",
              "2         0.972627        0.001384                4            0.996298   \n",
              "3         0.978236        0.002827                1            0.994615   \n",
              "4         0.966344        0.003307                5            0.971727   \n",
              "5         0.894549        0.002256                6            0.898014   \n",
              "\n",
              "   split1_train_score  split2_train_score  mean_train_score  std_train_score  \n",
              "0            0.995961            0.996972          0.996410         0.000420  \n",
              "1            0.995961            0.996635          0.996298         0.000275  \n",
              "2            0.995624            0.996972          0.996298         0.000550  \n",
              "3            0.994615            0.995962          0.995064         0.000635  \n",
              "4            0.973410            0.976110          0.973749         0.001806  \n",
              "5            0.899024            0.901077          0.899372         0.001274  "
            ],
            "text/html": [
              "\n",
              "\n",
              "  <div id=\"df-b7a226ae-f063-463c-9bad-15617119d496\">\n",
              "    <div class=\"colab-df-container\">\n",
              "      <div>\n",
              "<style scoped>\n",
              "    .dataframe tbody tr th:only-of-type {\n",
              "        vertical-align: middle;\n",
              "    }\n",
              "\n",
              "    .dataframe tbody tr th {\n",
              "        vertical-align: top;\n",
              "    }\n",
              "\n",
              "    .dataframe thead th {\n",
              "        text-align: right;\n",
              "    }\n",
              "</style>\n",
              "<table border=\"1\" class=\"dataframe\">\n",
              "  <thead>\n",
              "    <tr style=\"text-align: right;\">\n",
              "      <th></th>\n",
              "      <th>mean_fit_time</th>\n",
              "      <th>std_fit_time</th>\n",
              "      <th>mean_score_time</th>\n",
              "      <th>std_score_time</th>\n",
              "      <th>param_alpha</th>\n",
              "      <th>params</th>\n",
              "      <th>split0_test_score</th>\n",
              "      <th>split1_test_score</th>\n",
              "      <th>split2_test_score</th>\n",
              "      <th>mean_test_score</th>\n",
              "      <th>std_test_score</th>\n",
              "      <th>rank_test_score</th>\n",
              "      <th>split0_train_score</th>\n",
              "      <th>split1_train_score</th>\n",
              "      <th>split2_train_score</th>\n",
              "      <th>mean_train_score</th>\n",
              "      <th>std_train_score</th>\n",
              "    </tr>\n",
              "  </thead>\n",
              "  <tbody>\n",
              "    <tr>\n",
              "      <th>0</th>\n",
              "      <td>0.014474</td>\n",
              "      <td>0.008069</td>\n",
              "      <td>0.002032</td>\n",
              "      <td>0.000266</td>\n",
              "      <td>0.001</td>\n",
              "      <td>{'alpha': 0.001}</td>\n",
              "      <td>0.977793</td>\n",
              "      <td>0.973755</td>\n",
              "      <td>0.969697</td>\n",
              "      <td>0.973748</td>\n",
              "      <td>0.003305</td>\n",
              "      <td>3</td>\n",
              "      <td>0.996298</td>\n",
              "      <td>0.995961</td>\n",
              "      <td>0.996972</td>\n",
              "      <td>0.996410</td>\n",
              "      <td>0.000420</td>\n",
              "    </tr>\n",
              "    <tr>\n",
              "      <th>1</th>\n",
              "      <td>0.006141</td>\n",
              "      <td>0.002433</td>\n",
              "      <td>0.002163</td>\n",
              "      <td>0.000984</td>\n",
              "      <td>0.01</td>\n",
              "      <td>{'alpha': 0.01}</td>\n",
              "      <td>0.975774</td>\n",
              "      <td>0.973755</td>\n",
              "      <td>0.971717</td>\n",
              "      <td>0.973749</td>\n",
              "      <td>0.001656</td>\n",
              "      <td>2</td>\n",
              "      <td>0.996298</td>\n",
              "      <td>0.995961</td>\n",
              "      <td>0.996635</td>\n",
              "      <td>0.996298</td>\n",
              "      <td>0.000275</td>\n",
              "    </tr>\n",
              "    <tr>\n",
              "      <th>2</th>\n",
              "      <td>0.018217</td>\n",
              "      <td>0.010416</td>\n",
              "      <td>0.003340</td>\n",
              "      <td>0.002217</td>\n",
              "      <td>0.1</td>\n",
              "      <td>{'alpha': 0.1}</td>\n",
              "      <td>0.974428</td>\n",
              "      <td>0.971063</td>\n",
              "      <td>0.972391</td>\n",
              "      <td>0.972627</td>\n",
              "      <td>0.001384</td>\n",
              "      <td>4</td>\n",
              "      <td>0.996298</td>\n",
              "      <td>0.995624</td>\n",
              "      <td>0.996972</td>\n",
              "      <td>0.996298</td>\n",
              "      <td>0.000550</td>\n",
              "    </tr>\n",
              "    <tr>\n",
              "      <th>3</th>\n",
              "      <td>0.004467</td>\n",
              "      <td>0.000124</td>\n",
              "      <td>0.001998</td>\n",
              "      <td>0.000871</td>\n",
              "      <td>1</td>\n",
              "      <td>{'alpha': 1}</td>\n",
              "      <td>0.979139</td>\n",
              "      <td>0.981157</td>\n",
              "      <td>0.974411</td>\n",
              "      <td>0.978236</td>\n",
              "      <td>0.002827</td>\n",
              "      <td>1</td>\n",
              "      <td>0.994615</td>\n",
              "      <td>0.994615</td>\n",
              "      <td>0.995962</td>\n",
              "      <td>0.995064</td>\n",
              "      <td>0.000635</td>\n",
              "    </tr>\n",
              "    <tr>\n",
              "      <th>4</th>\n",
              "      <td>0.007053</td>\n",
              "      <td>0.002654</td>\n",
              "      <td>0.005268</td>\n",
              "      <td>0.005242</td>\n",
              "      <td>10</td>\n",
              "      <td>{'alpha': 10}</td>\n",
              "      <td>0.966353</td>\n",
              "      <td>0.970390</td>\n",
              "      <td>0.962290</td>\n",
              "      <td>0.966344</td>\n",
              "      <td>0.003307</td>\n",
              "      <td>5</td>\n",
              "      <td>0.971727</td>\n",
              "      <td>0.973410</td>\n",
              "      <td>0.976110</td>\n",
              "      <td>0.973749</td>\n",
              "      <td>0.001806</td>\n",
              "    </tr>\n",
              "    <tr>\n",
              "      <th>5</th>\n",
              "      <td>0.006656</td>\n",
              "      <td>0.001474</td>\n",
              "      <td>0.004371</td>\n",
              "      <td>0.001941</td>\n",
              "      <td>100</td>\n",
              "      <td>{'alpha': 100}</td>\n",
              "      <td>0.893674</td>\n",
              "      <td>0.892328</td>\n",
              "      <td>0.897643</td>\n",
              "      <td>0.894549</td>\n",
              "      <td>0.002256</td>\n",
              "      <td>6</td>\n",
              "      <td>0.898014</td>\n",
              "      <td>0.899024</td>\n",
              "      <td>0.901077</td>\n",
              "      <td>0.899372</td>\n",
              "      <td>0.001274</td>\n",
              "    </tr>\n",
              "  </tbody>\n",
              "</table>\n",
              "</div>\n",
              "      <button class=\"colab-df-convert\" onclick=\"convertToInteractive('df-b7a226ae-f063-463c-9bad-15617119d496')\"\n",
              "              title=\"Convert this dataframe to an interactive table.\"\n",
              "              style=\"display:none;\">\n",
              "\n",
              "  <svg xmlns=\"http://www.w3.org/2000/svg\" height=\"24px\"viewBox=\"0 0 24 24\"\n",
              "       width=\"24px\">\n",
              "    <path d=\"M0 0h24v24H0V0z\" fill=\"none\"/>\n",
              "    <path d=\"M18.56 5.44l.94 2.06.94-2.06 2.06-.94-2.06-.94-.94-2.06-.94 2.06-2.06.94zm-11 1L8.5 8.5l.94-2.06 2.06-.94-2.06-.94L8.5 2.5l-.94 2.06-2.06.94zm10 10l.94 2.06.94-2.06 2.06-.94-2.06-.94-.94-2.06-.94 2.06-2.06.94z\"/><path d=\"M17.41 7.96l-1.37-1.37c-.4-.4-.92-.59-1.43-.59-.52 0-1.04.2-1.43.59L10.3 9.45l-7.72 7.72c-.78.78-.78 2.05 0 2.83L4 21.41c.39.39.9.59 1.41.59.51 0 1.02-.2 1.41-.59l7.78-7.78 2.81-2.81c.8-.78.8-2.07 0-2.86zM5.41 20L4 18.59l7.72-7.72 1.47 1.35L5.41 20z\"/>\n",
              "  </svg>\n",
              "      </button>\n",
              "\n",
              "\n",
              "\n",
              "    <div id=\"df-087db417-7c29-458b-863c-292802d461de\">\n",
              "      <button class=\"colab-df-quickchart\" onclick=\"quickchart('df-087db417-7c29-458b-863c-292802d461de')\"\n",
              "              title=\"Suggest charts.\"\n",
              "              style=\"display:none;\">\n",
              "\n",
              "<svg xmlns=\"http://www.w3.org/2000/svg\" height=\"24px\"viewBox=\"0 0 24 24\"\n",
              "     width=\"24px\">\n",
              "    <g>\n",
              "        <path d=\"M19 3H5c-1.1 0-2 .9-2 2v14c0 1.1.9 2 2 2h14c1.1 0 2-.9 2-2V5c0-1.1-.9-2-2-2zM9 17H7v-7h2v7zm4 0h-2V7h2v10zm4 0h-2v-4h2v4z\"/>\n",
              "    </g>\n",
              "</svg>\n",
              "      </button>\n",
              "    </div>\n",
              "\n",
              "<style>\n",
              "  .colab-df-quickchart {\n",
              "    background-color: #E8F0FE;\n",
              "    border: none;\n",
              "    border-radius: 50%;\n",
              "    cursor: pointer;\n",
              "    display: none;\n",
              "    fill: #1967D2;\n",
              "    height: 32px;\n",
              "    padding: 0 0 0 0;\n",
              "    width: 32px;\n",
              "  }\n",
              "\n",
              "  .colab-df-quickchart:hover {\n",
              "    background-color: #E2EBFA;\n",
              "    box-shadow: 0px 1px 2px rgba(60, 64, 67, 0.3), 0px 1px 3px 1px rgba(60, 64, 67, 0.15);\n",
              "    fill: #174EA6;\n",
              "  }\n",
              "\n",
              "  [theme=dark] .colab-df-quickchart {\n",
              "    background-color: #3B4455;\n",
              "    fill: #D2E3FC;\n",
              "  }\n",
              "\n",
              "  [theme=dark] .colab-df-quickchart:hover {\n",
              "    background-color: #434B5C;\n",
              "    box-shadow: 0px 1px 3px 1px rgba(0, 0, 0, 0.15);\n",
              "    filter: drop-shadow(0px 1px 2px rgba(0, 0, 0, 0.3));\n",
              "    fill: #FFFFFF;\n",
              "  }\n",
              "</style>\n",
              "\n",
              "    <script>\n",
              "      async function quickchart(key) {\n",
              "        const containerElement = document.querySelector('#' + key);\n",
              "        const charts = await google.colab.kernel.invokeFunction(\n",
              "            'suggestCharts', [key], {});\n",
              "      }\n",
              "    </script>\n",
              "\n",
              "      <script>\n",
              "\n",
              "function displayQuickchartButton(domScope) {\n",
              "  let quickchartButtonEl =\n",
              "    domScope.querySelector('#df-087db417-7c29-458b-863c-292802d461de button.colab-df-quickchart');\n",
              "  quickchartButtonEl.style.display =\n",
              "    google.colab.kernel.accessAllowed ? 'block' : 'none';\n",
              "}\n",
              "\n",
              "        displayQuickchartButton(document);\n",
              "      </script>\n",
              "      <style>\n",
              "    .colab-df-container {\n",
              "      display:flex;\n",
              "      flex-wrap:wrap;\n",
              "      gap: 12px;\n",
              "    }\n",
              "\n",
              "    .colab-df-convert {\n",
              "      background-color: #E8F0FE;\n",
              "      border: none;\n",
              "      border-radius: 50%;\n",
              "      cursor: pointer;\n",
              "      display: none;\n",
              "      fill: #1967D2;\n",
              "      height: 32px;\n",
              "      padding: 0 0 0 0;\n",
              "      width: 32px;\n",
              "    }\n",
              "\n",
              "    .colab-df-convert:hover {\n",
              "      background-color: #E2EBFA;\n",
              "      box-shadow: 0px 1px 2px rgba(60, 64, 67, 0.3), 0px 1px 3px 1px rgba(60, 64, 67, 0.15);\n",
              "      fill: #174EA6;\n",
              "    }\n",
              "\n",
              "    [theme=dark] .colab-df-convert {\n",
              "      background-color: #3B4455;\n",
              "      fill: #D2E3FC;\n",
              "    }\n",
              "\n",
              "    [theme=dark] .colab-df-convert:hover {\n",
              "      background-color: #434B5C;\n",
              "      box-shadow: 0px 1px 3px 1px rgba(0, 0, 0, 0.15);\n",
              "      filter: drop-shadow(0px 1px 2px rgba(0, 0, 0, 0.3));\n",
              "      fill: #FFFFFF;\n",
              "    }\n",
              "  </style>\n",
              "\n",
              "      <script>\n",
              "        const buttonEl =\n",
              "          document.querySelector('#df-b7a226ae-f063-463c-9bad-15617119d496 button.colab-df-convert');\n",
              "        buttonEl.style.display =\n",
              "          google.colab.kernel.accessAllowed ? 'block' : 'none';\n",
              "\n",
              "        async function convertToInteractive(key) {\n",
              "          const element = document.querySelector('#df-b7a226ae-f063-463c-9bad-15617119d496');\n",
              "          const dataTable =\n",
              "            await google.colab.kernel.invokeFunction('convertToInteractive',\n",
              "                                                     [key], {});\n",
              "          if (!dataTable) return;\n",
              "\n",
              "          const docLinkHtml = 'Like what you see? Visit the ' +\n",
              "            '<a target=\"_blank\" href=https://colab.research.google.com/notebooks/data_table.ipynb>data table notebook</a>'\n",
              "            + ' to learn more about interactive tables.';\n",
              "          element.innerHTML = '';\n",
              "          dataTable['output_type'] = 'display_data';\n",
              "          await google.colab.output.renderOutput(dataTable, element);\n",
              "          const docLink = document.createElement('div');\n",
              "          docLink.innerHTML = docLinkHtml;\n",
              "          element.appendChild(docLink);\n",
              "        }\n",
              "      </script>\n",
              "    </div>\n",
              "  </div>\n"
            ]
          },
          "metadata": {},
          "execution_count": 33
        }
      ]
    },
    {
      "cell_type": "code",
      "source": [
        "sns.lineplot(x=results['param_alpha'],y=results['mean_train_score'])\n",
        "sns.lineplot(x=results['param_alpha'],y=results['mean_test_score'])"
      ],
      "metadata": {
        "colab": {
          "base_uri": "https://localhost:8080/",
          "height": 467
        },
        "id": "szuiM8CbPLrq",
        "outputId": "098b6b25-e03b-4a77-d550-6bdc76f92292"
      },
      "execution_count": null,
      "outputs": [
        {
          "output_type": "execute_result",
          "data": {
            "text/plain": [
              "<Axes: xlabel='param_alpha', ylabel='mean_train_score'>"
            ]
          },
          "metadata": {},
          "execution_count": 34
        },
        {
          "output_type": "display_data",
          "data": {
            "text/plain": [
              "<Figure size 640x480 with 1 Axes>"
            ],
            "image/png": "[encoded data removed]"
          },
          "metadata": {}
        }
      ]
    },
    {
      "cell_type": "code",
      "source": [
        "model_cv.best_score_"
      ],
      "metadata": {
        "colab": {
          "base_uri": "https://localhost:8080/"
        },
        "id": "lCloYUNJT6AV",
        "outputId": "ca748ec6-72d8-41c6-cb0a-13b7694beee1"
      },
      "execution_count": null,
      "outputs": [
        {
          "output_type": "execute_result",
          "data": {
            "text/plain": [
              "0.9782356237717386"
            ]
          },
          "metadata": {},
          "execution_count": 35
        }
      ]
    },
    {
      "cell_type": "code",
      "source": [
        "model_cv.best_params_"
      ],
      "metadata": {
        "colab": {
          "base_uri": "https://localhost:8080/"
        },
        "id": "OamZBca0UMF_",
        "outputId": "cde6d21f-19cc-43f7-ab8b-53ae1e5a9ee6"
      },
      "execution_count": null,
      "outputs": [
        {
          "output_type": "execute_result",
          "data": {
            "text/plain": [
              "{'alpha': 1}"
            ]
          },
          "metadata": {},
          "execution_count": 36
        }
      ]
    },
    {
      "cell_type": "code",
      "source": [
        "mnb=MultinomialNB(alpha=1)\n",
        "mnb.fit(X_train,Y_train)"
      ],
      "metadata": {
        "colab": {
          "base_uri": "https://localhost:8080/",
          "height": 75
        },
        "id": "9Kf8JxIUUSrD",
        "outputId": "658542c8-6017-4e7d-d616-b8f73d0f8aac"
      },
      "execution_count": null,
      "outputs": [
        {
          "output_type": "execute_result",
          "data": {
            "text/plain": [
              "MultinomialNB(alpha=1)"
            ],
            "text/html": [
              "<style>#sk-container-id-2 {color: black;background-color: white;}#sk-container-id-2 pre{padding: 0;}#sk-container-id-2 div.sk-toggleable {background-color: white;}#sk-container-id-2 label.sk-toggleable__label {cursor: pointer;display: block;width: 100%;margin-bottom: 0;padding: 0.3em;box-sizing: border-box;text-align: center;}#sk-container-id-2 label.sk-toggleable__label-arrow:before {content: \"▸\";float: left;margin-right: 0.25em;color: #696969;}#sk-container-id-2 label.sk-toggleable__label-arrow:hover:before {color: black;}#sk-container-id-2 div.sk-estimator:hover label.sk-toggleable__label-arrow:before {color: black;}#sk-container-id-2 div.sk-toggleable__content {max-height: 0;max-width: 0;overflow: hidden;text-align: left;background-color: #f0f8ff;}#sk-container-id-2 div.sk-toggleable__content pre {margin: 0.2em;color: black;border-radius: 0.25em;background-color: #f0f8ff;}#sk-container-id-2 input.sk-toggleable__control:checked~div.sk-toggleable__content {max-height: 200px;max-width: 100%;overflow: auto;}#sk-container-id-2 input.sk-toggleable__control:checked~label.sk-toggleable__label-arrow:before {content: \"▾\";}#sk-container-id-2 div.sk-estimator input.sk-toggleable__control:checked~label.sk-toggleable__label {background-color: #d4ebff;}#sk-container-id-2 div.sk-label input.sk-toggleable__control:checked~label.sk-toggleable__label {background-color: #d4ebff;}#sk-container-id-2 input.sk-hidden--visually {border: 0;clip: rect(1px 1px 1px 1px);clip: rect(1px, 1px, 1px, 1px);height: 1px;margin: -1px;overflow: hidden;padding: 0;position: absolute;width: 1px;}#sk-container-id-2 div.sk-estimator {font-family: monospace;background-color: #f0f8ff;border: 1px dotted black;border-radius: 0.25em;box-sizing: border-box;margin-bottom: 0.5em;}#sk-container-id-2 div.sk-estimator:hover {background-color: #d4ebff;}#sk-container-id-2 div.sk-parallel-item::after {content: \"\";width: 100%;border-bottom: 1px solid gray;flex-grow: 1;}#sk-container-id-2 div.sk-label:hover label.sk-toggleable__label {background-color: #d4ebff;}#sk-container-id-2 div.sk-serial::before {content: \"\";position: absolute;border-left: 1px solid gray;box-sizing: border-box;top: 0;bottom: 0;left: 50%;z-index: 0;}#sk-container-id-2 div.sk-serial {display: flex;flex-direction: column;align-items: center;background-color: white;padding-right: 0.2em;padding-left: 0.2em;position: relative;}#sk-container-id-2 div.sk-item {position: relative;z-index: 1;}#sk-container-id-2 div.sk-parallel {display: flex;align-items: stretch;justify-content: center;background-color: white;position: relative;}#sk-container-id-2 div.sk-item::before, #sk-container-id-2 div.sk-parallel-item::before {content: \"\";position: absolute;border-left: 1px solid gray;box-sizing: border-box;top: 0;bottom: 0;left: 50%;z-index: -1;}#sk-container-id-2 div.sk-parallel-item {display: flex;flex-direction: column;z-index: 1;position: relative;background-color: white;}#sk-container-id-2 div.sk-parallel-item:first-child::after {align-self: flex-end;width: 50%;}#sk-container-id-2 div.sk-parallel-item:last-child::after {align-self: flex-start;width: 50%;}#sk-container-id-2 div.sk-parallel-item:only-child::after {width: 0;}#sk-container-id-2 div.sk-dashed-wrapped {border: 1px dashed gray;margin: 0 0.4em 0.5em 0.4em;box-sizing: border-box;padding-bottom: 0.4em;background-color: white;}#sk-container-id-2 div.sk-label label {font-family: monospace;font-weight: bold;display: inline-block;line-height: 1.2em;}#sk-container-id-2 div.sk-label-container {text-align: center;}#sk-container-id-2 div.sk-container {/* jupyter's `normalize.less` sets `[hidden] { display: none; }` but bootstrap.min.css set `[hidden] { display: none !important; }` so we also need the `!important` here to be able to override the default hidden behavior on the sphinx rendered scikit-learn.org. See: https://github.com/scikit-learn/scikit-learn/issues/21755 */display: inline-block !important;position: relative;}#sk-container-id-2 div.sk-text-repr-fallback {display: none;}</style><div id=\"sk-container-id-2\" class=\"sk-top-container\"><div class=\"sk-text-repr-fallback\"><pre>MultinomialNB(alpha=1)</pre><b>In a Jupyter environment, please rerun this cell to show the HTML representation or trust the notebook. <br />On GitHub, the HTML representation is unable to render, please try loading this page with nbviewer.org.</b></div><div class=\"sk-container\" hidden><div class=\"sk-item\"><div class=\"sk-estimator sk-toggleable\"><input class=\"sk-toggleable__control sk-hidden--visually\" id=\"sk-estimator-id-4\" type=\"checkbox\" checked><label for=\"sk-estimator-id-4\" class=\"sk-toggleable__label sk-toggleable__label-arrow\">MultinomialNB</label><div class=\"sk-toggleable__content\"><pre>MultinomialNB(alpha=1)</pre></div></div></div></div></div>"
            ]
          },
          "metadata": {},
          "execution_count": 37
        }
      ]
    },
    {
      "cell_type": "code",
      "source": [
        "mnb.score(X_test,Y_test)"
      ],
      "metadata": {
        "colab": {
          "base_uri": "https://localhost:8080/"
        },
        "id": "gHtc5zLfUkmz",
        "outputId": "11f4b706-2d44-4771-b22f-0ef45b6df219"
      },
      "execution_count": null,
      "outputs": [
        {
          "output_type": "execute_result",
          "data": {
            "text/plain": [
              "0.9775784753363229"
            ]
          },
          "metadata": {},
          "execution_count": 38
        }
      ]
    },
    {
      "cell_type": "code",
      "source": [
        "from imblearn.over_sampling import SMOTE"
      ],
      "metadata": {
        "id": "eyV3BvmdUnSf"
      },
      "execution_count": null,
      "outputs": []
    },
    {
      "cell_type": "code",
      "source": [
        "sm=SMOTE()\n",
        "X_res,Y_res=sm.fit_resample(X,Y)"
      ],
      "metadata": {
        "id": "-VWSPKDVFcnk"
      },
      "execution_count": null,
      "outputs": []
    },
    {
      "cell_type": "code",
      "source": [
        "Y_res.value_counts()"
      ],
      "metadata": {
        "colab": {
          "base_uri": "https://localhost:8080/"
        },
        "id": "8GxmDOz1F78d",
        "outputId": "fc0d926a-4440-4b25-894f-c0d2508af4b0"
      },
      "execution_count": null,
      "outputs": [
        {
          "output_type": "execute_result",
          "data": {
            "text/plain": [
              "0    4825\n",
              "1    4825\n",
              "Name: type, dtype: int64"
            ]
          },
          "metadata": {},
          "execution_count": 42
        }
      ]
    },
    {
      "cell_type": "code",
      "source": [
        "X_res.shape"
      ],
      "metadata": {
        "colab": {
          "base_uri": "https://localhost:8080/"
        },
        "id": "39Y_yRvsGA7s",
        "outputId": "8fa5d717-91d4-4e58-dcd3-66af43aebbd1"
      },
      "execution_count": null,
      "outputs": [
        {
          "output_type": "execute_result",
          "data": {
            "text/plain": [
              "(9650, 8952)"
            ]
          },
          "metadata": {},
          "execution_count": 43
        }
      ]
    },
    {
      "cell_type": "code",
      "source": [
        "mnb=MultinomialNB(alpha=1)"
      ],
      "metadata": {
        "id": "d1UZZ0jSGT_N"
      },
      "execution_count": null,
      "outputs": []
    },
    {
      "cell_type": "code",
      "source": [
        "X_train,X_test,Y_train,Y_test=train_test_split(X_res,Y_res)"
      ],
      "metadata": {
        "id": "nD5iyAnhGoIr"
      },
      "execution_count": null,
      "outputs": []
    },
    {
      "cell_type": "code",
      "source": [
        "params={'alpha':[0.0001,0.001,0.01,0.1,1,10,100,1000]}\n",
        "model_cv=GridSearchCV(mnb,param_grid=params,scoring='accuracy',cv=5,n_jobs=-1,return_train_score=True,verbose=1)\n",
        "model_cv.fit(X_train,Y_train)"
      ],
      "metadata": {
        "colab": {
          "base_uri": "https://localhost:8080/",
          "height": 135
        },
        "id": "A1MQHfhUG_Dv",
        "outputId": "5ac69824-28a3-4958-e3e5-3555f559314d"
      },
      "execution_count": null,
      "outputs": [
        {
          "output_type": "stream",
          "name": "stdout",
          "text": [
            "Fitting 5 folds for each of 8 candidates, totalling 40 fits\n"
          ]
        },
        {
          "output_type": "execute_result",
          "data": {
            "text/plain": [
              "GridSearchCV(cv=5, estimator=MultinomialNB(alpha=1), n_jobs=-1,\n",
              "             param_grid={'alpha': [0.0001, 0.001, 0.01, 0.1, 1, 10, 100, 1000]},\n",
              "             return_train_score=True, scoring='accuracy', verbose=1)"
            ],
            "text/html": [
              "<style>#sk-container-id-6 {color: black;background-color: white;}#sk-container-id-6 pre{padding: 0;}#sk-container-id-6 div.sk-toggleable {background-color: white;}#sk-container-id-6 label.sk-toggleable__label {cursor: pointer;display: block;width: 100%;margin-bottom: 0;padding: 0.3em;box-sizing: border-box;text-align: center;}#sk-container-id-6 label.sk-toggleable__label-arrow:before {content: \"▸\";float: left;margin-right: 0.25em;color: #696969;}#sk-container-id-6 label.sk-toggleable__label-arrow:hover:before {color: black;}#sk-container-id-6 div.sk-estimator:hover label.sk-toggleable__label-arrow:before {color: black;}#sk-container-id-6 div.sk-toggleable__content {max-height: 0;max-width: 0;overflow: hidden;text-align: left;background-color: #f0f8ff;}#sk-container-id-6 div.sk-toggleable__content pre {margin: 0.2em;color: black;border-radius: 0.25em;background-color: #f0f8ff;}#sk-container-id-6 input.sk-toggleable__control:checked~div.sk-toggleable__content {max-height: 200px;max-width: 100%;overflow: auto;}#sk-container-id-6 input.sk-toggleable__control:checked~label.sk-toggleable__label-arrow:before {content: \"▾\";}#sk-container-id-6 div.sk-estimator input.sk-toggleable__control:checked~label.sk-toggleable__label {background-color: #d4ebff;}#sk-container-id-6 div.sk-label input.sk-toggleable__control:checked~label.sk-toggleable__label {background-color: #d4ebff;}#sk-container-id-6 input.sk-hidden--visually {border: 0;clip: rect(1px 1px 1px 1px);clip: rect(1px, 1px, 1px, 1px);height: 1px;margin: -1px;overflow: hidden;padding: 0;position: absolute;width: 1px;}#sk-container-id-6 div.sk-estimator {font-family: monospace;background-color: #f0f8ff;border: 1px dotted black;border-radius: 0.25em;box-sizing: border-box;margin-bottom: 0.5em;}#sk-container-id-6 div.sk-estimator:hover {background-color: #d4ebff;}#sk-container-id-6 div.sk-parallel-item::after {content: \"\";width: 100%;border-bottom: 1px solid gray;flex-grow: 1;}#sk-container-id-6 div.sk-label:hover label.sk-toggleable__label {background-color: #d4ebff;}#sk-container-id-6 div.sk-serial::before {content: \"\";position: absolute;border-left: 1px solid gray;box-sizing: border-box;top: 0;bottom: 0;left: 50%;z-index: 0;}#sk-container-id-6 div.sk-serial {display: flex;flex-direction: column;align-items: center;background-color: white;padding-right: 0.2em;padding-left: 0.2em;position: relative;}#sk-container-id-6 div.sk-item {position: relative;z-index: 1;}#sk-container-id-6 div.sk-parallel {display: flex;align-items: stretch;justify-content: center;background-color: white;position: relative;}#sk-container-id-6 div.sk-item::before, #sk-container-id-6 div.sk-parallel-item::before {content: \"\";position: absolute;border-left: 1px solid gray;box-sizing: border-box;top: 0;bottom: 0;left: 50%;z-index: -1;}#sk-container-id-6 div.sk-parallel-item {display: flex;flex-direction: column;z-index: 1;position: relative;background-color: white;}#sk-container-id-6 div.sk-parallel-item:first-child::after {align-self: flex-end;width: 50%;}#sk-container-id-6 div.sk-parallel-item:last-child::after {align-self: flex-start;width: 50%;}#sk-container-id-6 div.sk-parallel-item:only-child::after {width: 0;}#sk-container-id-6 div.sk-dashed-wrapped {border: 1px dashed gray;margin: 0 0.4em 0.5em 0.4em;box-sizing: border-box;padding-bottom: 0.4em;background-color: white;}#sk-container-id-6 div.sk-label label {font-family: monospace;font-weight: bold;display: inline-block;line-height: 1.2em;}#sk-container-id-6 div.sk-label-container {text-align: center;}#sk-container-id-6 div.sk-container {/* jupyter's `normalize.less` sets `[hidden] { display: none; }` but bootstrap.min.css set `[hidden] { display: none !important; }` so we also need the `!important` here to be able to override the default hidden behavior on the sphinx rendered scikit-learn.org. See: https://github.com/scikit-learn/scikit-learn/issues/21755 */display: inline-block !important;position: relative;}#sk-container-id-6 div.sk-text-repr-fallback {display: none;}</style><div id=\"sk-container-id-6\" class=\"sk-top-container\"><div class=\"sk-text-repr-fallback\"><pre>GridSearchCV(cv=5, estimator=MultinomialNB(alpha=1), n_jobs=-1,\n",
              "             param_grid={&#x27;alpha&#x27;: [0.0001, 0.001, 0.01, 0.1, 1, 10, 100, 1000]},\n",
              "             return_train_score=True, scoring=&#x27;accuracy&#x27;, verbose=1)</pre><b>In a Jupyter environment, please rerun this cell to show the HTML representation or trust the notebook. <br />On GitHub, the HTML representation is unable to render, please try loading this page with nbviewer.org.</b></div><div class=\"sk-container\" hidden><div class=\"sk-item sk-dashed-wrapped\"><div class=\"sk-label-container\"><div class=\"sk-label sk-toggleable\"><input class=\"sk-toggleable__control sk-hidden--visually\" id=\"sk-estimator-id-12\" type=\"checkbox\" ><label for=\"sk-estimator-id-12\" class=\"sk-toggleable__label sk-toggleable__label-arrow\">GridSearchCV</label><div class=\"sk-toggleable__content\"><pre>GridSearchCV(cv=5, estimator=MultinomialNB(alpha=1), n_jobs=-1,\n",
              "             param_grid={&#x27;alpha&#x27;: [0.0001, 0.001, 0.01, 0.1, 1, 10, 100, 1000]},\n",
              "             return_train_score=True, scoring=&#x27;accuracy&#x27;, verbose=1)</pre></div></div></div><div class=\"sk-parallel\"><div class=\"sk-parallel-item\"><div class=\"sk-item\"><div class=\"sk-label-container\"><div class=\"sk-label sk-toggleable\"><input class=\"sk-toggleable__control sk-hidden--visually\" id=\"sk-estimator-id-13\" type=\"checkbox\" ><label for=\"sk-estimator-id-13\" class=\"sk-toggleable__label sk-toggleable__label-arrow\">estimator: MultinomialNB</label><div class=\"sk-toggleable__content\"><pre>MultinomialNB(alpha=1)</pre></div></div></div><div class=\"sk-serial\"><div class=\"sk-item\"><div class=\"sk-estimator sk-toggleable\"><input class=\"sk-toggleable__control sk-hidden--visually\" id=\"sk-estimator-id-14\" type=\"checkbox\" ><label for=\"sk-estimator-id-14\" class=\"sk-toggleable__label sk-toggleable__label-arrow\">MultinomialNB</label><div class=\"sk-toggleable__content\"><pre>MultinomialNB(alpha=1)</pre></div></div></div></div></div></div></div></div></div></div>"
            ]
          },
          "metadata": {},
          "execution_count": 57
        }
      ]
    },
    {
      "cell_type": "code",
      "source": [
        "results=pd.DataFrame(model_cv.cv_results_)\n",
        "results"
      ],
      "metadata": {
        "colab": {
          "base_uri": "https://localhost:8080/",
          "height": 532
        },
        "id": "u-1JDA1LHIP3",
        "outputId": "1bc5f37c-c43a-4222-e063-7c4a6fc37e3f"
      },
      "execution_count": null,
      "outputs": [
        {
          "output_type": "execute_result",
          "data": {
            "text/plain": [
              "   mean_fit_time  std_fit_time  mean_score_time  std_score_time param_alpha  \\\n",
              "0       0.009364      0.001881         0.002115        0.000276      0.0001   \n",
              "1       0.007045      0.000980         0.002072        0.000719       0.001   \n",
              "2       0.006647      0.000605         0.001731        0.000090        0.01   \n",
              "3       0.006397      0.000396         0.001831        0.000265         0.1   \n",
              "4       0.008164      0.003004         0.001761        0.000162           1   \n",
              "5       0.006828      0.000947         0.001880        0.000217          10   \n",
              "6       0.008730      0.002093         0.002365        0.001031         100   \n",
              "7       0.009805      0.006064         0.002928        0.001953        1000   \n",
              "\n",
              "              params  split0_test_score  split1_test_score  split2_test_score  \\\n",
              "0  {'alpha': 0.0001}           0.881906           0.863950           0.887353   \n",
              "1   {'alpha': 0.001}           0.881906           0.863950           0.887353   \n",
              "2    {'alpha': 0.01}           0.882597           0.863950           0.888735   \n",
              "3     {'alpha': 0.1}           0.882597           0.863260           0.888735   \n",
              "4       {'alpha': 1}           0.883287           0.859116           0.884589   \n",
              "5      {'alpha': 10}           0.877072           0.849448           0.875605   \n",
              "6     {'alpha': 100}           0.845304           0.827348           0.850035   \n",
              "7    {'alpha': 1000}           0.819061           0.813536           0.835522   \n",
              "\n",
              "   split3_test_score  ...  mean_test_score  std_test_score  rank_test_score  \\\n",
              "0           0.872840  ...         0.879233        0.009654                3   \n",
              "1           0.873531  ...         0.879372        0.009566                1   \n",
              "2           0.872840  ...         0.879372        0.009656                2   \n",
              "3           0.872149  ...         0.879095        0.009971                4   \n",
              "4           0.868694  ...         0.876746        0.011024                5   \n",
              "5           0.854181  ...         0.867488        0.013011                6   \n",
              "6           0.831375  ...         0.842340        0.011375                7   \n",
              "7           0.815480  ...         0.824101        0.010057                8   \n",
              "\n",
              "   split0_train_score  split1_train_score  split2_train_score  \\\n",
              "0            0.888927            0.894455            0.888774   \n",
              "1            0.888582            0.894455            0.888601   \n",
              "2            0.888064            0.894110            0.887910   \n",
              "3            0.886854            0.892900            0.886701   \n",
              "4            0.882709            0.887718            0.882383   \n",
              "5            0.870271            0.878563            0.873057   \n",
              "6            0.845915            0.850233            0.844387   \n",
              "7            0.830541            0.830195            0.824180   \n",
              "\n",
              "   split3_train_score  split4_train_score  mean_train_score  std_train_score  \n",
              "0            0.894819            0.889983          0.891391         0.002685  \n",
              "1            0.894473            0.889465          0.891115         0.002753  \n",
              "2            0.894301            0.889292          0.890735         0.002874  \n",
              "3            0.893092            0.887565          0.889422         0.002933  \n",
              "4            0.887910            0.883247          0.884793         0.002483  \n",
              "5            0.877029            0.870812          0.873946         0.003315  \n",
              "6            0.848877            0.843005          0.846483         0.002706  \n",
              "7            0.828843            0.824007          0.827553         0.002882  \n",
              "\n",
              "[8 rows x 21 columns]"
            ],
            "text/html": [
              "\n",
              "\n",
              "  <div id=\"df-c0b028c3-6953-4c6a-ad0b-b8d480c5e79b\">\n",
              "    <div class=\"colab-df-container\">\n",
              "      <div>\n",
              "<style scoped>\n",
              "    .dataframe tbody tr th:only-of-type {\n",
              "        vertical-align: middle;\n",
              "    }\n",
              "\n",
              "    .dataframe tbody tr th {\n",
              "        vertical-align: top;\n",
              "    }\n",
              "\n",
              "    .dataframe thead th {\n",
              "        text-align: right;\n",
              "    }\n",
              "</style>\n",
              "<table border=\"1\" class=\"dataframe\">\n",
              "  <thead>\n",
              "    <tr style=\"text-align: right;\">\n",
              "      <th></th>\n",
              "      <th>mean_fit_time</th>\n",
              "      <th>std_fit_time</th>\n",
              "      <th>mean_score_time</th>\n",
              "      <th>std_score_time</th>\n",
              "      <th>param_alpha</th>\n",
              "      <th>params</th>\n",
              "      <th>split0_test_score</th>\n",
              "      <th>split1_test_score</th>\n",
              "      <th>split2_test_score</th>\n",
              "      <th>split3_test_score</th>\n",
              "      <th>...</th>\n",
              "      <th>mean_test_score</th>\n",
              "      <th>std_test_score</th>\n",
              "      <th>rank_test_score</th>\n",
              "      <th>split0_train_score</th>\n",
              "      <th>split1_train_score</th>\n",
              "      <th>split2_train_score</th>\n",
              "      <th>split3_train_score</th>\n",
              "      <th>split4_train_score</th>\n",
              "      <th>mean_train_score</th>\n",
              "      <th>std_train_score</th>\n",
              "    </tr>\n",
              "  </thead>\n",
              "  <tbody>\n",
              "    <tr>\n",
              "      <th>0</th>\n",
              "      <td>0.009364</td>\n",
              "      <td>0.001881</td>\n",
              "      <td>0.002115</td>\n",
              "      <td>0.000276</td>\n",
              "      <td>0.0001</td>\n",
              "      <td>{'alpha': 0.0001}</td>\n",
              "      <td>0.881906</td>\n",
              "      <td>0.863950</td>\n",
              "      <td>0.887353</td>\n",
              "      <td>0.872840</td>\n",
              "      <td>...</td>\n",
              "      <td>0.879233</td>\n",
              "      <td>0.009654</td>\n",
              "      <td>3</td>\n",
              "      <td>0.888927</td>\n",
              "      <td>0.894455</td>\n",
              "      <td>0.888774</td>\n",
              "      <td>0.894819</td>\n",
              "      <td>0.889983</td>\n",
              "      <td>0.891391</td>\n",
              "      <td>0.002685</td>\n",
              "    </tr>\n",
              "    <tr>\n",
              "      <th>1</th>\n",
              "      <td>0.007045</td>\n",
              "      <td>0.000980</td>\n",
              "      <td>0.002072</td>\n",
              "      <td>0.000719</td>\n",
              "      <td>0.001</td>\n",
              "      <td>{'alpha': 0.001}</td>\n",
              "      <td>0.881906</td>\n",
              "      <td>0.863950</td>\n",
              "      <td>0.887353</td>\n",
              "      <td>0.873531</td>\n",
              "      <td>...</td>\n",
              "      <td>0.879372</td>\n",
              "      <td>0.009566</td>\n",
              "      <td>1</td>\n",
              "      <td>0.888582</td>\n",
              "      <td>0.894455</td>\n",
              "      <td>0.888601</td>\n",
              "      <td>0.894473</td>\n",
              "      <td>0.889465</td>\n",
              "      <td>0.891115</td>\n",
              "      <td>0.002753</td>\n",
              "    </tr>\n",
              "    <tr>\n",
              "      <th>2</th>\n",
              "      <td>0.006647</td>\n",
              "      <td>0.000605</td>\n",
              "      <td>0.001731</td>\n",
              "      <td>0.000090</td>\n",
              "      <td>0.01</td>\n",
              "      <td>{'alpha': 0.01}</td>\n",
              "      <td>0.882597</td>\n",
              "      <td>0.863950</td>\n",
              "      <td>0.888735</td>\n",
              "      <td>0.872840</td>\n",
              "      <td>...</td>\n",
              "      <td>0.879372</td>\n",
              "      <td>0.009656</td>\n",
              "      <td>2</td>\n",
              "      <td>0.888064</td>\n",
              "      <td>0.894110</td>\n",
              "      <td>0.887910</td>\n",
              "      <td>0.894301</td>\n",
              "      <td>0.889292</td>\n",
              "      <td>0.890735</td>\n",
              "      <td>0.002874</td>\n",
              "    </tr>\n",
              "    <tr>\n",
              "      <th>3</th>\n",
              "      <td>0.006397</td>\n",
              "      <td>0.000396</td>\n",
              "      <td>0.001831</td>\n",
              "      <td>0.000265</td>\n",
              "      <td>0.1</td>\n",
              "      <td>{'alpha': 0.1}</td>\n",
              "      <td>0.882597</td>\n",
              "      <td>0.863260</td>\n",
              "      <td>0.888735</td>\n",
              "      <td>0.872149</td>\n",
              "      <td>...</td>\n",
              "      <td>0.879095</td>\n",
              "      <td>0.009971</td>\n",
              "      <td>4</td>\n",
              "      <td>0.886854</td>\n",
              "      <td>0.892900</td>\n",
              "      <td>0.886701</td>\n",
              "      <td>0.893092</td>\n",
              "      <td>0.887565</td>\n",
              "      <td>0.889422</td>\n",
              "      <td>0.002933</td>\n",
              "    </tr>\n",
              "    <tr>\n",
              "      <th>4</th>\n",
              "      <td>0.008164</td>\n",
              "      <td>0.003004</td>\n",
              "      <td>0.001761</td>\n",
              "      <td>0.000162</td>\n",
              "      <td>1</td>\n",
              "      <td>{'alpha': 1}</td>\n",
              "      <td>0.883287</td>\n",
              "      <td>0.859116</td>\n",
              "      <td>0.884589</td>\n",
              "      <td>0.868694</td>\n",
              "      <td>...</td>\n",
              "      <td>0.876746</td>\n",
              "      <td>0.011024</td>\n",
              "      <td>5</td>\n",
              "      <td>0.882709</td>\n",
              "      <td>0.887718</td>\n",
              "      <td>0.882383</td>\n",
              "      <td>0.887910</td>\n",
              "      <td>0.883247</td>\n",
              "      <td>0.884793</td>\n",
              "      <td>0.002483</td>\n",
              "    </tr>\n",
              "    <tr>\n",
              "      <th>5</th>\n",
              "      <td>0.006828</td>\n",
              "      <td>0.000947</td>\n",
              "      <td>0.001880</td>\n",
              "      <td>0.000217</td>\n",
              "      <td>10</td>\n",
              "      <td>{'alpha': 10}</td>\n",
              "      <td>0.877072</td>\n",
              "      <td>0.849448</td>\n",
              "      <td>0.875605</td>\n",
              "      <td>0.854181</td>\n",
              "      <td>...</td>\n",
              "      <td>0.867488</td>\n",
              "      <td>0.013011</td>\n",
              "      <td>6</td>\n",
              "      <td>0.870271</td>\n",
              "      <td>0.878563</td>\n",
              "      <td>0.873057</td>\n",
              "      <td>0.877029</td>\n",
              "      <td>0.870812</td>\n",
              "      <td>0.873946</td>\n",
              "      <td>0.003315</td>\n",
              "    </tr>\n",
              "    <tr>\n",
              "      <th>6</th>\n",
              "      <td>0.008730</td>\n",
              "      <td>0.002093</td>\n",
              "      <td>0.002365</td>\n",
              "      <td>0.001031</td>\n",
              "      <td>100</td>\n",
              "      <td>{'alpha': 100}</td>\n",
              "      <td>0.845304</td>\n",
              "      <td>0.827348</td>\n",
              "      <td>0.850035</td>\n",
              "      <td>0.831375</td>\n",
              "      <td>...</td>\n",
              "      <td>0.842340</td>\n",
              "      <td>0.011375</td>\n",
              "      <td>7</td>\n",
              "      <td>0.845915</td>\n",
              "      <td>0.850233</td>\n",
              "      <td>0.844387</td>\n",
              "      <td>0.848877</td>\n",
              "      <td>0.843005</td>\n",
              "      <td>0.846483</td>\n",
              "      <td>0.002706</td>\n",
              "    </tr>\n",
              "    <tr>\n",
              "      <th>7</th>\n",
              "      <td>0.009805</td>\n",
              "      <td>0.006064</td>\n",
              "      <td>0.002928</td>\n",
              "      <td>0.001953</td>\n",
              "      <td>1000</td>\n",
              "      <td>{'alpha': 1000}</td>\n",
              "      <td>0.819061</td>\n",
              "      <td>0.813536</td>\n",
              "      <td>0.835522</td>\n",
              "      <td>0.815480</td>\n",
              "      <td>...</td>\n",
              "      <td>0.824101</td>\n",
              "      <td>0.010057</td>\n",
              "      <td>8</td>\n",
              "      <td>0.830541</td>\n",
              "      <td>0.830195</td>\n",
              "      <td>0.824180</td>\n",
              "      <td>0.828843</td>\n",
              "      <td>0.824007</td>\n",
              "      <td>0.827553</td>\n",
              "      <td>0.002882</td>\n",
              "    </tr>\n",
              "  </tbody>\n",
              "</table>\n",
              "<p>8 rows × 21 columns</p>\n",
              "</div>\n",
              "      <button class=\"colab-df-convert\" onclick=\"convertToInteractive('df-c0b028c3-6953-4c6a-ad0b-b8d480c5e79b')\"\n",
              "              title=\"Convert this dataframe to an interactive table.\"\n",
              "              style=\"display:none;\">\n",
              "\n",
              "  <svg xmlns=\"http://www.w3.org/2000/svg\" height=\"24px\"viewBox=\"0 0 24 24\"\n",
              "       width=\"24px\">\n",
              "    <path d=\"M0 0h24v24H0V0z\" fill=\"none\"/>\n",
              "    <path d=\"M18.56 5.44l.94 2.06.94-2.06 2.06-.94-2.06-.94-.94-2.06-.94 2.06-2.06.94zm-11 1L8.5 8.5l.94-2.06 2.06-.94-2.06-.94L8.5 2.5l-.94 2.06-2.06.94zm10 10l.94 2.06.94-2.06 2.06-.94-2.06-.94-.94-2.06-.94 2.06-2.06.94z\"/><path d=\"M17.41 7.96l-1.37-1.37c-.4-.4-.92-.59-1.43-.59-.52 0-1.04.2-1.43.59L10.3 9.45l-7.72 7.72c-.78.78-.78 2.05 0 2.83L4 21.41c.39.39.9.59 1.41.59.51 0 1.02-.2 1.41-.59l7.78-7.78 2.81-2.81c.8-.78.8-2.07 0-2.86zM5.41 20L4 18.59l7.72-7.72 1.47 1.35L5.41 20z\"/>\n",
              "  </svg>\n",
              "      </button>\n",
              "\n",
              "\n",
              "\n",
              "    <div id=\"df-9e1feccb-98e1-49e8-b98f-f167bde2c479\">\n",
              "      <button class=\"colab-df-quickchart\" onclick=\"quickchart('df-9e1feccb-98e1-49e8-b98f-f167bde2c479')\"\n",
              "              title=\"Suggest charts.\"\n",
              "              style=\"display:none;\">\n",
              "\n",
              "<svg xmlns=\"http://www.w3.org/2000/svg\" height=\"24px\"viewBox=\"0 0 24 24\"\n",
              "     width=\"24px\">\n",
              "    <g>\n",
              "        <path d=\"M19 3H5c-1.1 0-2 .9-2 2v14c0 1.1.9 2 2 2h14c1.1 0 2-.9 2-2V5c0-1.1-.9-2-2-2zM9 17H7v-7h2v7zm4 0h-2V7h2v10zm4 0h-2v-4h2v4z\"/>\n",
              "    </g>\n",
              "</svg>\n",
              "      </button>\n",
              "    </div>\n",
              "\n",
              "<style>\n",
              "  .colab-df-quickchart {\n",
              "    background-color: #E8F0FE;\n",
              "    border: none;\n",
              "    border-radius: 50%;\n",
              "    cursor: pointer;\n",
              "    display: none;\n",
              "    fill: #1967D2;\n",
              "    height: 32px;\n",
              "    padding: 0 0 0 0;\n",
              "    width: 32px;\n",
              "  }\n",
              "\n",
              "  .colab-df-quickchart:hover {\n",
              "    background-color: #E2EBFA;\n",
              "    box-shadow: 0px 1px 2px rgba(60, 64, 67, 0.3), 0px 1px 3px 1px rgba(60, 64, 67, 0.15);\n",
              "    fill: #174EA6;\n",
              "  }\n",
              "\n",
              "  [theme=dark] .colab-df-quickchart {\n",
              "    background-color: #3B4455;\n",
              "    fill: #D2E3FC;\n",
              "  }\n",
              "\n",
              "  [theme=dark] .colab-df-quickchart:hover {\n",
              "    background-color: #434B5C;\n",
              "    box-shadow: 0px 1px 3px 1px rgba(0, 0, 0, 0.15);\n",
              "    filter: drop-shadow(0px 1px 2px rgba(0, 0, 0, 0.3));\n",
              "    fill: #FFFFFF;\n",
              "  }\n",
              "</style>\n",
              "\n",
              "    <script>\n",
              "      async function quickchart(key) {\n",
              "        const containerElement = document.querySelector('#' + key);\n",
              "        const charts = await google.colab.kernel.invokeFunction(\n",
              "            'suggestCharts', [key], {});\n",
              "      }\n",
              "    </script>\n",
              "\n",
              "      <script>\n",
              "\n",
              "function displayQuickchartButton(domScope) {\n",
              "  let quickchartButtonEl =\n",
              "    domScope.querySelector('#df-9e1feccb-98e1-49e8-b98f-f167bde2c479 button.colab-df-quickchart');\n",
              "  quickchartButtonEl.style.display =\n",
              "    google.colab.kernel.accessAllowed ? 'block' : 'none';\n",
              "}\n",
              "\n",
              "        displayQuickchartButton(document);\n",
              "      </script>\n",
              "      <style>\n",
              "    .colab-df-container {\n",
              "      display:flex;\n",
              "      flex-wrap:wrap;\n",
              "      gap: 12px;\n",
              "    }\n",
              "\n",
              "    .colab-df-convert {\n",
              "      background-color: #E8F0FE;\n",
              "      border: none;\n",
              "      border-radius: 50%;\n",
              "      cursor: pointer;\n",
              "      display: none;\n",
              "      fill: #1967D2;\n",
              "      height: 32px;\n",
              "      padding: 0 0 0 0;\n",
              "      width: 32px;\n",
              "    }\n",
              "\n",
              "    .colab-df-convert:hover {\n",
              "      background-color: #E2EBFA;\n",
              "      box-shadow: 0px 1px 2px rgba(60, 64, 67, 0.3), 0px 1px 3px 1px rgba(60, 64, 67, 0.15);\n",
              "      fill: #174EA6;\n",
              "    }\n",
              "\n",
              "    [theme=dark] .colab-df-convert {\n",
              "      background-color: #3B4455;\n",
              "      fill: #D2E3FC;\n",
              "    }\n",
              "\n",
              "    [theme=dark] .colab-df-convert:hover {\n",
              "      background-color: #434B5C;\n",
              "      box-shadow: 0px 1px 3px 1px rgba(0, 0, 0, 0.15);\n",
              "      filter: drop-shadow(0px 1px 2px rgba(0, 0, 0, 0.3));\n",
              "      fill: #FFFFFF;\n",
              "    }\n",
              "  </style>\n",
              "\n",
              "      <script>\n",
              "        const buttonEl =\n",
              "          document.querySelector('#df-c0b028c3-6953-4c6a-ad0b-b8d480c5e79b button.colab-df-convert');\n",
              "        buttonEl.style.display =\n",
              "          google.colab.kernel.accessAllowed ? 'block' : 'none';\n",
              "\n",
              "        async function convertToInteractive(key) {\n",
              "          const element = document.querySelector('#df-c0b028c3-6953-4c6a-ad0b-b8d480c5e79b');\n",
              "          const dataTable =\n",
              "            await google.colab.kernel.invokeFunction('convertToInteractive',\n",
              "                                                     [key], {});\n",
              "          if (!dataTable) return;\n",
              "\n",
              "          const docLinkHtml = 'Like what you see? Visit the ' +\n",
              "            '<a target=\"_blank\" href=https://colab.research.google.com/notebooks/data_table.ipynb>data table notebook</a>'\n",
              "            + ' to learn more about interactive tables.';\n",
              "          element.innerHTML = '';\n",
              "          dataTable['output_type'] = 'display_data';\n",
              "          await google.colab.output.renderOutput(dataTable, element);\n",
              "          const docLink = document.createElement('div');\n",
              "          docLink.innerHTML = docLinkHtml;\n",
              "          element.appendChild(docLink);\n",
              "        }\n",
              "      </script>\n",
              "    </div>\n",
              "  </div>\n"
            ]
          },
          "metadata": {},
          "execution_count": 58
        }
      ]
    },
    {
      "cell_type": "code",
      "source": [
        "sns.lineplot(x=results['param_alpha'],y=results['mean_train_score'])\n",
        "sns.lineplot(x=results['param_alpha'],y=results['mean_test_score'])"
      ],
      "metadata": {
        "colab": {
          "base_uri": "https://localhost:8080/",
          "height": 467
        },
        "id": "IfRNFHYcHOys",
        "outputId": "7eeedb4a-4a7e-4c7e-bd36-2e8c28ca21c3"
      },
      "execution_count": null,
      "outputs": [
        {
          "output_type": "execute_result",
          "data": {
            "text/plain": [
              "<Axes: xlabel='param_alpha', ylabel='mean_train_score'>"
            ]
          },
          "metadata": {},
          "execution_count": 59
        },
        {
          "output_type": "display_data",
          "data": {
            "text/plain": [
              "<Figure size 640x480 with 1 Axes>"
            ],
            "image/png": "[encoded data removed]"
          },
          "metadata": {}
        }
      ]
    },
    {
      "cell_type": "markdown",
      "source": [
        "##Surprisingly increasing test sample to make it balance reduces accuracy\n",
        "## maybe because creating artificial data point cannot mimic the text characterstics of spam efficiently thatswhy some of them increases chances of resemblance with non spam mails so smote dont work here"
      ],
      "metadata": {
        "id": "RiNg_o3zJQq5"
      }
    },
    {
      "cell_type": "code",
      "source": [],
      "metadata": {
        "id": "2obh8AXOHbfX"
      },
      "execution_count": null,
      "outputs": []
    },
    {
      "cell_type": "code",
      "source": [],
      "metadata": {
        "id": "AunfLyy4KNAc"
      },
      "execution_count": null,
      "outputs": []
    },
    {
      "cell_type": "code",
      "source": [],
      "metadata": {
        "id": "7hDyhy2iLVR7"
      },
      "execution_count": null,
      "outputs": []
    }
  ]
}